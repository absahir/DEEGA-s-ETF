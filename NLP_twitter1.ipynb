{
 "cells": [
  {
   "cell_type": "code",
   "execution_count": 122,
   "id": "connected-survey",
   "metadata": {},
   "outputs": [
    {
     "name": "stderr",
     "output_type": "stream",
     "text": [
      "[nltk_data] Downloading package punkt to /Users/gaby/nltk_data...\n",
      "[nltk_data]   Package punkt is already up-to-date!\n"
     ]
    },
    {
     "data": {
      "text/plain": [
       "True"
      ]
     },
     "execution_count": 122,
     "metadata": {},
     "output_type": "execute_result"
    }
   ],
   "source": [
    "#Imports \n",
    "import os\n",
    "import tweepy\n",
    "import re\n",
    "import yfinance as yf\n",
    "import pandas as pd\n",
    "import matplotlib.pyplot as plt\n",
    "import seaborn as sns\n",
    "import pandas as pd\n",
    "import datetime\n",
    "import time\n",
    "import requests\n",
    "import numpy as np\n",
    "from dotenv import load_dotenv\n",
    "load_dotenv('API.env')\n",
    "import panel as pn\n",
    "from nltk.tokenize import word_tokenize\n",
    "import nltk\n",
    "nltk.download('punkt')"
   ]
  },
  {
   "cell_type": "code",
   "execution_count": 123,
   "id": "hollywood-banana",
   "metadata": {},
   "outputs": [
    {
     "data": {
      "text/plain": [
       "<function TextIOWrapper.close()>"
      ]
     },
     "execution_count": 123,
     "metadata": {},
     "output_type": "execute_result"
    }
   ],
   "source": [
    "f = open('Feb15_18.txt', 'r', encoding= \"utf8\")\n",
    "a = f.read()\n",
    "f.close\n",
    "#print(a)"
   ]
  },
  {
   "cell_type": "code",
   "execution_count": 124,
   "id": "three-ebony",
   "metadata": {},
   "outputs": [
    {
     "name": "stderr",
     "output_type": "stream",
     "text": [
      "[nltk_data] Downloading package stopwords to /Users/gaby/nltk_data...\n",
      "[nltk_data]   Package stopwords is already up-to-date!\n",
      "[nltk_data] Downloading package reuters to /Users/gaby/nltk_data...\n",
      "[nltk_data]   Package reuters is already up-to-date!\n",
      "[nltk_data] Downloading package punkt to /Users/gaby/nltk_data...\n",
      "[nltk_data]   Package punkt is already up-to-date!\n"
     ]
    },
    {
     "data": {
      "text/plain": [
       "True"
      ]
     },
     "execution_count": 124,
     "metadata": {},
     "output_type": "execute_result"
    }
   ],
   "source": [
    "from nltk.corpus import reuters, stopwords\n",
    "from nltk.tokenize import word_tokenize, sent_tokenize\n",
    "\n",
    "# Code to download corpora\n",
    "import nltk\n",
    "nltk.download('stopwords')\n",
    "nltk.download('reuters')\n",
    "nltk.download('punkt')"
   ]
  },
  {
   "cell_type": "code",
   "execution_count": 125,
   "id": "becoming-square",
   "metadata": {},
   "outputs": [
    {
     "data": {
      "text/html": [
       "<div>\n",
       "<style scoped>\n",
       "    .dataframe tbody tr th:only-of-type {\n",
       "        vertical-align: middle;\n",
       "    }\n",
       "\n",
       "    .dataframe tbody tr th {\n",
       "        vertical-align: top;\n",
       "    }\n",
       "\n",
       "    .dataframe thead th {\n",
       "        text-align: right;\n",
       "    }\n",
       "</style>\n",
       "<table border=\"1\" class=\"dataframe\">\n",
       "  <thead>\n",
       "    <tr style=\"text-align: right;\">\n",
       "      <th></th>\n",
       "      <th>Twitter_sentences</th>\n",
       "    </tr>\n",
       "  </thead>\n",
       "  <tbody>\n",
       "    <tr>\n",
       "      <th>0</th>\n",
       "      <td>These are the near term VWAP levels of intere...</td>\n",
       "    </tr>\n",
       "    <tr>\n",
       "      <th>1</th>\n",
       "      <td>:) explained here\\n\\nhttps://t.co/rrmWeUOQtn h...</td>\n",
       "    </tr>\n",
       "    <tr>\n",
       "      <th>2</th>\n",
       "      <td>@MikeBD_ no I did not imply that, I implied th...</td>\n",
       "    </tr>\n",
       "    <tr>\n",
       "      <th>3</th>\n",
       "      <td>Osprey Bitcoin Trust Begins Trading as “OBTC” ...</td>\n",
       "    </tr>\n",
       "    <tr>\n",
       "      <th>4</th>\n",
       "      <td>I did not expect this stock to bounce from tha...</td>\n",
       "    </tr>\n",
       "    <tr>\n",
       "      <th>5</th>\n",
       "      <td>Canada Passes Single-Game Sports Betting Bill ...</td>\n",
       "    </tr>\n",
       "    <tr>\n",
       "      <th>6</th>\n",
       "      <td>This week Benzinga Cannabis is doing a deep d…...</td>\n",
       "    </tr>\n",
       "    <tr>\n",
       "      <th>7</th>\n",
       "      <td>@rfaloona\\n\\nBenzinga Pro Happy Hour | https:/...</td>\n",
       "    </tr>\n",
       "    <tr>\n",
       "      <th>8</th>\n",
       "      <td>Benzinga Pro Happy Hour with @rfaloona\\n\\nBenz...</td>\n",
       "    </tr>\n",
       "    <tr>\n",
       "      <th>9</th>\n",
       "      <td>Let @WarriorTrading help you with the… https:/...</td>\n",
       "    </tr>\n",
       "  </tbody>\n",
       "</table>\n",
       "</div>"
      ],
      "text/plain": [
       "                                   Twitter_sentences\n",
       "0   These are the near term VWAP levels of intere...\n",
       "1  :) explained here\\n\\nhttps://t.co/rrmWeUOQtn h...\n",
       "2  @MikeBD_ no I did not imply that, I implied th...\n",
       "3  Osprey Bitcoin Trust Begins Trading as “OBTC” ...\n",
       "4  I did not expect this stock to bounce from tha...\n",
       "5  Canada Passes Single-Game Sports Betting Bill ...\n",
       "6  This week Benzinga Cannabis is doing a deep d…...\n",
       "7  @rfaloona\\n\\nBenzinga Pro Happy Hour | https:/...\n",
       "8  Benzinga Pro Happy Hour with @rfaloona\\n\\nBenz...\n",
       "9  Let @WarriorTrading help you with the… https:/..."
      ]
     },
     "execution_count": 125,
     "metadata": {},
     "output_type": "execute_result"
    }
   ],
   "source": [
    "sentence = sent_tokenize(a)\n",
    "#print(sentence)\n",
    "twitter_df=pd.DataFrame({'Twitter_sentences': sentence})\n",
    "twitter_df.head(10)\n",
    "#twitter_df.tail(10)"
   ]
  },
  {
   "cell_type": "code",
   "execution_count": 126,
   "id": "passing-allah",
   "metadata": {},
   "outputs": [
    {
     "data": {
      "text/html": [
       "<div>\n",
       "<style scoped>\n",
       "    .dataframe tbody tr th:only-of-type {\n",
       "        vertical-align: middle;\n",
       "    }\n",
       "\n",
       "    .dataframe tbody tr th {\n",
       "        vertical-align: top;\n",
       "    }\n",
       "\n",
       "    .dataframe thead th {\n",
       "        text-align: right;\n",
       "    }\n",
       "</style>\n",
       "<table border=\"1\" class=\"dataframe\">\n",
       "  <thead>\n",
       "    <tr style=\"text-align: right;\">\n",
       "      <th></th>\n",
       "      <th>Twitter_sentences</th>\n",
       "    </tr>\n",
       "  </thead>\n",
       "  <tbody>\n",
       "    <tr>\n",
       "      <th>3444</th>\n",
       "      <td>Set goal… TA: Why Ethereum Could Rally To $2,0...</td>\n",
       "    </tr>\n",
       "    <tr>\n",
       "      <th>3445</th>\n",
       "      <td>Hear from Tony Dwyer and the @MarketRebels tra...</td>\n",
       "    </tr>\n",
       "    <tr>\n",
       "      <th>3446</th>\n",
       "      <td>Secure your… Futures looking pretty https://t....</td>\n",
       "    </tr>\n",
       "    <tr>\n",
       "      <th>3447</th>\n",
       "      <td>Reporting this week:\\n\\nTuesday - $PLTR $CVS $...</td>\n",
       "    </tr>\n",
       "    <tr>\n",
       "      <th>3448</th>\n",
       "      <td>Hear from Tony Dwyer and the @MarketRebels tra...</td>\n",
       "    </tr>\n",
       "    <tr>\n",
       "      <th>3449</th>\n",
       "      <td>Secure your… RT @chrisjreichel: Warren Buffett...</td>\n",
       "    </tr>\n",
       "    <tr>\n",
       "      <th>3450</th>\n",
       "      <td>Register here: http… $AAPL approached Nissan o...</td>\n",
       "    </tr>\n",
       "    <tr>\n",
       "      <th>3451</th>\n",
       "      <td>Among the News Corp publications joining Go… h...</td>\n",
       "    </tr>\n",
       "    <tr>\n",
       "      <th>3452</th>\n",
       "      <td>Origin Materials to Combine with Artius $AACQ,...</td>\n",
       "    </tr>\n",
       "    <tr>\n",
       "      <th>3453</th>\n",
       "      <td>Battery recycler Li-Cycle nears SPAC deal to g...</td>\n",
       "    </tr>\n",
       "  </tbody>\n",
       "</table>\n",
       "</div>"
      ],
      "text/plain": [
       "                                      Twitter_sentences\n",
       "3444  Set goal… TA: Why Ethereum Could Rally To $2,0...\n",
       "3445  Hear from Tony Dwyer and the @MarketRebels tra...\n",
       "3446  Secure your… Futures looking pretty https://t....\n",
       "3447  Reporting this week:\\n\\nTuesday - $PLTR $CVS $...\n",
       "3448  Hear from Tony Dwyer and the @MarketRebels tra...\n",
       "3449  Secure your… RT @chrisjreichel: Warren Buffett...\n",
       "3450  Register here: http… $AAPL approached Nissan o...\n",
       "3451  Among the News Corp publications joining Go… h...\n",
       "3452  Origin Materials to Combine with Artius $AACQ,...\n",
       "3453  Battery recycler Li-Cycle nears SPAC deal to g..."
      ]
     },
     "execution_count": 126,
     "metadata": {},
     "output_type": "execute_result"
    }
   ],
   "source": [
    "twitter_df.tail(10)"
   ]
  },
  {
   "cell_type": "code",
   "execution_count": 127,
   "id": "decent-capacity",
   "metadata": {},
   "outputs": [
    {
     "name": "stdout",
     "output_type": "stream",
     "text": [
      " These are the near term VWAP levels of interest  in $SPY\n",
      "Green- most recent pullback low\n",
      "Blue- YTD\n",
      "Red- Nov gap hig… https://t.co/1wDAP7yRyv @RampCapitalLLC careful what u wish for @SPYJared what could go wrong?\n"
     ]
    }
   ],
   "source": [
    "sentence3 = sent_tokenize(a)[0]\n",
    "print(sentence3)"
   ]
  },
  {
   "cell_type": "code",
   "execution_count": 128,
   "id": "collect-hygiene",
   "metadata": {},
   "outputs": [
    {
     "name": "stdout",
     "output_type": "stream",
     "text": [
      ":) explained here\n",
      "\n",
      "https://t.co/rrmWeUOQtn https://t.co/25WpC9jFcW @SunriseTrader @theEquilibrium great hold!\n"
     ]
    }
   ],
   "source": [
    "sentence = sent_tokenize(a)[1]\n",
    "print(sentence)"
   ]
  },
  {
   "cell_type": "code",
   "execution_count": 129,
   "id": "alleged-cargo",
   "metadata": {},
   "outputs": [
    {
     "name": "stdout",
     "output_type": "stream",
     "text": [
      "@MikeBD_ no I did not imply that, I implied they should look into the other one @MikeBD_ attitude of complacency which will come to get you RT @OspreyFunds: Let's Go!\n"
     ]
    }
   ],
   "source": [
    "sentence3 = sent_tokenize(a)[2]\n",
    "print(sentence3)"
   ]
  },
  {
   "cell_type": "code",
   "execution_count": 130,
   "id": "hundred-income",
   "metadata": {},
   "outputs": [
    {
     "name": "stdout",
     "output_type": "stream",
     "text": [
      "Osprey Bitcoin Trust Begins Trading as “OBTC” With Industry-Low Management Fee $OBTC\n",
      "\n",
      "https://t.co/KDNdehhzwP @BornInvestor There are no legal copies of an ebook, if you purchase one or someone shares it is considered stolen.… https://t.co/tCn225O1Ph There are still a lot of great setups from tight consolidations out there, but dont let your guard down, risk manag… https://t.co/Pve2XdrJCQ @theAstroknot801 @tbohen great to hear!\n"
     ]
    }
   ],
   "source": [
    "sentence4 = sent_tokenize(a)[3]\n",
    "print(sentence4)"
   ]
  },
  {
   "cell_type": "code",
   "execution_count": 133,
   "id": "defined-corner",
   "metadata": {},
   "outputs": [
    {
     "name": "stdout",
     "output_type": "stream",
     "text": [
      "['$SPH', '$NRG', '$USO', '$SMH', '$SOS', '$UPS', '$WMT', '$RL...', '$PLTR', '$CVS', '$AAPL', '$AACQ,...']\n"
     ]
    }
   ],
   "source": [
    "#trying to get the sentences from twitter\n",
    "sentences_twitter = re.findall(r'[$][A-Za-z][\\S]*', str(twitter_df)) \n",
    "print(sentences_twitter)"
   ]
  },
  {
   "cell_type": "code",
   "execution_count": 134,
   "id": "funded-destination",
   "metadata": {},
   "outputs": [
    {
     "name": "stdout",
     "output_type": "stream",
     "text": [
      "                                      Twitter_sentences\n",
      "0      These are the near term VWAP levels of intere...\n",
      "3     Osprey Bitcoin Trust Begins Trading as “OBTC” ...\n",
      "4     I did not expect this stock to bounce from tha...\n",
      "5     Canada Passes Single-Game Sports Betting Bill ...\n",
      "6     This week Benzinga Cannabis is doing a deep d…...\n",
      "7     @rfaloona\\n\\nBenzinga Pro Happy Hour | https:/...\n",
      "11    @RyanOndough @tradewithdough @LukeJacobi\\n\\nBe...\n",
      "13    Starting 2:00PM… https://t.co/WUHe03cwOE The w...\n",
      "19    $SPH $NRG $USO @LukeJacobi is taking live call...\n",
      "24    #Bitcoin https://t.co/nSgqlmFdrj ACE Convergen...\n",
      "25    Pure play in Data Acceleration Solution.… http...\n",
      "30    $CLVS \"Hot hot hot, spicy stock\"  $FUBO  @neal...\n",
      "32    On PreMarket Prep https://t.co/b2MOdVMvJJ http...\n",
      "34    | Benzinga Live Stock Market https://t.co/YudF...\n",
      "35    Elon Musk Thinks It Could Be Robinhood $DOGE $...\n",
      "36    Email cooljobs@benzinga.com if you want to joi...\n",
      "38    Or, all day for that matter, if you… TikTok In...\n",
      "43    | \\nSPACs Attack: https://t.co/hheADNKh6c |\\n$...\n",
      "47    This week we explore Subversive Capital Acquis...\n",
      "48    $CCIV $SOS $TIGR… https://t.co/Keiyj7cQMX \"Wit...\n",
      "52    @OptionsLearn @SJisrael\\n\\nLive… https://t.co/...\n",
      "53    \"… https://t.co/UVPcw7TeB1 Breaking: Kevin Tra...\n",
      "56    $VISL \\n\"We potentially made you a lot of mone...\n",
      "62    @Hugh_Henne made the case for $TRCH last Frida...\n",
      "63    🚀… https://t.co/5WvusWDtwi $SCKT Socket Mobil ...\n",
      "65    Read more: https://t.co/pQsImF7PLP $MP taking ...\n",
      "69    Words of wisdom provided by @nargis007\\n\\nGet ...\n",
      "73    - $VET $BNGO $SHIP $XOM $NVDA $MSF… \"I like th...\n",
      "74    Start Your Morning With Benzinga,\\nRecap of th...\n",
      "75    'Transportation' Dwarfs 'Smartphone' Market, S...\n",
      "...                                                 ...\n",
      "3403  https://t.co/9OWmJkskvL On January 13 @PeteNaj...\n",
      "3404  The stock is up 13.3% after hours today and up...\n",
      "3405  Those cal… RT @Vincentini: Rolling $RIOT calls...\n",
      "3406  Thanks to the folks at @MarketRebels @petenaja...\n",
      "3410  Watch the full replay of… https://t.co/vA8m0na...\n",
      "3411  You can follow $BTC and other cryptocurrencies...\n",
      "3412  Well, you can now watch the… https://t.co/x5jE...\n",
      "3413  Early volume leaders\\n\\n$SNDL 210m\\n$ONTX 135m...\n",
      "3415  $LODE bulls score at highs \\nhttps://t.co/MThq...\n",
      "3416  Lesson: if you give the American consumer free...\n",
      "3418  You can follow $BTC and other cryptocurrencies...\n",
      "3423  We had some #UnusualActivity in $XLF $DVN $LVS...\n",
      "3424  https://t.co/KHRcJvylmv China’s Cryptocurrency...\n",
      "3428  Secure your seat: https://t.co/F08e4P8qvD http...\n",
      "3429  Pete Najarian saw #UnusualActivity in $SMH &am...\n",
      "3430  Want more Unusua… https://t.co/pO8QZcd0GV Mark...\n",
      "3431  Honorable mentions\\n\\n$SOS 206k (90% call 10% ...\n",
      "3432  $UPS closes Worldport Monday night because of ...\n",
      "3433  https://t.co/MyehsKTVZR $WMT https://t.co/Kc6p...\n",
      "3437  You won’t want to miss this… https://t.co/88Ir...\n",
      "3439  https://t.co/Z72anfonXC Early Top Gainers: $RL...\n",
      "3440  https://t.co/n2lgugOkLI RT @jonnajarian: ⏱️60 ...\n",
      "3441  You can follow #bitcoin  and other cryptocurre...\n",
      "3446  Secure your… Futures looking pretty https://t....\n",
      "3447  Reporting this week:\\n\\nTuesday - $PLTR $CVS $...\n",
      "3449  Secure your… RT @chrisjreichel: Warren Buffett...\n",
      "3450  Register here: http… $AAPL approached Nissan o...\n",
      "3451  Among the News Corp publications joining Go… h...\n",
      "3452  Origin Materials to Combine with Artius $AACQ,...\n",
      "3453  Battery recycler Li-Cycle nears SPAC deal to g...\n",
      "\n",
      "[1191 rows x 1 columns]\n"
     ]
    }
   ],
   "source": [
    "#Putting any cashtag into a dataframe\n",
    "new_df = twitter_df[twitter_df['Twitter_sentences'].str.contains('[$][A-Za-z][\\S]*')]\n",
    "print(new_df)"
   ]
  },
  {
   "cell_type": "code",
   "execution_count": 135,
   "id": "alpha-solomon",
   "metadata": {},
   "outputs": [
    {
     "name": "stdout",
     "output_type": "stream",
     "text": [
      "                                      Twitter_sentences\n",
      "5     Canada Passes Single-Game Sports Betting Bill ...\n",
      "6     This week Benzinga Cannabis is doing a deep d…...\n",
      "13    Starting 2:00PM… https://t.co/WUHe03cwOE The w...\n",
      "24    #Bitcoin https://t.co/nSgqlmFdrj ACE Convergen...\n",
      "25    Pure play in Data Acceleration Solution.… http...\n",
      "32    On PreMarket Prep https://t.co/b2MOdVMvJJ http...\n",
      "34    | Benzinga Live Stock Market https://t.co/YudF...\n",
      "35    Elon Musk Thinks It Could Be Robinhood $DOGE $...\n",
      "36    Email cooljobs@benzinga.com if you want to joi...\n",
      "38    Or, all day for that matter, if you… TikTok In...\n",
      "43    | \\nSPACs Attack: https://t.co/hheADNKh6c |\\n$...\n",
      "47    This week we explore Subversive Capital Acquis...\n",
      "48    $CCIV $SOS $TIGR… https://t.co/Keiyj7cQMX \"Wit...\n",
      "56    $VISL \\n\"We potentially made you a lot of mone...\n",
      "62    @Hugh_Henne made the case for $TRCH last Frida...\n",
      "63    🚀… https://t.co/5WvusWDtwi $SCKT Socket Mobil ...\n",
      "65    Read more: https://t.co/pQsImF7PLP $MP taking ...\n",
      "75    'Transportation' Dwarfs 'Smartphone' Market, S...\n",
      "85    See why over 250,000+ trader… https://t.co/dGA...\n",
      "93    https://t.co/HgxN3aTroP $AUY, $PLTR, $CVS, $FT...\n",
      "111   $LUMBER https://t.co/zSwt0eLiIx Copper closes ...\n",
      "121   Done taking a piss.” Here's how you can hang o...\n",
      "125   https://t.co/ZEdLpKq6Wt $TIGR - Reduced per my...\n",
      "126   https://t.co/6upA75F5X4 $ROKU - A market leade...\n",
      "128   https://t.co/GLEzHoGmuh $BYND - Good gains and...\n",
      "129   $SPY $QQQ $SPX… https://t.co/otzBSofyJB Short ...\n",
      "136   $TLRY #marijuanastocks #cannabisstocks\\nhttps:...\n",
      "146   $TSLA #electricvehicles https://t.co/A3HVF794w...\n",
      "150   $PLTR https://t.co/Sm3E23cMPb Find the best gr...\n",
      "156   Recent market action suggest investors should ...\n",
      "...                                                 ...\n",
      "3254  Now Texas .. https://t.co/CapVmhHJjX $BB  CANA...\n",
      "3255  O… “Most crowded trade” https://t.co/D27b0xupr...\n",
      "3256  @elerianm talks inflation fears, Fed expectati...\n",
      "3260  https://t.co/8WPLED2apT Israeli study finds 94...\n",
      "3290  Top holdings include $TSLA $AAPL $MSFT $AMZN $...\n",
      "3366  $PTON time “Now do Japan” is about to stop bei...\n",
      "3367  RT @FirstSquawk: FED MINUTES: A FEW FED OFFICI...\n",
      "3377  STRENGTH POT… https://t.co/g2Vgp4b0Xz $MSTR MI...\n",
      "3404  The stock is up 13.3% after hours today and up...\n",
      "3405  Those cal… RT @Vincentini: Rolling $RIOT calls...\n",
      "3406  Thanks to the folks at @MarketRebels @petenaja...\n",
      "3410  Watch the full replay of… https://t.co/vA8m0na...\n",
      "3411  You can follow $BTC and other cryptocurrencies...\n",
      "3412  Well, you can now watch the… https://t.co/x5jE...\n",
      "3413  Early volume leaders\\n\\n$SNDL 210m\\n$ONTX 135m...\n",
      "3415  $LODE bulls score at highs \\nhttps://t.co/MThq...\n",
      "3416  Lesson: if you give the American consumer free...\n",
      "3423  We had some #UnusualActivity in $XLF $DVN $LVS...\n",
      "3424  https://t.co/KHRcJvylmv China’s Cryptocurrency...\n",
      "3430  Want more Unusua… https://t.co/pO8QZcd0GV Mark...\n",
      "3431  Honorable mentions\\n\\n$SOS 206k (90% call 10% ...\n",
      "3437  You won’t want to miss this… https://t.co/88Ir...\n",
      "3439  https://t.co/Z72anfonXC Early Top Gainers: $RL...\n",
      "3440  https://t.co/n2lgugOkLI RT @jonnajarian: ⏱️60 ...\n",
      "3441  You can follow #bitcoin  and other cryptocurre...\n",
      "3447  Reporting this week:\\n\\nTuesday - $PLTR $CVS $...\n",
      "3450  Register here: http… $AAPL approached Nissan o...\n",
      "3451  Among the News Corp publications joining Go… h...\n",
      "3452  Origin Materials to Combine with Artius $AACQ,...\n",
      "3453  Battery recycler Li-Cycle nears SPAC deal to g...\n",
      "\n",
      "[391 rows x 1 columns]\n"
     ]
    }
   ],
   "source": [
    "#Putting any specific cashtag into the dataframe\n",
    "PLTR_df = new_df[new_df['Twitter_sentences'].str.contains('[$][PLTR][\\S]*')]\n",
    "print(PLTR_df)"
   ]
  },
  {
   "cell_type": "code",
   "execution_count": 136,
   "id": "comparable-karma",
   "metadata": {},
   "outputs": [
    {
     "name": "stdout",
     "output_type": "stream",
     "text": [
      "                                      Twitter_sentences\n",
      "563   Besides all the cash flow opportunities… https...\n",
      "580   Watch the 50day https://t.co/41LhUTVsZ8 https:...\n",
      "587                   I did leave $riot from $4 to $25.\n",
      "600   Not after the fact https://t.co/G5HlpoK6zQ my ...\n",
      "602   On Friday it gave us another dip to buy… https...\n",
      "615   Must be the big forehead https://t.co/7IL2SVC0...\n",
      "618   We fear our thoughts that convince us there is...\n",
      "638   $gwph https://t.co/D2G4hTeqG5 Wow, my friend @...\n",
      "1774  #GiddyUp @MarketRebels https://t.co/7CQHvAvDoT...\n",
      "3160                            $eh reminds of $lk now.\n",
      "3185  RT @rkblack11: @timothysykes @mmhincapiee @hix...\n"
     ]
    }
   ],
   "source": [
    "#Putting any specific cashtag in lowercase form into the dataframe\n",
    "PLTR_df2 = new_df[new_df['Twitter_sentences'].str.contains('[$][pltr][\\S]*')]\n",
    "print(PLTR_df2)"
   ]
  },
  {
   "cell_type": "code",
   "execution_count": 137,
   "id": "natural-barrier",
   "metadata": {},
   "outputs": [
    {
     "name": "stdout",
     "output_type": "stream",
     "text": [
      "RT @rkblack11: @timothysykes @mmhincapiee @hixstr @ItsAirplaneJane @TessaLamping @timothysykes yall probably don’t know because she is supe… @bobcatman70 @karanakhanna25 @Mariyash95 correction, I have NEVER shorted $TSNP, you can see ALL my trades at… https://t.co/AHgogDNZrw RT @CodyHodges4: The worse part is  , Sykes was right ... 😢 $tsnp @CodyHodges4 Surprise, I’ve been doing this 20+ years, this ain’t my first pump @koolvaguy Get in my https://t.co/occ8wKmlgm for q&amp;a @karanakhanna25 @Mariyash95 Lol brainwashed newbies never learn @SimonFUTURE2 Solid!\n"
     ]
    }
   ],
   "source": [
    "#print(PLTR_df)\n",
    "sentence3185 = sent_tokenize(a)[3185]\n",
    "print(sentence3185)"
   ]
  },
  {
   "cell_type": "code",
   "execution_count": 138,
   "id": "underlying-soundtrack",
   "metadata": {},
   "outputs": [
    {
     "name": "stdout",
     "output_type": "stream",
     "text": [
      "['$SPY', '$OBTC', '$AGFY', '#Bitcoin', '$GME', '$IBKR', '$VRTU', '$GME', '$FUNFF', '$TSCRF', '$DKNG', '$SKLZ', '$PENN', '$EH', '$LKNCY', '$TAL', '$SBVCF', '$PLTR', '$BTC', '$KMPH', '$BTC', '$ETH', '$PLTR', '$SPH', '$NRG', '$USO', '#Bitcoin', '$BTC', '$RIOT', '$MARA', '$ACEV', '$FPRX', '$NNDM', '$EBON', '$BNGO', '$OXY', '$XOM', '$SHIP', '$FUBO', '$NVDA', '$LTC', '$CLVS', '$FUBO', '$TSLA', '$BTC', '$PLTR', '$VZ', '$CVX', '#Bitcoin', '$BTC', '$NVS', '$EXAS', '$MREO', '$RHHBY', '$BTC', '$ETH', '$DOGE', '$ADA', '$DOT', '$GRT', '$TSLA', '$SQ', '$DOGE', '$TSLA', '$MSFT', '$TSLA', '$AAPL', '$BRK.A', '$BRK.B…', '$TSLA', '$BTC', '$DOGE', '$MARS', '$FB', '$SNAP', '$TWTR', '$ORCL', '$WMT', '$TRCH', '$TRCH', '$CCIV', '$RPLA', '$FSR', '$SPCE', '$CLMF', '$RIDE…', '$IPOG', '$IPOH', '$IPOI…', '$GNRC', '$NRG', '$PPSI', '$VST', '#Bitcoin', '$TSLA', '$BTC', '$SCKT', '$TCRH', '#Dan', '$PLTR', '$CCIV', '$SOS', '$TIGR…', '$PLTR', '$HYLN', '$BTC', '$CCIV', '$VISL', '$VISL', '$TRCH', '$OXY', '$BNGO', '$SHIP', '$XOM', '$VET', '$NVDA', '$YJ', '$EBON', '$NNDM', '$MSFT', '$LTC', '$MAR', '$SOS', '$TRCH', '$SCKT', '#SPACs', '$NSTB', '$GRSV', '$AACQ', '$JACK', '$PLAY', '$BFI', '$MP', '$HYLN', '$STIC', '$RTP', '$TSIA', '$FSR', '$DMYD', '$CLVR', '#spacs', '#spacsquad', '$SHIP', '$VET', '$BNGO', '$SHIP', '$XOM', '$NVDA', '$MSF…', '$BTC', '$SCKT', '$BTC', '$NFLX', '$DIS', '$BTC', '$BTC', '$GRT', '$RVN', '$ICX', '$BTG', '$DASH', '$LSK', '$DOGE', '$BTC', '$TSLA', '$SNE', '#StockMarkets', '#technicalanalysis', '#charts', '$IBB', '$XBI', \"#KHRN's\", '$AAPL', '$VLKAF', '$HUBS', '$FB', '$AAPL', '$COH', '$COTY', '$CPRI', '$LVMUY', '$RL', '$REAL', '$GOOS', '$PRUY', '$FTCH', '$EL…', '$TRCH', '$BAC', '$CELH', '$AMZN', '$KO', '$WMT', '$GM', '$XOM…', '$AMZN', '#stocks', '$QS', '$EBON', '#stocks', '$AAPL', '$AUY,', '$PLTR,', '$CVS,', '$FTI', '$CCL,', '$T,', '$VALE,', '$BAC,', '$HST', '$CMLF', '$FAMI', '$EPIX', '$BLIAQ:', '$GME:', '$KOSS:', '$EXPR:', '$UBER', '$BTC', '$CRB', '$ZROZ', '$LUMBER', '$COPPER', '$WTIC', '$BTC', '$BTC', '$SPX', '$RIOT', '$ZM', '$YALA', '$TIGR', '$ROKU', '$EXPI', '$BYND', '$BILI', '#earnings', '$CSOD', '$WING', '$KAR', '$CAI', '$HEES', '$BPMC', '$LZB', '$KRNT', '$CRK', '$EQT', '$CMP', '$CRSP…', '#earnings', '$WMT', '$FVRR', '$GOLD', '$WM', '$NEM', '$APRN', '$HRL', '$MAR', '$FE', '$WST…', '#earnings', '$TLRY', '$FSLY', '$TWLO', '$BIDU', '$SPWR', '$STMP', '$SAM', '$MRO', '$ET', '$SNBR', '$NVTA…', '#earnings', '$SPY', '$QQQ', '$SPX…', '$ADI', '#earnings', '#earnings', '$SHOP', '$WIX', '$WING', '$ADI', '$PTN', '$GRMN', '$HLT', '$TSEM', '$DAVA…', '#earnings', '$SEDG', '$RNG', '$OXY', '$A', '$EXAS', '$BYD', '$LZB', '$DVN', '$LSCC…', '#earnings', '#volatility', '$NEX', '$APRN', '$CNDT', '$BXRX', '$CASA…', '#InvestingWithIBD!', '#InvestingWithIBD.', '$TLRY', '#marijuanastocks', '#cannabisstocks', '$WFC', '$CLF', '$AMZN', '$EQT', '#ibdstockoftheday…', '#stocks', '#stocks,', '#warrenbuffett', '$BRKB', '$CAT', '#ibdstockoftheday', '#stockstowatch', '$JPM', '$CAT', '$AAPL', '$TSLA', '#electricvehicles', '#investing', '#stocks', '#stockmarket', '#earnings', '$PLTR', '#stocks', '#PresidentsDay!', '#stocks', '#InvestingwithIBD!', '$GME', '$TSLA', '#BTC', '#BTC', '#Bitcoin', '$DIA', '$SPY', '$QQQ', '$F', '#BTC', '#Bitcoin', '$CVX', '$VZ', '$AAPL', '$FB', '$AMZN…', '#Top5ThingsToKnowToday:', '$SHOP', '$WIX', '$HLT', '$SHOP', '#BTC…', '$FB', '#DOGE', '#Dogecoin', '$USD', '$JPY', '$DIA', '$SPY', '$QQQ', '$EUR', '#BTC', '#ETH', '#USDT', '#DOT', '#ADA', '#XRP', '#BNB', '#LTC', '#BCH', '#LINK', '#BTC', '#BITCOIN', '#BTC', '#BITCOIN', '#BTC', '#BITCOIN', '$VZ', '$CVX', '#BTC', '#Bitcoin', '$GME', '$DIA…', '$CCIV', '#bitcoin', '$MSTR', '#BTC', '$C', '$TSLA', '$AMZN', '$AAPL', '$PLTR', '$FUTU', '$BABA', '$PYPL', '$NVDA', '$FB', '$MSFT', '#BTC', '#Bitcoin', '$PLTR', '$DIA', '$SPY', '$QQQ', '$PLTR', '#BTC', '#BITCOIN', '#Top5ThingsToKnowToday:', '$PLTR', '$CV…', '#BTC', '#BITCOIN', '$USD', '#BTC', '#ETH', '#USDT', '#ADA', '#DOT', '#XRP', '#BNB', '#LTC', '#LINK', '#BCH', '$PFE', '$DAX', '$FTSE', '$CAC…', '$AZN', '$AAPL', '#Top5ThingsToKnowToday:', '#PresidentsDay', '#Bitcoin', '$CL_F', '#OOTT', '#Bitcoin', '$NG_F', '$UNG', '#BTC', '#BTC', '#ETH', '#ADA', '#XRP', '#DOT', '#BNB', '#LTC', '#LINK', '#BCH', '#Doge…', '#DOGE', '$CVX', '$PXD,', '$CVX.', '$SAN', '$GDXJ', '$GDX', '$GLD', '$SLV…', '$GBTC', '$BTC.X', '$OBTC', '$TNX', '#IBDpartner', '$GNRC', '#EH', '$EH', '$ANF', '$MP', '$MP', '$CLF', '$EH', '$MP', '$MCFE', '$BAND', '#Texas', '$FCEL', '$SPX', '$TSLA', '$TSLA', '$TSLA,', '#Bitcoin', '#dogecoin', '$VIX', '$SPX', '$VIX', '$VIX', '$ES', '$VIX', '$OEX', '#Bitcoin', '$VIX', '#Bitcoin', '$TNX', '$VIX', '$WIX', '$TSLA', '$SHOP', '$JMIA', '$SHOP', '$NBIX', '$LHX', '$SHOP', '$WWE', '$BA', '$BA', '$QS', '$WFC', '$GSAT', '$MAT', '$NET', '$AMZN', '$AMZN', '$WIX', '$SHOP', '$CREE', '$AMGN', '$BA', '$SPY', '$TT', '$TLT', '$CBOE', '$SPOT', '$BA', '$SOS', '$TME', '$BA', '$BA', '$GOOGL', '$DOCU', '$KT', '$UAVS', '$GNRC', '$CAN', '$U', '$TQQQ', '$QS', '$BIDU:', '$TLRY', '$TWLO', '$MOS', '$SPWR', '$KHC', '$FSR', '$SHOP', '$PLTR', '$BHC', '$A', '$FB', '$BLNK', '$CRM', '$FB', '$MMC', '$CVX', '$AAPL', '$GOOGL', '$MSFT', '$TWTR', '$GOOGL', '$ZM', '$UBER', '$LYFT', '$TWTR', '$TSLA', '$SQ', '$SPCE', '$SNAP', '$ROKU', '$PYPL', '$NFLX', '$MSFT', '$FUBO', '$FB', '$DOCU', '$LVS', '$MGM', '$CRWD', '$AAPL', '$AMZN', '$GOOGL', '$ATVI', '$NVDA', '$MU', '$AMD', '$SMH', '$FEYE', '$CCIV', '$MGM', '$DKNG', '$NIO', '$JD', '$BABA', '$LAZR', '$HYLN', '$FSR', '$CCIV', '$SBUX', '$STZ', '$CGC', '$BYND', '$AA', '$TRLY', '$WMT', '$UA', '$UAA', '$TGT', '$CHWY', '$BBBY', '$DIS', '$MA', '$KHC', '$FDX', '$DAL', '$CAT', '$BA', '$SLB', '$SLB', '$TEVA', '$MRNA', '$GILD', '$LLY', '$ARMN', '$IBB', '$SLB', '$XOM', '$CVX', '$XLE', '$XLE', '$RKT', '$JPM', '$GS', '$GS', '$AMZN', '$FB', '$XLF', '$SPY', '$VIX', '$IWM', '$QQQ', '$AAPL', '$SPY', '$TWLO', '#TheStrat', '$KBNT', '$MSI', '$TBK', '$SCCO', '$IMAX', '$NK', '$CLGX', '$CPE', '$CSPR', '$REAL', '$TFC', '$UE', '$FUBO', '$FUBO', '$FUTU', '$CPE', '$RVP', '$AHCO', '$TECH', '$VIVO', '$ALLT', '$GOCO', '$GNMK', '$SRNE', '$NET…', '$NET', '$GHVI', '$ACIC', '$CCIV', '$HAAC', '$PSAC', '$STPK', '$CCAC', '$BFLY', '$PDAC', '$PTON', '$APPS', '$CURI', '$APPS', '$MP', '$CURI', '$RVP', '$EXPI', '$FROG', '$DT', '$SKLZ', '$DT', '$PTON?\"', '$SKLZ', '$TTCF…', '$WBAI', '$SI', '$NTCO', '#TheStrat', '$SSPK', '$APR', '$OZON', '$PRCH', '$VCEL', '$STOR', '$NTNX', '$COHU', '$LDI', '$ILMN', '$FROG', '$VOXX', '$AYRO', '$VERU', '$VCRA', '$WDFC', '$TDC', '$NTCO', '$FLUX', '$SMAR', '$DBI', '$FLGT', '$MGNI', '$YALA', '$DQ', '$PTON.', '$RVP', '$GRWG', '$MP', '$MP?\"', '$EXPI', '$MP.', '$PTON', '$APPS', '$EXPI', '$DT', '$ARYA', '$AYRO', '$BEEM', '$CIIC', '$FUBO', '$MRNA', '$PLUG', '$SKLZ…', '$PTON', '$DOYU', '$HUYA', '$PLTK', '$DDOG', '$BEKE', '$CDMO', '#ThinkorSwim', '$SPX', '$GP', '$ZDGE', '#TheStrat', '$PS', '$PYPL', '$UPST', '$TSCO', '$GD', '$SDGR', '$NNOX', '$REXR', '$NVST', '$VIAV', '$HZNP', '$N…', '$AMZN', '$bfly', '$btwn', '$bfly', '$lgvw.', '$amzn', '$jets', '$BTWN', '$fcel', '$sos', '$amzn', '$aapl', '$spx', '$aapl', '#dogpound', '$spx', '$mj', '$btc', '$aapl', '$mile', '$psth', '$btwn', '$sos', '$ebon', '$aapl.', '$riot', '#process', '#routine', '#discipline', '#approach.', '$ebon', '$sos.', '$pltr', '$sos', '$psth', '$mile', '$btwn', '$aapl', '$btwn', '$mile', '$sos', '$aapl', '$aapl', '#trading', '$sos', '$ebon', '$ftft', '$spx', '#dogpound', '$spx', '$qqq', '$btc', '$sos', '$ebon', '$ftft', '$bngo', '$lazr', '$aapl', '$amzn', '$amd', '$gsah', '$psth', '$btwn', '$bngo', '$fcel', '#trading', '$gwph', '$tsla', '$FLNG', '$DNOW', '#business', '#stockmarket', '#economy', '$RIO', '$RTNTF', '$RTPPF', '#stockmarket', '#economy', '#markets', '$TSLA', '#economy', '#business', '#trading', '$ET', '#stockmarket', '#economy', '#investing', '$VCYT', '#investing', '#markets', '#business', '$SKT', '$RAIL', '#stocks', '#trading', '#stockmarket', '$ET', '#stockmarket', '#stocks', '#finance', '$TSLX', '$CONE', '#finance', '#trading', '#economy', '$LLKKF', '$MBFJF', '$MUFG', '$EQT', '#finance', '#stockmarket', '#business', '$TGH', '$PLTR', '#stocks', '#investing', '#stockmarket', '$MSTR', '#markets', '#investing', '#economy', '$CRK', '$TWLO', '#economy', '#trading', '#investing', '$HGV', '#investing', '#markets', '#economy', '$APTV', '#stocks', '#markets', '#business', '$FENY', '#stockmarket', '#investing', '#stocks', '$DXJ', '#finance', '#economy', '#business', '$LIVE', '#markets', '#stockmarket', '#trading', '$TSLA', '#stockmarket', '#markets', '#finance', '$ARD', '$EQT', '$ANDE', '$CMP', '$VLOUF', '$VLOWY-OLD', '$CAPMF', '$CGEMY', '$ATH', '$ATH.PA', '$ATH.PB', '$DRNA', '#trading', '#economy', '#business', '$ACCO', '#finance', '#stocks', '#markets', '#business', '#investing', '#markets', '$EDRY', '#markets', '#stockmarket', '#trading', '$TNET', '#markets', '#business', '#finance', '$SYNA', '$APTX', '#business', '#markets', '#investing', '$CAI', '$CAI.PA', '$CAI.PB', '$CLR', '$CAR', '#markets', '#economy', '#business', '$MYE', '#trading', '#stocks', '#economy', '$DAVA', '$MMX', '#economy', '#investing', '#markets', '$AAU', '$CRTX', '#business', '#stockmarket', '#stocks', '$GOOD', '#markets', '#business', '#economy', '$FQVLF', '#markets', '#trading', '#economy', '$RIOCF', '#investing', '#trading', '#business', '$CMP', '$MHGVY', '$MNHVF', '$MPW', '#economy', '#markets', '#stocks', '$PTN', '$PTR', '#investing', '#markets', '#business', '$INVH', '$CHH', '$LUNA', '#stocks', '#finance', '#markets', '$RPAI', '$PPRUF', '$PPRUY', '$PSI', '#stockmarket', '#trading', '#stocks', '$MERC', '$NEE', '#stocks', '#trading', '#investing', '#trading', '#stocks', '#stockmarket', '$WING', '$FSP', '$IRS', '$ZBH', '$AKZOF', '$AKZOY', '#markets', '#trading', '#finance', '$QTS', '$QTS.PA', '$RDCM', '$SAH', '#stocks', '#investing', '#business', '$SFL', '$ET', '$PSXP', '$ISR', '#investing', '#markets', '#stocks', '$AIG', '$AIG.PA', '$FQVLF', '$WY', '#stocks', '#business', '#markets', '$TRUP', '#stocks', '#finance', '#investing', '$ET', '#trading', '#economy', '#investing', '$TMNSF', '$TMSNY', '$THCB', '#business', '#markets', '#stocks', '$DAVA', '#stockmarket', '#stocks', '#economy', '$GRMN', '$HEXO', '#markets', '#business', '#stockmarket', '$VPG', '$VLOUF', '$VLOWY-OLD', '#trading', '#stocks', '#finance', '$HSIC', '$HQY', '#trading', '#stocks', '#finance', '$ELTP', '$CVLB', '#finance', '#economy', '#stocks', '$ILIKF', '#stockmarket', '#finance', '#investing', '$VNO', '$VNO.PK', '$VNO.PM', '$CRL', '#markets', '#finance', '#trading', '#finance', '#stockmarket', '#trading', '$HLT', '$DREUF', '$EXAS', '#stocks', '#trading', '#economy', '$JSAIY', '#stocks', '#economy', '#markets', '$RENN', '#stockmarket', '#finance', '#business', '$BTI', '$BHAGF', '#stocks', '#investing', '#economy', '$NI', '$NI.PB', '$ALE', '$WIRE', '$KAR', '#trading', '#business', '#finance', '$OC', '$ADI', '$IMMVF', '$ENLC', '$AIG', '$AIG.PA', '$EARN', '$GNW', '$LMT', '#trading', '#stocks', '#stockmarket', '$ES', '#stocks', '#finance', '#economy', '$RPRX', '$GPC', '$TWOU', '#economy', '#stockmarket', '#stocks', '$IBCP', '$EPRT', '#investing', '#business', '#stocks', '$KREF', '$SHOP', '#business', '#economy', '#finance', '$CRMT', '$WIX', '$DVN', '$WMT', '#markets', '#investing', '#trading', '$KAR', '$XLK', '#business', '#finance', '#stockmarket', '$AFI', '$SFL', '#business', '#economy', '#investing', '$CNK', '#economy', '#business', '#investing', '$AFI', '#trading', '#economy', '#stockmarket', '$RDCM', '#stocks', '#trading', '#economy', '$COMM', '#trading', '#markets', '#investing', '$WIX', '#stockmarket', '#stocks', '#investing', '$BLOK', '#trading', '#business', '#markets', '$ACCO', '#economy', '#stockmarket', '#stocks', '$FUN', '$IOSP', '$VOPKF', '$VOPKY', '$IRWD', '#investing', '#markets', '#economy', '$LZB', '$RC', '$ANH', '#markets', '#trading', '#economy', '$OEG', '#economy', '#stocks', '#finance', '$NLS', '#finance', '#investing', '#stocks', '#stocks', '#economy', '#business', '$HEES', '#business', '#economy', '#markets', '$DNOW', '#stocks', '#stockmarket', '#business', '$MHGVY', '$MNHVF', '#investing', '#stockmarket', '#business', '$SHLAF', '$SHLRF', '#business', '#stockmarket', '#markets', '$UFCS', '$RIO', '$RTNTF', '$RTPPF', '#trading', '#markets', '#economy', '$CHCT', '$CRK', '#investing', '#stockmarket', '#business', '$SOHU', '#trading', '#economy', '#markets', '$CAR', '$RMBS', '#trading', '#stocks', '#business', '$IRWD', '$BPMC', '$NKLA', '#trading', '#stocks', '#finance', '#trading', '#finance', '#markets', '$CVX', '#economy', '#markets', '#finance', '$GRMN', '#economy', '#finance', '#business', '$BDRFF', '$BDRFY', '$PLNHF', '#finance', '#business', '#economy', '$HXGCF', '#markets', '#economy', '#finance', '$FLNG', '#markets', '#business', '#economy', '$HEES', '$SR', '#stocks', '#investing', '#finance', '$BPRMF', '#stockmarket', '#stocks', '#finance', '#investing', '#economy', '#business', '$KLR', '#business', '#markets', '#trading', '$SBUX', '#stockmarket', '#economy', '#investing', '$TSN', '#business', '#markets', '#investing', '$MIC', '$CRL', '$AAPL', '#finance', '#stockmarket', '#economy', '$EKSO', '#markets', '#stocks', '#investing', '$FDVRF', '#economy', '#business', '#stockmarket', '$BRK.A', '$BRK.B', '#stocks', '#investing', '#trading', '#investing', '#markets', '#trading', '#stockmarket', '#economy', '#investing', '$GOOD', '$GOODM', '$WIX', '#markets', '#investing', '#economy', '$CBAY', '#stockmarket', '#trading', '#economy', '$CTRM', '#finance', '#economy', '#stockmarket', '#finance', '#stocks', '#investing', '$EWW', '#business', '#stockmarket', '#economy', '$CDAK', '#markets', '#trading', '#investing', '$MIC', '$MLHR', '#economy', '#markets', '#finance', '#finance', '#economy', '#stockmarket', '$TRRSF', '#stockmarket', '#investing', '#finance', '$BCOR', '$TWLO', '$GME', '$GME', '$LODE', '$TSLA', '$TSLA', '$TSLA', '$SHOP', '$ROKU', '$LODE', '$QS', '$TSLA', '$LODE', '$TSLA', '$GME', '$SCKT', '$SCKT', '$PLTR', '$BLUE', '$CCIV', '$TSLA', '$BTC', '$GBTC', '$SPCE', '$TSLA', '$GM', '$WFC:', '$MAR:', '$AAPL', '$XLK', '$BTC', '$CCIV', '$JPM', '$BRK.A', '$XLE', '$PLTR', '#Bitcoin', '$BTC.X', '$AEI', '$NAKD', '$NAKD', '$AEI', '$TYHT', '$TYHT', '$IPDN', '$ANCN', '$ANCN', '$MDVL', '$ANCN', '$ANCN', '$NAKD', '$ANCN', '$ANCN', '$LOTZ', '$AEI', '$NAKD', '$NAKD', '$NAKD', '$NAKD', '$LOTZ', '$FUBO', '$CLOV', '$FUBO', '$CLOV', '$MICT', '$MICT', '$CHNR', '$SINT', '$AACG', '$AAPL', '$EH', '$MDVL', '$AEI', '$MDVL', '$MDVL', '$MICT', '$UONE', '$MICT', '$AEI', '$AEI', '$AEI', '$EH', '$EH', '$EH', '$EH', '$AEI', '$CHNR', '$LODE', '$UONE', '$EH', '$FUBO', '$AEI', '$EH', '$AEI', '$MICT', '$FUBO', '$FUBO', '$MICT', '$EH', '$EH', '$AEI', '$CARV', '$UONE', '$UONE', '$CARV', '$UONE', '$PXS', '$GBR', '$AEI', '$XL', '$SINO', '$AEI', '$GBR', '$CEI', '$GBR', '$CEI', '$GBR', '$AEI', '$AEI', '$BRN', '$LOTZ', '$KXIN', '$MICT', '$AEI', '$MICT', '$XL', '$CCIV', '$CCIV', '$NPA', '$CCIV', '$AACG', '$AACG', '$NPA', '$AEI', '$TSLA', '$CCIV', '$MICT', '$MICT', '$SCKT', '$CCIV', '$MRIN', '$MRIN', '$BRN', '$HTBX', '$XL', '$SNDL', '$EDRY', '$EDRY', '$PXS', '$EDRY', '$EDRY', '$PXS', '$NPA', '$XL', '$NPA', '$EFOI', '$EFOI', '$EFOI', '$XL', '$XL', '$CCIV', '$NPA', '$NPA', '$CCIV', '$SINT', '$ANTE', '$CEI', '$XL', '$MRIN', '$MRIN', '$KBNT', '$MRIN', '$KBNT', '$RKDA', '$XL', '$LAIX', '$LAIX', '$ALJJ', '$GTHX', '$DFFN', '$SBBP', '$FINV', '$KOPN', '$SESN', '$IMUX', '$SNGX', '$XSPA', '$SNDL', '$SINO', '$GRNQ', '$ABIO', '$GBR', '$LOTZ', '$SNDL', '$LAIX', '$SNDL', '$GBR', '$SINO', '$CEI', '$AMC', '$RKDA', '$FEYE', '$QS', '$FEYE', '$BRK/B', '$TLRY', '$MARA', '$LFIN', '$RIOT', '$BTC.', '$RIOT…', '$TIGR-', '$BFLY', '$TIGR', '$CCIV', '$QQQ', '$FDX', '$RIOT', '$TIGR)', '$QQQ', '$AAPL', '$BA', '$QQQ', '$TIGR', '$NKTR', '$APPS', '$GS', '$PLTR', '#Bitcoin', '$CCIV', '#earnings', '$TLRY', '$FSLY', '$TWLO', '$BIDU', '$SPWR', '$STMP', '$SAM', '$MRO', '$ET', '$SNBR', '$NVTA', '$IQ', '$JAC…', '$BNGO', '$APPS', '$TIGR', '$TIGR', '$NIO', '$PLTR', '$ICLN', '$PBW', '$BNGO', '$PLTR', '$ZM', '$BNGO', '$PLTR', '$ZM', '$PBW', '$ICLN', '$SNPR', '$EH', '$TIGR', '$CPSH', '$CPSH.', '$CPSH', '$CCIV', '$CCIV', '$CCIV', '$BNGO', '$BNGO', '$TLRY', '$TLRY', '$CGC', '$TLRY', '$BLNK', '$BAND.', '$BAND.', '$PLTR', '$BNGO', '$PLTR', '$ZM', '$QQQ', '$VXX', '$SENS', '$TIGR', '$BLNK', '$BNGO', '$NIO', '$CPSH', '$RIOT', '$SENS', '$TIGR', '$LAZR', '$TIGR', '$BNGO', '$ZM', '$TIGR', '$PLTR', '$DM', '$SPY', '$QQQ', '$NAT', '$XL', '$ABCL', '#LFG', '#stocks.', '$SOLO', '$BNGO', '#ARKDisrupt', '$TSLA', '$SQ', '$XOP', '$WORK', '$COPX', '$PLTR', '$OVV', '#epsbeat', '$NTR', '#whisperbeat', '$ARR', '$AXTA', '#whisperbeat', '$NOA', '#epsbeat', '$TROX', '#epsmiss', '$PAAS', '#epsbeat', '$SUI', '#epsbeat', '$SKT', '#whisperbeat', '$HPP', '#epsmeet', '$OIS', '#epsbeat', '$CDE', '#epsmiss', '$QTWO', '#whispermiss', '$ESRT', '#epsbeat', '$BCEI', '#epsbeat', '$KAI', '#epsbeat', '$LOPE', '#whisperbeat', '$CYH', '#whisperbeat', '$SP', '#epsmiss', '$CSV', '#epsbeat', '$SUN', '#whispermiss', '$NP', '$VMI', '#epsbeat', '$FARO', '#epsbeat', '$CF', '#epsbeat', '$SBLK', '#epsbeat', '$IQ', '#whispermiss', '$H', '#epsmiss', '$STMP', '#whisperbeat', '$AR', '#epsbeat', '$BIDU', '#whisperbeat', '$AM', '#epsmeet', '$AEL', '#epsmiss', '$UE', '#epsbeat', '$TGH', '#epsbeat', '$SM', '#whispermiss', '$RPT', '#epsmiss', '$QUIK', '#epsbeat', '$ARGO', '#epsmiss', '$SAM', '#epsmiss', '$UCTT', '#whisperbeat', '$TWLO', '#whisperbeat', '$GMED', '#epsbeat', '$ET', '#whispermiss', '$CAKE', '#whispermiss', '$BFAM', '#epsbeat', '$TLRY', '#whisperbeat', '$ALB', '#whispermiss', '$VCYT', '#epsmiss', '$ILPT', '#epsmeet', '$WK', '#whisperbeat', '$HVT', '#epsbeat', '$EIG', '#epsbeat', '$BCOV', '#epsbeat', '$TSLX', '#epsbeat', '$HLF', '#epsmiss', '$VKTX', '#epsmeet', '$SWAV', '#whispermiss', '$FSLY', '#whispermiss', '$FCPT', '#epsmeet', '$SPWR', '#whisperbeat', '$NVTA', '#whispermiss', '$PEGA', '#epsbeat', '$ALSN', '#epsmiss', '$SNPS', '#whispermiss', '$MANT', '#epsbeat', '$LASR', '#epsbeat', '$WCN', '#epsbeat', '$TXG', '#epsmiss', '$JACK', '#whisperbeat', '$SNBR', '#whisperbeat', '$RBBN', '#whisperbeat', '$CUTR', '#epsbeat', '$CONE', '#epsbeat', '$MX', '#epsbeat', '$WING', '#whispermiss', '$GPC', '#epsbeat', '$GLDD', '#epsmiss', '$CHH', '#epsmiss', '$MIC', '#epsmiss', '$SSRM', '#epsmiss', '$RPRX', '#epsmiss', '$ADI', '#whisperbeat', '$ATH', '#whisperbeat', '$PTN', '#epsmiss', '$IRWD', '#epsbeat', '$DAVA', '#whisperbeat', '$BPMC', '#epsbeat', '$CRL', '#whisperbeat', '$VPG', '#epsbeat', '$SHOP', '#whispermiss', '$RDCM', '#epsbeat', '$UFCS', '#epsbeat', '$HEES', '#epsbeat', '$TSEM', '#whispermiss', '$SAH', '#whisperbeat', '$GRMN', '#whisperbeat', '$DNOW', '#epsmiss', '$NI', '#epsbeat', '$EQT', '#epsbeat', '$BCOR', '#epsbeat', '$ALE', '#whisperbeat', '$WIX', '#whisperbeat', '$OC', '#whisperbeat', '$HSIC', '#whispermiss', '$HLT', '#whispermiss', '$COMM', '#epsbeat', '$KREF', '#epsmiss', '$ES', '#whispermiss', '$ENLC', '#whispermiss', '$FSP', '#epsmiss', '$INVH', '#epsbeat', '$WTER', '#epsbeat', '$WIRE', '#epsbeat', '$MERC', '#whispermiss', '$ESOA', '#epsmiss', '$CAI', '#epsbeat', '$MCY', '#epsbeat', '$IOSP', '#epsbeat', '$CRK', '#epsbeat', '$CHCT', '#epsbeat', '$RPAI', '#epsmiss', '$IBIO', '$VNO', '#epsbeat', '$LZB', '#whispermiss', '$DVN', '#whispermiss', '$CLR', '#whispermiss', '$CAR', '#epsbeat', '$TNET', '#epsbeat', '$KAR', '#epsmiss', '$AIG', '#whispermiss', '$ACCO', '#epsbeat', '$QTS', '#epsbeat', '$KRNT', '#epsbeat', '$EXAS', '#whispermiss', '$DENN', '#whispermiss', '$SEDG', '#whisperbeat', '$NMIH', '#epsbeat', '$CMP', '#epsmiss', '$ANDE', '#epsmiss', '$A', '#whisperbeat', '$DIOD', '#epsbeat', '$CRSP', '#epsmiss', '$BYD', '#whisperbeat', '$CSOD', '#whisperbeat', '$RNG', '#whispermiss', '$LSCC', '#metwhisper', '$CVM', '$MGP', '#epsmiss', '$POWW', '#epsmiss', '$EXPD', '#whisperbeat', '$ECL', '#whispermiss', '$OTLK', '$SABR', '#epsmiss', '$IPGP', '#whispermiss', '$USAC', '#epsmiss', '$NXRT', '#epsbeat', '$FELE', '#epsbeat', '$DAC', '#epsbeat', '$CEVA', '#epsbeat', '$VMC', '#whispermiss', '$ARD', '#epsbeat', '$BRKR', '#whispermiss', '$KLR', '#epsmiss', '$ZTS', '#whispermiss', '$GWPH', '#epsmiss', '$BKI', '#whispermiss', '$BXRX', '#epsmiss', '$TRTN', '#whisperbeat', '$RXN', '#epsbeat', '$JELD', '#epsbeat', '$IAA', '#metwhisper', '$HE', '$PLTR', '#whispermiss', '$LPX', '#whisperbeat', '$ALLE', '#epsbeat', '$USFD', '#whispermiss', '$TRU', '#whispermiss', '$RBC', '#whisperbeat', '$GEO', '#epsmiss', '$CVS', '#whispermiss', '$AN', '#whisperbeat', '$AAP', '#whispermiss', '$OTTR', '#epsbeat', '$SCI', '#whisperbeat', '$feye', '$VZ', '$CVX', '$MMC', '$VZ', '$AAPL', '$PLTR', '$GS', '$QS', '$ACIC', '$PLTR', '$PLTR', '$VRM', '$DASH', '$OPEN', '$OPEN', '$ARKK', '$TSLA,', '$NIO,', '$AAPL,', '$UBER', '$PLTR', '$PLTR', '$PLTR', '$MTTR', '$MTTR,', '$GHVI.', '$FUBO', '$OZON', '$TKTK', '$FUBO', '$FUBO', '$FUBO', '$FUBO', '$FUBO', '$AEI', '$AEI', '$AEI', '$AEI', '$AEI', '$AEI', '$TSLA.', '$LAZR', '$DIS', '$GS', '$FUBO', '$FUBO', '#LFG', '$LAZR', '$FEYE', '$RIOT', '#s…', '$XRT', '$TSLA', '$TSLA', '$TSLA', '#BorussiaDortmund', '$TSLA', '$XRT', '$XRT', '$AMC', '$GME', '$TSLA', '$VRPX', '$AUDD', '$AACQ', '$ALXO', '$CCIV', '$HAAC', '$AGFY', '$EHVVP', '$SGFY', '$VOR', '$LHDX,', '$BOLT', '$AGFY,', '$GTBP,', '$RAAS', '$RAAS', '$OLMA', '$OLMA', '$SBTX', '$CRIS', '$FPRX', '#BTC', '$EBON', '$CAN', '$TMBR,', '$BNTC,', '$CREG,', '$GTBP,', '$GATO,', '$KBNT,', '$PAVM', '$RAAS', '$CCIV', '$CCIV', '#SPAC', '$TMBR', '$KBNT', '$KBNTW', '$CREG', '$HAAC', '$HAACW', '$SDH', '$VOR', '$BMBL', '$TMBR', '$CYCC.', '$BNTC', '$GTBP', '$BMBL', '$GTBP', '#climatechange', '$APR', '$TLIS', '$LHDX', '$DBTX', '$MGNI', '$DSP', '$DSP', '$TTD', '$BMBL', '$SGFY', '$LDI…', '$UGRO', '$GTBP', '$UGRO', '$GTBP', '$BAOS,', '$SDH,', '$VLON,', '$LGVN', '$RAAS', '$CIIC,', '$TIGR,', '$FUTU', '$UCL', '$ALUS', '$HOL', '$FUV', '$HOL', '$GIK', '$ALUS', '$FSR.', '$AREC', '$MP', '$LODE', '$TSMC.', '$TMRC', '$TSMC.', '$TMRC', '$HOL', '$HOL', '$AAPL', '$AREC,', '$TSMC,', '$MP,', '$UUUU,', '$DNN,', '$GOMRF,', '$UARF,', '$AMYZF', '$CLA', '$DMYD', '$ACTC', '$LAZR', '$CLA', '$LAZR', '#SPAC', '$CLA', '$DMYD', '$ALUS', '#SPAC', '$CLA', '$ACIC', '$ACIC', '$CCIV', '$SNPR', '$ZGYH', '#SPACTwitter', '$CCIV', '#SPAC', '#EH', '#SPACs', '$PSTH', '$FSR', '$ACIC', '$PSTH', '$EH', '#SPAC', '$ALUS', '$AAPL', '$ALUS', '$CCIV', '$ALUS', '$CCIV', '$CCIV', '$ALUS', '$CCIV', '#family', '#grandslam', '#StocksToBuy', '#lucidmo…', '$HYLN', '$CCIV', '#SPAC', '$CCIV', '$FUV', '#clubhouse', '$CLA', '$CLA', '$CLA', '$FUV', '#SPACs', '$HYLN', '$AREC', '$MP', '$TRCH', '$FUV', '$DMYD', '$GIK', '$ASPL', '$HYLN', '$GIK', '$GIK', '$SPY', '$NQ_F,', '$QQQ', '$SPY', '$TSLA', '$ES_F', '$BABA', '$SPY', '$ES_F', '$ES_F', '$DPW', '$HD', '$DIS', '$QS', '$DPW', '$HD', '$SPY', '$DPW', '$QS', '$QS', '$CURI', '$BA', '$SPY', '$QS', '$MP', '$PLBY', '$BABA', '$QS', '$QS', '$QS', '$X', '$PLTR', '$X', '$TWTR', '$IQ', '$MP', '$HYLN', '$SQ', '$PYPL', '$BABA', '#solutions30', '$EH’s', '$EH', \"$EH's\", '$EH', '$EH', '#TheChoppingBlock', '$STNE', '$XPEV', '$AEO', '$NRG', '$NLY', '$ZTO', '$LB', '$IQ', '$VZ', '$QS', '$AAL', '$TWTR', '$CBAT', '$UBER', '$MAT', '$FCX', '$CBAT', '$GSAT', '$BBY', '$FSR', '$MFIN', '$TSLA', '$PLTR', '$WFC', '$FTFT', '$AAPL', '#roaringkitty', '#KeithGill', '#SaveRoaringKitty', '$TSLA', '$GME', '$CLOV', '$SOS', '$VUZI', '$FTFT', '$NWS', '$NWSA', '$GOOGL', '$BLNK', '$PAOI', '$CLIR', '$GNSS', '$ARTL', '$CRMD', '$CVET', '$DMAC', '$FMTX', '$HWM', '$IDXX', '$MYTE', '$ONCY', '$PAX', '$PHAT', '$VUZI', '$AZUL', '$BLUE', '$CEVA', '$CRTX', '$FTV', '$KAR', '$KOD', '$PLTR', '$PXS', '$SCPL', '$TPCO', '$UAA', '$USAC', '$A', '$ATEX', '$BHC', '$BKI', '$BMO', '$CCEP', '$CREE', '$CVI', '$FCX', '$HEXO', '$KRNT', '$LPX', '$MESA', '$OSK', '$PARR', '$PLTR', '$RBC', '$RXN', '$SCCO', '$WBK', '$MESA', '$NBR', '$NOA', '$NP', '$NVTA', '$OGS', '$OIS', '$OVV', '$PEGA', '$PXD', '$QTWO', '$QUIK', '$RBBN', '$RBC', '$RGR', '$RPT', '$SAM…', '$AEL', '$ALB', '$ALSN', '$AM', '$AR', '$ARGO', '$BCEI', '$BCOV', '$BFAM', '$BIDU', '$CAKE', '$CDE', '$CF', '$CONE', '$CSV', '$CUTR…', '$TSEM', '$OC', '$HLT', '$ADI', '$RNG', '$MERC', '$KAR', '$EXAS', '$DVN', '$CRSP', '$CLR', '$BYD', '$AIG', '$ACCO', '$WIX', '$VNO', '$SHOP', '$SEDG', '$QS', '$LSCC', '$KRNT', '$GRMN', '$GNW', '$DIOD', '$CSOD', '$CAR', '$A', '$SOS', '$SNDL', '$SINO', '$SHIP', '$MVIS', '$HQY', '$EPIX', '$DPW', '$CTXR', '$CHGG', '$AIKI', '$AEZS', '$VSTM', '$VIR', '$GSK,', '$DOGE', '$RBBN', '$SLRX', '$RDHL', '$IMUX', '$CHRS', '$ALT', '$ADAP', '$NOVA', '$LEN', '$MYT', '$CNET', '$CFAC', '$AACQ', '$ORGN', '$AHAC', '$HUMA,', '$DOGZ', '$PETZ', '$PLIN', '$ANTE', '$AKU', '$PETZ', '$LODE', '$AAPL', '$AMZN', '$GOLD)', '$JPM', '$MTB', '$CVX', '$MMC', '$VZ', '$GOGO', '$F', '$TPCO', '$ENBL', '$ET', '$MSTR', '$GME', '$INTC', '$RCL', '$ARKK', '$LI', '$QTT', '$SNAP', '$AMAT', '$QTT', '$LVS', '$GDDY', '$IO', '$NNDM', '$MP', '$MP', '$UNG', '$GSAT', '$PRCH', '$JCI…', '$MOS', '$CF', '$CRM', '$LOTZ', '$ATVI', '$EA', '$TTWO', '$CCIV', '$DVA', '$BLNK', '$ACRX', '$PYPL', '$CBOE…', '$CCIV', '#Lucid', '$GME', '$WATT', '#patent', '$SCKT', '$ALJJ', '$MYT', '$SOS', '$CAN', '$EPSN', '$AMYT', '$BEAM', '$CRWD', '$CURI', '$FUTU', '$GMTX', '$HHC', '$IPWR', '$LOTZ', '$MYTE', '$PAX', '$SCPS', '$TENB', '$TLMD', '$TRX', '$TVTX…', '$AXP', '$BB', '$ELY', '$GLUU', '$MMP', '$MSGE', '$NBLX', '$NOAH', '$PLCE', '$RSG', '$UBX', '$WM', '$ADS', '$ALB', '$AR', '$BP', '$BL', '$CDAY', '$CEQP', '$CTAS', '$ENLC', '$ETN', '$FWRD', '$GT', '$MAT', '$MMYT', '$MPLX', '$PLAN', '$RRC', '$SQM', '$TEX', '$WISH', '$XOG', '$FUV', '$PANW', '$BA', '$MSFT', '$ALE', '$ADi', '$AFI', '$ATH', '$BCOR', '$BPMC', '$FUN', '$CRL', '$CHH', '$COMM', '$DAVA', '$ENLC', '$EQT', '$ES', '$GRMn', '$GPC…', '$LSCC', '$LZB', '$MCY', '$MERC', '$NMIH', '$OXY', '$PCYG', '$POWW', '$QS', '$QTS', '$RNG', '$RPAI', '$SEDG', '$TNET', '$VNO', '$WIRE', '$WTER', '$A', '$ACC', '$ACCO', '$AIG', '$ANDE', '$BYD', '$CAI', '$CAR', '$CHCT', '$CLR', '$CMP', '$CRK', '$CRMT', '$CSOD', '$DENN', '$DIOD', '$DVN…', '$YNDX', '$SABR', '$PLTR', '$ZTS', '$VMC', '$STIC', '$RXN', '$LPX', '$LBTYA', '$KLR', '$MCK', '$AEGN', '$GEO', '$FORD', '$CEVA', '$CASI', '$AN', '$TPR', '$QS', '$NBEV', '$NNDM', '$MILE', '$IO', '$HEPA', '$GMDA', '$CHAA', '$BPTH', '$AUTL', '$ARAV', '$UAVS', '$SINO', '$SNDL', '$ANIX', '$XSPA', '$UAL', '$VYNE', '$SWAV', '$SNSS', '$SESN', '$SBBP', '$NVAX', '$KALA', '$FINV', '$GTHX', '$EVFM', '#SaveRoaringKitty', '$GME.', '$SNOW', '$TWLO', '#TheStrat', '$KBNT', '$MSI', '$TBK', '$SCCO', '$IMAX', '$NK', '$CLGX', '$CPE', '$CSPR', '$REAL', '$TFC', '$UE', '$FUBO', '$FUBO', '$FUTU', '$CPE', '$RVP', '$AHCO', '$TECH', '$VIVO', '$ALLT', '$GOCO', '$GNMK', '$SRNE', '$NET…', '$NET', '$GHVI', '$ACIC', '$CCIV', '$HAAC', '$PSAC', '$STPK', '$CCAC', '$BFLY', '$PDAC', '$PTON', '$APPS', '$CURI', '$APPS', '$MP', '$CURI', '$RVP', '$EXPI', '$FROG', '$DT', '$SKLZ', '$DT', '$PTON?\"', '$SKLZ', '$TTCF…', '$WBAI', '$SI', '$NTCO', '#TheStrat', '$SSPK', '$APR', '$OZON', '$PRCH', '$VCEL', '$STOR', '$NTNX', '$COHU', '$LDI', '$ILMN', '$FROG', '$VOXX', '$AYRO', '$VERU', '$VCRA', '$WDFC', '$TDC', '$NTCO', '$FLUX', '$SMAR', '$DBI', '$FLGT', '$MGNI', '$YALA', '$DQ', '$PTON.', '$RVP', '$GRWG', '$MP', '$MP?\"', '$EXPI', '$MP.', '$PTON', '$APPS', '$EXPI', '$DT', '$ARYA', '$AYRO', '$BEEM', '$CIIC', '$FUBO', '$MRNA', '$PLUG', '$SKLZ…', '$PTON', '$DOYU', '$HUYA', '$PLTK', '$DDOG', '$BEKE', '$CDMO', '#ThinkorSwim', '$SPX', '$GP', '$ZDGE', '#TheStrat', '$PS', '$PYPL', '$UPST', '$TSCO', '$GD', '$SDGR', '$NNOX', '$REXR', '$NVST', '$VIAV', '$HZNP', '$N…', '$AMZN', '$RIOT', '#CRYPTO,', '$SNBR', '$WFC', '$SNBR,', '#GiddyUp', '$LODE', '$BAC', '$WFC', '$TLRY', '$TWLO', '$SNBR', '$APHA', '$SOS', '$RIOT', '$HLF', '$LODE', '$SP…', '$LODE', '$TLRY', '$AAPL', '$TSLA', '$PLTR', '$WFC…', '#Bitcoin', '#UnusualActivity', '#Bitcoin', '$BTC', '#UnusualActivity', '$TWTR', '$MGM', '$BTC', '$TSLA', '#GiddyUp', '$lode', '$WFC', '$WFC', '$VGX', '$AAPL', '$TSLA', '$PLTR', '$NIO', '$TWTR', '$PTON', '$CLF', '$DNN', '$LODE', '$SOS', '#wednesdaythought', '#wednesdaymotivations…', '$HLT', '$SHOP', '$CVX', '$VZ', '$WORK', '$THS', '$WFC', '#GiddyUp', '#UOA', '#DDA', '#Educay!', '$MU', '#Motivational', '#wallstreetbets', '$AMC', '$GME', '$SNDL', '#GiddyUp', '$SOS', '$WBAI', '$VIR', '$EBON', '$KRNT', '$RIOT', '$SSYS', '$BTBT', '$MA…', '#Bitcoin', '$BTC', '#UnusualActivity', '$XLF', '$DVN', '$LVS', '$IAA', '$MESA', '$ACTG', '$FLEX', '$GOGO', '$ITP', '$XLF', '$DVN', '$LVS', '#Bitcoin', '$QS', '#GiddyUp', '$EH', '$CSOD', '$DNN', '$ADAP', '$QS', '$FUBO', '$SEDG', '$APHA', '$KAR', '$GOOGL', '#TheTake', '#GiddyUp', '#Friday', '#FromTheTradingFloors', '#MinnesotaMood', '#KeepGrinding', '#PetePrinciples', '$DNN!!', '$PLTR', '$AAPL', '$TSLA', '$SNDL…', '#Bitcoin', '#GiddyUpUpUp', '$DNN', '$XLF', '$SMH', '#GoGophs', '#GiddyUpUpUp', '#BITCOIN', '$CCIV', '$CCIV', '$AMZN', '#UnusualActivity', '$SMH', '$XLF.', '#UnusualActivity', '$XLF', '$LVS', '$AAPL', '$PLTR', '$TSLA', '$SNDL', '$ROKU', '$TGT,', '$TJX,', '$MIK,', '$BBY', '#GiddyUp,', '$TIGR', '$TWTR', '$UPS', '$WMT', '#HEXO', '$HEXO', '#GiddyUp', '$MRO', '$SNDL', '$TRCH', '$CTRM', '$DNN', '$SOS', '$PLTR', '$SCKT', '$ZOM', '$ALJJ', '$DFFN', '#Commander', '#LetsGet…', '#UnusualActivity', '$RLLCF', '$CHOLF', '$CAN', '$FINV', '$DFIFF', '$YI', '$RIOT', '$VYGVF', '$VIVEF', '$MVIS', '$sens.', '$uoa', '#Gold', '#winter', '#snow', '$BTC', '#tuesdaymotivations', '#tuesdayvibe', '#investors', '#cryptocurrency', '#wallstreetbets:', '$AMC', '$GME', '$SNDL', '#petesprincipled', '#Giddyup', '#tuesdaymotivations', '#BTC', '$JMIA', '$BTBT', '$LLY', '$OZON', '$MRVI', '$CERT', '$TSLA', '$TSLA', '$PCG', '$DIS', '$DHR', '$IAA', '$UPST', '$CHTR', '$AMZN', '$GOOG', '$BURL', '$INTU', '$MSFT', '$FB', '$GOOG', '$ADBE', '$ABT', '$V', '$MA', '$ACN', '$ADSK', '$ZTS', '$PYPL', '$MSFT', '$IDXX', '$EL', '$INTU', '$SYK', '$PM', '$MKC', '$PEP', '$NFLX', '$FRC', '$HD', '$MA', '$RACE', '$GOOGL', '$ISRG', '$MASI', '$BR', '$BNKG', '$MSFT', '$TMUS', '$AMZN', '$SBUX', '$FCX', '$PANW', '$SE', '$PENN', '$NUAN', '$DIS', '$FB', '$WIX', '$SMAR', '$GOOG', '$EBAY', '$UPWK', '$PYPL', '$DESP', '$ROKU', '$ORLY', '$BAM', '$AMT', '$KMX', '$MKL', '$AON', '$ECPG', '$AMWD', '$SSNC', '$NVR', '$TMUS', '$AMZN', '$MU', '$FB', '$PCG', '$GOOG', '$BABA', '$TWTR', '$HCA', '$ET', '$MA', '$LIN', '$BKNG', '$EBAY', '$V', '$EL', '$GOOG', '$NKE', '$RACE', '$OTIS', '$PG', '$TDG', '$CHTR', '$GOOGL', '$FB', '$MCO', '$MA', '$V', '$SHOP,', '$NFLX,', '$NVDA,', '$ZM,', '$MTCH,', '$IDXX,…', '$CRM', '$KMI', '$ZM', '$DXCM', '$EH', '$WFC', '$SPX', '$FISV', '$CURI', '$U', '$MSTR', '$CCIV', '$JPM', '$PLBY', '$SCKT', '#earnings', '#volatility', '$NEX', '$APRN', '$CNDT', '$BXRX', '$CASA', '$MGI', '$OEC…', '$AAPL', '$TSLA', '$DXY', '$LPTV', '$VIX', '$VIX6M', '$VIX', '$SFOR', '$SFOR', '$SFOR', '$SFOR', '$MKGP', '$frog', '$SFOR', '$BOXL', '$BOXL', '$SFOR…', '$SFOR', '$SFOR', '$SFOR', '$SFOR', '$OPK', '$WIMI', '$DKNG', '$XPEV', '$AMAT', '$BB', '$NNDM', '$F', '#bitcoin', '#COVID19', '#fsinsight', '#Bitcoin', '$TSLA', '$XLE', '$OIH', '$IWM', '$IW…', '#Bitcoin', '$TSLA', '$XLE', '$OIH', '#energy', '#DOW', '#SPX', '#NDX', '#RTY', '#VIX', '#Bitcoin', '#Ether', '#BitcoinCash', '#EOS', '#Stellar…', '$AAPL', '$AMZN', '$BABA', '$BIDU', '$FB', '#BTC', '#CRYPTO', '#Bitcoin', '#Ether', '#BitcoinCash', '#EOS', '#DOW', '#SPX', '#NDX', '#RTY', '#VIX', '#VIX', '#VIX', '#DOW', '#SPX', '#NASDAQ', '#RUSSELL', '#DOW', '#SPX', '#NASDAQ', '#RUSSELL', '#FANG', '#IGOpeningCall', '#Bitcoin', '#Ether', '#BitcoinCash', '#EOS', '#Stellar…', '#Gold', '#Silver', '#Platinum', '#XAUUSD', '#Commodities', '$F', '#Bitcoin', '#Ether', '#BitcoinCash', '#EOS', '#FTSE', '#DAX', '#CAC', '#AEX', '#MIB', '#Bitcoin', '#Ether', '#BitcoinCash', '#EOS', '#Stellar…', '#Gold', '#Silver', '#Platinum', '#XAUUSD', '#Commodities', '#EURUSD', '#GBPUSD', '#USDJPY', '#AUDUSD', '#AUDJPY', '#Bitcoin', '#Ether', '#BitcoinCash', '#EOS', '$PLBY', '#ASX200', '#DOW', '#SPX', '#NASDAQ', '#RUSSELL', '#FANG', '#IGOpeningCall', '#Bitcoin', '#Bitcoin', '#Ether', '#BitcoinCash', '#EOS', '$AAPL', '$AMZN', '$BABA', '$BIDU', '$FB', '$KNB', '#Bitcoin', '#Ether', '#BitcoinCash', '#EOS', '#Stellar…', '#FTSE', '#DAX', '#CAC', '#AEX', '#MIB', '#Gold', '#Silver', '#Platinum', '#XAUUSD', '#Commodities', '#Bitcoin', '#Ether', '#BitcoinCash', '#EOS', '#EURUSD', '#GBPUSD', '#USDJPY', '#AUDUSD', '#AUDJPY', '#EURUSD', '#GBPUSD', '#USDJPY', '#AUDUSD', '#AUDJPY', '#Bitcoin', '#Ether', '#BitcoinCash', '#EOS', '#Bitcoin', '#Ether', '#BitcoinCash', '#EOS', '#Bitcoin', '#Ether', '#BitcoinCash', '#DOW', '#SPX', '#NASDAQ', '#RUSSELL', '#Gold', '#oil', '#trading', '#Gold', '#Silver', '#Platinum', '#XAUUSD', '#Commodities', '#NIKKEI', '#ASX', '#HSI', '#HSHARES', '#EURUSD', '#GBPUSD', '#USDJPY', '#AUDUSD', '#AUDJPY', '#FTSE', '#DAX', '#CAC', '#AEX', '#MIB', '#Aluminium', '#Copper', '#Nickel', '#Lead', '#Zinc', '#Metals', '#Commodities', '#Bitcoin', '#Ether', '#BitcoinCash', '#EOS', '#Gold', '#Silver', '#Platinum', '#XAUUSD', '#Commodities', '#EURUSD', '#GBPUSD', '#USDJPY', '#AUDUSD', '#AUDJPY', '#Bitcoin', '#Ether', '#BitcoinCash', '#EOS', '#Bitcoin', '#Ether', '#BitcoinCash', '#EOS', '#NIKKEI', '$UAVS', '$UAVS', '$POAI', '#yolo', '$HEXO…', '$FCEL', '$DM', '$VERU', '$SHIP.', '$PLTR', '$FUBO', '$BNGO', '$BLNK', '$CYRX', '$apps', '$NNDM', '$PLTR', '$VUZI', '$fubo', '$FUBO…', '$DM', '$CPSH.', '$DM…', '$CPSH', '$VUZI', '$TIGR', '$ALDX', '$DM', '$SPY', '$ALDX', '$HEXO…', '$HEXO', '$HEXO', '$HEXO', '$SPY', '$SHIP', '$SHIP…', '$LOVE', '$VERU', '$SENS…', '$SENS', '$TIGR…', '$ALDX', '$AMRN', '$SHIP', '$IZEA', '$SENS', '$CRWD', '$CRWD', '$CYBR', '$BLNK.', '$X', '$SPY', '$GNRC', '$CLX…', '$RIOT', '$RIOT', '$PLTR', '$VOXX', '$PTON', '$VOXX', '$FFTY', '$BNGO', '$SQ', '$FSLR', '$AAPL', '$BILL', '$ALDX', '$PLTR', '$PLTR', '$PLTR', '$CMRX', '#Futures', '$MWK', '$ALDX', '$BNGO', '$TIGR', '$FUTU', '$ENTG', '$ALDX', '$ALDX', '$WBAI', '$WBAI', '$NVDA', '$GS', '$ALDX', '$ALDX', '$SI', '$SCKT', '$TIGR', '$XLU', '$STIM', '$ALDX', '$CHWY', '#Futures', '$FUTU', '$CRSR', '$WMB', '$STIM', '$SPI', '$GOOGL', '$WYNN', '$WYNN', '$SPI', '$TDOC', '$TDOC', '$WYNN', '$BNGO', '$WYNN', '$ALDX', '$CRWD', '$BNGO', '$BKE', '$SI', '$SI', '$ALDX', '$THCB', '$ALDX', '$TDOC', '$SI', '$ALDX', '$TDOC', '$CRWD', '$BNGO', '$BNGO', '$TDOC', '$GNRC', '#Futures', '$TIGR', '$CHWY', '$CRWD', '$NLS', '$SCCO', '$BNGO', '$BNGO', '#Futures', '$PENN', '$NVDA', '$MSFT', '$TTD', '$ALGN', '$GOOGL', '$TTD', '$SCCO', '$CHWY', '$SLQT', '#BloombergCrypto', '#Covid1…', '#Coronavirus', '#RoadtoNetZero', '#BloombergCrypto', '#bonds', '#inflation', '#SGBudget2021', '#SGBudget2021', '#Coronavirus', '$TWTR', '$ELYS', '$PLTR', '$WERAMP', '$TSLA', '$NERD', '$WERAMP', '$TWTR', '$IBB', '$XBI', '$STUDY', '#bitcoin', '#bitcoin', '$PLTR', '$AMZN', '$NWS', '$GOOGL', '$SHOP', '$RNG', '$MSTR', '$MSTR', '$PLTR', '$AACQ,', '$CFAC…', '$ET', '$ENBL', '$TSLA', '$F', '$CVX,', '$MMC,', '$VZ', '$XONE', '$CCIV', '$HEXO', '$STZ', '$BRK.A', '$BRK.B', '$BFLY', '$HON', '$SPY…', '$MAR', '#bitcoin', '$NCLH', '$JD', '$TSLA', '$MSTR', '$CSGP', '$CLGX', '$PLTR', '$BLUE', '$PDAC', '$RBC', '$RXN', '#Nasdaq', '$CURI', '#SupDup', '$BKLLF', '#SupDup', '#FastMoney', '#WallStreet', '#Stocks', '#Money', '$LTMCF', '#SupDup', '#Lithium', '$BKLLF', '#SupDup', '#FastMoney', '#Stocks', '#Money', '$HEC', '#SupDup', '#SupDup', '$STPK', '$CURI', '$EVFM', '$RMO,', '$MS', '$BMIX', '#SupDup', '$HEC', '#SupDup', '$EVFM', '$PFE', '$MRK', '$TEVA', '$EVFM', '#SupDup', '#SuperDuperMoney', '#FastMoney', '#WallStreet', '#Money', '$EVFM', '#CNBC', '$HECCW', '#SupDup', '$EVFM', '#Phexxi', '#SupDup', '$HEC', '$EVFM', '#SupDup', '#Money', '$HEC', '#SupDup', '$EVFM', '#SupDup', '$BKLLF', '#Bitcoin…', '#DJIA…', '$HEC', '#SupDup', '$BMIX', '$CURI', '$EVFM', '#SupDup', '#SuperDuperMoney', '#FastMoney', '#WallStreet', '$EVFM', '#SupDup', '#Money', '$EVFM', '#SupDup', '$THCB', '$STPK', '#SupDup…', '$EVFM', '#SupDup', '#FastMoney', '#FinTwits', '#Money', '$BKLLF', '#SupDup', '#Bitcoin', '#Blockchain', '#Penny', '#Stock', '$BKLLF', '$BKLFF', '$BKLLF', '#Bitcoin', '#Mining', '$STPK', '#SupDup', '#FastMoney', '#WallStreet', '#Stocks', '#Money', '$CURIW', '#SupDup', '#SuperDuperMoney', '#WallStreet', '#FastMoney', '$CLVR', '$CDTX', '$AJAX', '$SESN', '$SESN', '#SupDup', '#SupDupTeam', '#SupDup', '$TCON', '#SupDup', '#SuperDuperMoney', '#WallStreet', '#FinTwits', '#Money', '$MARA', '#SupDup', '#SuperDuperMoney', '#WallStreet', '#Bitcoin', '$CURIW', '#SupDup', '#SuperDuperMoney', '#FastMoney', '#Stocks', '$CURI', '#SupDup', '#FastMoney', '#FinTwits', '#WallStreet', '$BNGO', '$RMO', '$HEC', '$AJAX', '$CCIV', '$STPK', '$STPK', '#SupDup', '#FastMoney', '#WallStreet', '#FinTwits', '#Money', '$OBMP', '$BNGO', '#SupDup', '$CDTX', '$HEC', '#SupDup', '$CDTX', '#SupDup', '$RVP', '#SupDup', '$RMO', '$RVP', '$CDTX', '#SupDup', '$CDTX', '$CLVR', '$CDTX', '$CDTX', '$CDTX', '$CDTX', '$CDTX', '$CDTX', '#SupDup', '$CDTX', '$CLVRW', '#SupDup', '#FastMoney', '$CLVR', '#SupDup', '#FastMoney', '#WallStreet', '#FinTwits', '#Money', '#SupDup', '$BMIX', '#SupDup', '$HEC', '$TAUG', '$BNGO', '#SupDup', '#SupDupTeam', '#WallStreet', '$BNGO', '$BNGO', '#SupDup', '#SuperDuperMoney', '#WallStreet…', '$STPK', '#SupDup', '#Money', '$ETWO', '#SupDup', '#FinTwits', '#FastMoney', '#WallStreet', '$HEC', '$HEC', '$LTMCF', '$SESN', '#SupDupTeam', '$LTMCF', '$IVFH', '$STPK', '#CNBC', '$ATNF', '#SupDup', '#SuperDuperMoney', '#Stocks', '#Money', '$STPK', '#SupDup', '#FastMoney…', '$THCB', '#SupDup', '#Money', '$SESN', '#SupDup', '#FastMoney', '#StockMarket', '#Money', '$SESN', '$SESN', '$BNGO', '#SupDup', '#SuperDuperMoney…', '$EVFM', '$GTCH', '$ETSY', '#SupDup', '#Money', '$OPTT', '$SPCB', '$XPEV', '$OPTT', '$EVFM', '#TikTok.', '$ATNX', '$CPSH', '$INPX', '$SELB', '$BNGO', '$STPK', '$CIIC', '$BLXX', '$SESN', '$THCB', '$RMO…', '$KODK', '$CBAT', '$PUGE', '$SRMX', '$BBI', '$EVFM', '$SNDL', '$SESN', '$IDEX', '$SOS', '$TAUG', '$NSPR', '$LOTZ', '$INPX', '$HEC', '$SOS', '$AJAX', '$VLDR', '$CCIV', '$HCMC', '$T', '$RTX', '$FUBO', '$SLCA', '$KHC', '$GBTC', '$RIOT', '$PLTR', '$WMT', '$T', '$GS', '$PG', '$MRK', '$A', '$LH', '$DVN', '$FCX', '$VZ', '$VZ', '$CVX', '$MRK', '$HD', '$PG', '$PG', '$MRK', '$PLTR', '$CHWY', '$BLDP', '$GS', '$XOM', '$XOM', '$LULU', '$QCOM', '$NVDA', '$LAZR', '$FDX', '$C', '$BAC', '$GS', '$GS', '$WYNN', '$FSLY', '$TLRY', '$BIDU', '$ROKU', '$SWI', '$TDOC', '$MOGO', '$VZ', '$SNDL', '$TSLA', '#TheStreetLive,', '$WORK', '$CRM…', '$CRM', '$CCIV', '$GIK', '$NETE', '$DE', '$NCLH', '$VZ', '$TPCO', '$CSOD', '$MGI', '$LODE', '$ELYS', '$PLTR', '$F', '#Bitcoin', '$WING', '$EXAS', '$CCIV', '$FSLY', '$WFC', '$CLPS', '$WMT', '$ELYS', '$ET', '$ENBL', '$SHOP', '$AMZN', '$WMT', '$GOOGL', '$NWSA', '$SHOP', '$TSCO', '$WING', '$F', '$QS', '$AMAT', '#Bitcoin', '$TCNNF', '$VIR', '$GSK', '$SQ', '$QS', '$VZ', '#Bitcoin', '$ADI', '$CRM', '$WORK', '$SNDL', '#TheStreetLive,', '$LODE', '$WORK,', '$CVX,', '$VZ', '$QS.', '$CRM', '$BA', '$XLE', '$XLK', '$TSLA', '$MA', '$BK', '$MS', '$PYPL', '$MSTR', '$W…', '$F', '$HLT', '$CVS', '$VZ', '$GS', '$AMZN', '$EGO?', '$CVX', '$PXD,', '$CVX.', '$VZ', '$HEXO', '$ZBISF', '#Bitcoin', \"$ARKW's\", '$PLUG', '$PLTR', '$TSLA', '$TSLA', '$CCIV', '$BB', '$CCIV', '$CCIV', '$FSLY', '$TLRY', '$ELY', '$SAM', '$REEMF', '$MAR', '$GS', '$CVS', '$CEVA', '$PLTR', '$SHOP', '$C', '$SCKT', '$CVS', '$GE', '$WBA', '$XLE', '$GOOGL', '$NCLH', '$NVDA', '$AN', '$MSTR', '#Bitcoin.', '$C,', '$RNG', '#TheStreetLive', '#Cannabis', '$DPW', '$FTFT', '$APPS', '$OEG', '$BNGO', '$NIO', '$XPEV', '$SPWR', '$VISL', '$KOPN', '#GiddyUp', '$PLTR', '$SOLO', '#GermanBeer', '$CRNT', '$BLNK', '$UAVS', '$AMKR', '$PLTR', '$PLTR', '$SOS', '#ChampionsLeague', '#BayernMunich', '$RIDE', '#ChampionsLeague', '$CRM', '#CRM', '$AMD', '#AMD', '$TLRY', '#TLRY', '#TheStrat.', '$VIPS', '#VIPS', '$VIPS', '#VIPS', '$AMZN', '$SPY', '#SPY', '$FUBO', '#FUBO', '$AAPL', '#AAPL', '$TLRY', '#TLRY', '$HD', '#HD', '$NVDA', '$NVDA', '$GOOG', '#GOOG', '$NFLX', '#NFLX', '$AMZN', '#AMZN', '$FB', '#FB', '$VIX', '#VIX', '$IWM', '#IWM', '$QQQ', '#QQQ', '$SPY', '#SPY', '$AES', '$EMN', '$AIG', '$FB…', '$AMD', '#AMD', '$SNAP', '#SNAP', '$TWTR', '#TWTR', '$CURO', '$LU', '$AMZN', '#Alert', '$SPY', '$VIX', '$SPX', '#VIX', '$CRM', '#CRM', '$CRM', '#CRM', '$CRIS', '#CRIS', '$GOOG', '#GOOG', '$LLY', '#LLY', '$AMZN', '#AMZN', '$AAPL', '#AAPL', '$CGC', '#CGC', '$TWTR', '#TWTR', '$BTCUSD', '#Bitcoin', '$FB', '#FB', '$BYND', '#BYND', '#Workshop', '#Video', '#Scan', '#Char…', '#barstoolfund', '#GoBlue', '$SCR', '$TSCRF', '#Bitcoin.', '#DDTG', '#barstoolfund', '$SHOP', '$TSLA', '$BTC', '#DDTG', '#DDTG', '#DDTG', '#BarstoolFund', '#stillgoing.', '$IMTE', '$LGVW', '$BFLY', '#stocks', '#SPAC', '#medicaldevices', '$GE', '$BFLY', '$TDAC', '$BFLY', '$AEI', '$BFLY', '$BFLY', '$LGVW', '$BFLY', '$BFLY', '$LGVW', '$BFLY', '$LGVW', '$TDAC', '$CCIV', '$DKNG', '$AEI', '$BFLY', '$BFLY', '$AEI', '$AEI', '$AEI', '$AEI', '$HTBC', '$AEI', '#goals', '$AEI', '$AEI', '$AEI', '$AEI', '$SNPR', '$SNPR', '$BEEM', '$SNPR', '$BEEM...Like', '$TDAC', '$LEXX', '$LEXX', '$TRIL', '$SNPR', '$TSLA', '$CCIV', '$SNPR', '$SNPR', '$CCIV', '$SNPR', '$SNPR', '$CCIV?', '$BFLY', '$SNPR', '$TDAC', '$AMZN', '$CCIV', '$TDAC', '$CCIV', '$TDAC', '$AEI', '$SNPR', '$AMZN', '$AEI', '$AEI', '$AEI', '$AEI', '$AEI', '$TDAC', '$CCIV', '$TDAC', '$AEI', '$AEI', '$TDAC', '$CCIV', '$DKNG', '$AEI', '$AEI', '$AEI', '$AEI', '$UVXY', '$LEXX', '$BFLY', '$AEI', '$AEI', '#SUPER', '$SNPR', '$SNPR', '$TDAC', '$TDACW', '$WKEY', '$TDAC', '$TDACW', '$AEI', '$SUNW', '$AEI', '$HFEN,', '$INPX', '$ALTR', '$SENS', '$CRNT', '$AEI', '#StocksToBuy', '#StocksToWatch', '$AEI', '$AEI', '$CEL', '$GME', '$AMC', '$COPX', '$GBTC', '$CHIX', '$CHII', '$URNM', '$COPX', '$MJ', '$PRNT', '$RING', '$GDX', '$TAN', '$GDX', '$RING', '$GDXJ', '$KCE', '$VRTS', '$SF', '$RJF', '$LPLA', '$KKR', '$COWN', '$ARES', '$AMG', '$WETF', '$IVZ', '$IBKR', '$KRE', '$WAL', '$VLY', '$TSC', '$TBBK', '$SIVB', '$SBNY', '$RF', '$PNC', '$PACW', '$CUBI', '$CIT', '$BPFH', '$XLE', '$XOP', '$XES', '$SPY', '$SKYW', '$MTN', '$BAC', '$DRH', '$PEB', '$LPX', '$APLE', '$PNC', '$ERJ', '$MP', '$DAL', '$DIA', '$YM_F', '$PSJ', '#SMH', '$KBE', '$KRE', '$XOP', '$XBI', '$XHE', '$IHE', '$URNM', '$MJ', '$REMX', '$COPX', '$CHIM', '$ITB', '$XBI', '$TAN', '$IBB', '$GDXJ', '$X', '$VIX', '$BTCUSD', '$XLU', '$XLP', '$VIX', '$SPX', '$NKY', '$DJIA', '$SPX', '$NDX', '$SSE', '$SSEC', '$NKY', '$TAN', '$BLOK', '$PRNT', '$ARKK', '$ARKW', '$KOMP', '$IWC', '$IBUY', '$CHIQ', '$SOCL', '$KURE', '$BBH', '$PSJ', '$GAMR', '$ECNS', '$CQQQ', '$PIPR', '$BAK', '$INSW', '$BFAM', '$LPLA', '$CAI', '$FTNT', '$YUMC', '$SI', '$PPD', '$EUFN)', '$SYK', '$YNDX', '$TNK', '$FLS', '$NVO', '$EDEN', '$ADM', '$CHGG', '$CCL', '$BA', '$CCL', '#stocks', '#trading', '#daytrading', '#swingtrading', '$QS', '$CCIV', '$QS', '$eh', '$lk', '$CCIV', '$CCIV', '$TIGR', '#stocks', '#trading', '#daytrading', '#swingtrading', '#stocks', '#trading', '#daytrading', '#swingtrading', '$ASAN', '#IBDpartner.', '$CHWY', '#IBDpartner.', '$TDOC', '#IBDpartner.', '$chwy', '#stocks', '#trading', '#daytrading', '#swingtrading', '$NTR', '$CPG', '$RDS.A', '$RDS.B', '$TWTR', '$FB', '$MGM', '$WFC', '$VZ', '$CVX', '$MMC', '$PLTR', '$BRK.A', '$ET', '$ENBL', '$EH', '$EBON', '$BTC', '$BITCOIN…', '$GILD', '$FSR', '$TWTR', '$PLTR', '$HOG', '$WMT', '$ORCL', '$MRNA', '$UA', '$UAA', '$AMZN', '$BLUE', '$CREE', '$NFLX', '$DIS…', '$PAX', '$CVET', '$CHK', '$HWM', '$FMTX', '$UAA', '$CRTX', '$FTV', '$AEGN', '$BLUE', '$PLTR', '$CREE', '$MESA', '$OSK', '$FCX', '$SDC', '$WBA', '$VIR', '$CVX', '$VZ', '$TPCO', '$GRMN', '$SHOP', '$HLT', '$COMM', '$WORK', '$IMUX', '$GSK', '$EH', '$NSRGY', '$PLTR', '$TNAV', '$JBLU', '$AAL', '$LOW', '$QSR', '$SBUX', '$A', '$HLT', '$CMG', '$CCIV', '$NKLA', '$FSR', '$GOLD', '$CVS', '$AZN', '$AAPL', '$CLGX', '$CSGP', '$WBAI', '$AN', '$BLUE', '$PLTR', '$VWAGY', '$NSANY', '$TM', '$LDOS', '$LHX', '$NTDOY', '$SNE', '$MSFT', '$ATVI', '$UBSFY', '$EA', '$TTWO', '$T', '$OTGLY…', '$ACRX', '$FLGT', '$AXP', '$CRWD', '$ZS', '$TENB', '$GPS', '$LB', '$MAT', '$NFLX', '$BEAM', '$CURI', '$LOTZ', '$CRWD', '$MYTE', '$WM', '$AXP', '$NBLX', '$BB', '$PLCE', '$PLAN', '$BL', '$ALB', '$MAT', '$ETN', '$MCK', '$WBAI', '$PDAC', '$CLGX', '$CVS', '$AAP', '$LPX', '$AN', '$PLTR', '$USFD', '$BLUE', '$NNDM', '$CRTX', '$CSGP', '$GRWG', '$BB', '$CSGP', '$CLGX', '$ACB', '$TLRY', '$TSNP', '$DLOC', '$TSNP', '$OZSC', '$AITX', '$ENZC', '$HQGE', '$LTNC', '$TSNP,', '$tsnp', '$AABB', '$TSNP', '$WKSP', '$BTSC', '$MAXD', '$APYP', '$IQST', '$AABB', '$LTNC', '$GME', '#GameStop', '#wallstreetbets', '#HedgeFunds', '#ShortSqueeze…', '#riprush', '#RIP', '#rushlimbaugh', '$TSNP', '$AITX', '$ENZC', '$SIML', '$NEOM', '$HQGE', '$LTNC', '$GAXY', '$OZSC…', '$SANP', '$AABB', '$AFPW.', '$CLIS', '$BTC', '#bitcoin…', '$AABB', '$TSNP', '$AABB', '$AABB', '$KNOS', '$RLLCF…', '$PETZ', '$VYNE', '$SCKT', '$ALJJ', '$WBAI', '$AACQW', '$PTVCB', '$MYT', '$TRCH…', '$RLLCF', '$IPIX', '$MAXD', '#ARK', '$BFLY', '$SU', '$PDAC', '$GME', '$NXTD', '$AQUA', '$CAT', '$UBER', '$PENN', '$LVS', '$GERN', '$GSKY', '$AAP', '$GSKY', '$WFC', '$CCL', '$STNE', '$GSKY', '$BHC', '$APPS', '$CVX', '$XOM', '$MAT', '$MESA', '$SQ', '#ARK', '#BTC', '$AMD', '$VUZI', '$COTY', '$CCIV', '#ARK', '#ARK', '$SPX', '$RTY', '$NDX', '$MXEF', '$SPX', '$ARW', '$ASIX', '$X', '$MASI', '$X', '$SENS', '$PSTH', '$ITP', '$Put/Call:', '$WFC', '$CCL', '$RCL', '$NCLH', '$BP', '$USB', '$BTWN', '$COP', '$VUZI', '$CCIV', '$IO', '$XIN', '$VFF', '$ITP', '$ITP,', '$CCIV', '$X', '$CCL', '$XIN', '$DNN', '$BAC', '$MS', '$ATHX', '$JCI', '$OPRA', '$YRD', '$NVDA', '$NMTR', '$XL', '$ZM', '$PSAC', '$TECK', '$MP', '$FB', '$GNRC', '$BB', '$MSFT', '$PRTS', '$NCNO', '$PYPL', '#Cannabis', '$AAPL', '$CNHI', '$GM', '$LIN', '$MGA', '$NXPI', '$ST', '$TEL', '$UBER', '$XPEV', '$BWA', '$IDEX', '$STIC', '$PLAN', '$TSLA', '$SQ', '$BTC.', '$PLTR', '$STIC', '#BarkBox', '$SGEN', '#Bitcoin:', '$SQM', '$TTM', '$PDAC', '#SPAC', '#NIKKEI', '$MNST', '#BTC', '$PDD,', '$VIPS', '$PDD', '$BGCP', '$PLTR', '$KHC', '$SHOP', '$TWLO', '$BIDU', '$TLRY', '#SPACs', '$STLA', '#BTC', '$SPX', '$TSLA', '$TSLA', '$AAPL', '#BTC', '$SPY', '$DAX', '$X…', '$CVX', '$CVX', '$SPHB', '$SPLV', '$GLD', '$QQQ.', '$TSLA', '$AAPL', '$MSFT', '$AMZN', '$NVDA', '$PYPL', '$TMO…', '$SQ', '#earnings', '$SPY', '$PTON', '$IWM', '#CNBC', '$SPY', '#CNBC', '$SPY', '$SPY', '$SPY', '$SPY', '$SPY', '$SPY', '$SPY', '$TSLA', '$SPY', '$DIS', '$FB', '$QS', '$SPY', '#CNBC', '$SOLO', '$F', '$MSTR', '$GME', '$GME', '#CNBC', '$JPM', '$CCL', '$NCLH', '$WYNN', '$MSTR', '$TSLA', '$JNJ', '$GME', '$SLV', '$DIA', '$SPY', '$QQQ', '$IWM', '#mech', '#ppi', '#escooters', '#smartmobility', '#BlackHistoryMonth,', '#TheClose', '$SNBR', '$TLRY', '$TWLO', '$SNBR', '$APHA', '$SOS', '$RIOT', '$HLF', '$LODE', '$LODE', '$RIOT', '#CRYPTO,', '$TLRY', '$CCIV', '$SOS', '$CCL', '$SLV', '$AAPL', '$TSLA', '$PLTR', '#Bitcoin', '#UnusualActivity', '$TSLA', '$BTC', '#Bitcoin', '$BTC', '#UnusualActivity', '$TWTR', '$MGM', '$EH', '$EBON', '$RIOT', '$QS', '$VIR', '$KRNT', '$IMVT', '$NKTR', '$KAR', '$BTC', '$TSLA', '$DNN', '$SLV', '$VZ', '$AMD', '$AAPL', '$TSLA', '$PLTR', '$NIO', '$TWTR', '$SNDL', '$ONTX', '$LODE', '$DNN', '$CTRM', '$SOS', '$ZOM', '$CLPS', '$PLTR', '$PTON', '$LODE', '$SOS', '$HLT', '$SHOP', '$CVX', '$VZ', '$WORK', '$THS', '#GiddyUp', '#UOA', '$SOS', '$WBAI', '$VIR', '$EBON', '$KRNT', '$RIOT', '$SSYS', '$BTBT', '#Bitcoin', '$BTC', '#Bitcoin', '#UnusualActivity', '$XLF', '$DVN', '$LVS', '$ZNGA', '$CCJ', '$ET', '$ARKF', '$MP', '$BP', '$IAA', '$MESA', '$ACTG', '$FLEX', '$GOGO', '$XLF', '$DVN', '$LVS', '$EH', '$CSOD', '$DNN', '$ADAP', '$QS', '$FUBO', '$SEDG', '$APHA', '$DNN', '$AMD', '$TLRY', '$CCL', '$PLTR', '$AAPL', '$TSLA', '#Bitcoin', '#Bitcoin', '$CCIV', '$CCIV', '$AMZN', '#UnusualActivity', '$SMH', '$XLF.', '#UnusualActivity', '$XLF', '$LVS', '$HEXO', '$SOS', '$FB', '$CCL', '$TWTR', '$AAPL', '$PLTR', '$TSLA', '$SNDL', '$ROKU', '$TWTR', '$UPS', '$WMT', '#HEXO', '$HEXO', '$SNDL', '$TRCH', '$CTRM', '$DNN', '$SOS', '$PLTR', '$SCKT', '$ZOM', '$ALJJ', '#UnusualActivity', '$RLLCF', '$CHOLF', '$CAN', '$FINV', '$DFIFF', '$YI', '$RIOT', '$VYGVF', '$VIVEF', '$MVIS', '$BTC', '$PLTR', '$MSTR', '$AN', '$CVS', '$AAPL', '$FB', '$BTC', '#bitcoin', '$BLUE', '$CRTX', '$FTI', '$NNDM', '$GILT', '$PLTR', '$ORTX', '$GLPG', '$VYNE', '$CCIV', '$WBAI', '$GTHX', '$SOS', '$CAN', '$FINV', '$RIOT', '$OCGN', '$STPK', '$AAP', '$PLTR', '$CVS', '$AAP', '$SEDG', '$SHOP', '$FSLY', '$TLRY…', '#Bitcoin', '#ETH,', '#VGX', '#btc', '$AAPL', '$AAPL', '#Options', '#Bitcoin', '$BTCUSD', '#Caterpillar', '$CAT', '$CAT-', '$CAT', '$CAT', '#Caterpillar', '#Financials', '$RYF', '$TNX', '$TNX', '#bitcoin', '#bitcoin', '$PLTR', '$AMZN', '$NWS', '$GOOGL', '$SHOP', '$RNG', '$MSTR', '$MSTR', '$PLTR', '$AACQ,', '$CFAC…', '$ET', '$ENBL', '$TSLA', '$F', '$CVX,', '$MMC,', '$VZ', '$XONE', '$CCIV', '$HEXO', '$STZ', '$BRK.A', '$BRK.B', '$BFLY', '$HON', '$SPY…', '$MAR', '#bitcoin', '$NCLH', '$JD', '$TSLA', '$MSTR', '$CSGP', '$CLGX', '$PLTR', '$BLUE', '$PDAC', '$RBC', '$RXN']\n"
     ]
    }
   ],
   "source": [
    "#Changed the code so it also includes hashtags and pulls it out\n",
    "top_stocks = re.findall(r'[$#][A-Za-z][\\S]*',str(a)) \n",
    "words_collection2 = []\n",
    "print(top_stocks)"
   ]
  },
  {
   "cell_type": "code",
   "execution_count": 139,
   "id": "entertaining-paint",
   "metadata": {},
   "outputs": [
    {
     "name": "stdout",
     "output_type": "stream",
     "text": [
      "['spy', 'obtc', 'agfy', 'bitcoin', 'gme', 'ibkr', 'vrtu', 'gme', 'funff', 'tscrf', 'dkng', 'sklz', 'penn', 'eh', 'lkncy', 'tal', 'sbvcf', 'pltr', 'btc', 'kmph', 'btc', 'eth', 'pltr', 'sph', 'nrg', 'uso', 'bitcoin', 'btc', 'riot', 'mara', 'acev', 'fprx', 'nndm', 'ebon', 'bngo', 'oxy', 'xom', 'ship', 'fubo', 'nvda', 'ltc', 'clvs', 'fubo', 'tsla', 'btc', 'pltr', 'vz', 'cvx', 'bitcoin', 'btc', 'nvs', 'exas', 'mreo', 'rhhby', 'btc', 'eth', 'doge', 'ada', 'dot', 'grt', 'tsla', 'sq', 'doge', 'tsla', 'msft', 'tsla', 'aapl', 'brka', 'brkb', 'tsla', 'btc', 'doge', 'mars', 'fb', 'snap', 'twtr', 'orcl', 'wmt', 'trch', 'trch', 'cciv', 'rpla', 'fsr', 'spce', 'clmf', 'ride', 'ipog', 'ipoh', 'ipoi', 'gnrc', 'nrg', 'ppsi', 'vst', 'bitcoin', 'tsla', 'btc', 'sckt', 'tcrh', 'dan', 'pltr', 'cciv', 'sos', 'tigr', 'pltr', 'hyln', 'btc', 'cciv', 'visl', 'visl', 'trch', 'oxy', 'bngo', 'ship', 'xom', 'vet', 'nvda', 'yj', 'ebon', 'nndm', 'msft', 'ltc', 'mar', 'sos', 'trch', 'sckt', 'spacs', 'nstb', 'grsv', 'aacq', 'jack', 'play', 'bfi', 'mp', 'hyln', 'stic', 'rtp', 'tsia', 'fsr', 'dmyd', 'clvr', 'spacs', 'spacsquad', 'ship', 'vet', 'bngo', 'ship', 'xom', 'nvda', 'msf', 'btc', 'sckt', 'btc', 'nflx', 'dis', 'btc', 'btc', 'grt', 'rvn', 'icx', 'btg', 'dash', 'lsk', 'doge', 'btc', 'tsla', 'sne', 'stockmarkets', 'technicalanalysis', 'charts', 'ibb', 'xbi', 'khrns', 'aapl', 'vlkaf', 'hubs', 'fb', 'aapl', 'coh', 'coty', 'cpri', 'lvmuy', 'rl', 'real', 'goos', 'pruy', 'ftch', 'el', 'trch', 'bac', 'celh', 'amzn', 'ko', 'wmt', 'gm', 'xom', 'amzn', 'stocks', 'qs', 'ebon', 'stocks', 'aapl', 'auy', 'pltr', 'cvs', 'fti', 'ccl', 't', 'vale', 'bac', 'hst', 'cmlf', 'fami', 'epix', 'bliaq', 'gme', 'koss', 'expr', 'uber', 'btc', 'crb', 'zroz', 'lumber', 'copper', 'wtic', 'btc', 'btc', 'spx', 'riot', 'zm', 'yala', 'tigr', 'roku', 'expi', 'bynd', 'bili', 'earnings', 'csod', 'wing', 'kar', 'cai', 'hees', 'bpmc', 'lzb', 'krnt', 'crk', 'eqt', 'cmp', 'crsp', 'earnings', 'wmt', 'fvrr', 'gold', 'wm', 'nem', 'aprn', 'hrl', 'mar', 'fe', 'wst', 'earnings', 'tlry', 'fsly', 'twlo', 'bidu', 'spwr', 'stmp', 'sam', 'mro', 'et', 'snbr', 'nvta', 'earnings', 'spy', 'qqq', 'spx', 'adi', 'earnings', 'earnings', 'shop', 'wix', 'wing', 'adi', 'ptn', 'grmn', 'hlt', 'tsem', 'dava', 'earnings', 'sedg', 'rng', 'oxy', 'a', 'exas', 'byd', 'lzb', 'dvn', 'lscc', 'earnings', 'volatility', 'nex', 'aprn', 'cndt', 'bxrx', 'casa', 'investingwithibd', 'investingwithibd', 'tlry', 'marijuanastocks', 'cannabisstocks', 'wfc', 'clf', 'amzn', 'eqt', 'ibdstockoftheday', 'stocks', 'stocks', 'warrenbuffett', 'brkb', 'cat', 'ibdstockoftheday', 'stockstowatch', 'jpm', 'cat', 'aapl', 'tsla', 'electricvehicles', 'investing', 'stocks', 'stockmarket', 'earnings', 'pltr', 'stocks', 'presidentsday', 'stocks', 'investingwithibd', 'gme', 'tsla', 'btc', 'btc', 'bitcoin', 'dia', 'spy', 'qqq', 'f', 'btc', 'bitcoin', 'cvx', 'vz', 'aapl', 'fb', 'amzn', 'topthingstoknowtoday', 'shop', 'wix', 'hlt', 'shop', 'btc', 'fb', 'doge', 'dogecoin', 'usd', 'jpy', 'dia', 'spy', 'qqq', 'eur', 'btc', 'eth', 'usdt', 'dot', 'ada', 'xrp', 'bnb', 'ltc', 'bch', 'link', 'btc', 'bitcoin', 'btc', 'bitcoin', 'btc', 'bitcoin', 'vz', 'cvx', 'btc', 'bitcoin', 'gme', 'dia', 'cciv', 'bitcoin', 'mstr', 'btc', 'c', 'tsla', 'amzn', 'aapl', 'pltr', 'futu', 'baba', 'pypl', 'nvda', 'fb', 'msft', 'btc', 'bitcoin', 'pltr', 'dia', 'spy', 'qqq', 'pltr', 'btc', 'bitcoin', 'topthingstoknowtoday', 'pltr', 'cv', 'btc', 'bitcoin', 'usd', 'btc', 'eth', 'usdt', 'ada', 'dot', 'xrp', 'bnb', 'ltc', 'link', 'bch', 'pfe', 'dax', 'ftse', 'cac', 'azn', 'aapl', 'topthingstoknowtoday', 'presidentsday', 'bitcoin', 'clf', 'oott', 'bitcoin', 'ngf', 'ung', 'btc', 'btc', 'eth', 'ada', 'xrp', 'dot', 'bnb', 'ltc', 'link', 'bch', 'doge', 'doge', 'cvx', 'pxd', 'cvx', 'san', 'gdxj', 'gdx', 'gld', 'slv', 'gbtc', 'btcx', 'obtc', 'tnx', 'ibdpartner', 'gnrc', 'eh', 'eh', 'anf', 'mp', 'mp', 'clf', 'eh', 'mp', 'mcfe', 'band', 'texas', 'fcel', 'spx', 'tsla', 'tsla', 'tsla', 'bitcoin', 'dogecoin', 'vix', 'spx', 'vix', 'vix', 'es', 'vix', 'oex', 'bitcoin', 'vix', 'bitcoin', 'tnx', 'vix', 'wix', 'tsla', 'shop', 'jmia', 'shop', 'nbix', 'lhx', 'shop', 'wwe', 'ba', 'ba', 'qs', 'wfc', 'gsat', 'mat', 'net', 'amzn', 'amzn', 'wix', 'shop', 'cree', 'amgn', 'ba', 'spy', 'tt', 'tlt', 'cboe', 'spot', 'ba', 'sos', 'tme', 'ba', 'ba', 'googl', 'docu', 'kt', 'uavs', 'gnrc', 'can', 'u', 'tqqq', 'qs', 'bidu', 'tlry', 'twlo', 'mos', 'spwr', 'khc', 'fsr', 'shop', 'pltr', 'bhc', 'a', 'fb', 'blnk', 'crm', 'fb', 'mmc', 'cvx', 'aapl', 'googl', 'msft', 'twtr', 'googl', 'zm', 'uber', 'lyft', 'twtr', 'tsla', 'sq', 'spce', 'snap', 'roku', 'pypl', 'nflx', 'msft', 'fubo', 'fb', 'docu', 'lvs', 'mgm', 'crwd', 'aapl', 'amzn', 'googl', 'atvi', 'nvda', 'mu', 'amd', 'smh', 'feye', 'cciv', 'mgm', 'dkng', 'nio', 'jd', 'baba', 'lazr', 'hyln', 'fsr', 'cciv', 'sbux', 'stz', 'cgc', 'bynd', 'aa', 'trly', 'wmt', 'ua', 'uaa', 'tgt', 'chwy', 'bbby', 'dis', 'ma', 'khc', 'fdx', 'dal', 'cat', 'ba', 'slb', 'slb', 'teva', 'mrna', 'gild', 'lly', 'armn', 'ibb', 'slb', 'xom', 'cvx', 'xle', 'xle', 'rkt', 'jpm', 'gs', 'gs', 'amzn', 'fb', 'xlf', 'spy', 'vix', 'iwm', 'qqq', 'aapl', 'spy', 'twlo', 'thestrat', 'kbnt', 'msi', 'tbk', 'scco', 'imax', 'nk', 'clgx', 'cpe', 'cspr', 'real', 'tfc', 'ue', 'fubo', 'fubo', 'futu', 'cpe', 'rvp', 'ahco', 'tech', 'vivo', 'allt', 'goco', 'gnmk', 'srne', 'net', 'net', 'ghvi', 'acic', 'cciv', 'haac', 'psac', 'stpk', 'ccac', 'bfly', 'pdac', 'pton', 'apps', 'curi', 'apps', 'mp', 'curi', 'rvp', 'expi', 'frog', 'dt', 'sklz', 'dt', 'pton', 'sklz', 'ttcf', 'wbai', 'si', 'ntco', 'thestrat', 'sspk', 'apr', 'ozon', 'prch', 'vcel', 'stor', 'ntnx', 'cohu', 'ldi', 'ilmn', 'frog', 'voxx', 'ayro', 'veru', 'vcra', 'wdfc', 'tdc', 'ntco', 'flux', 'smar', 'dbi', 'flgt', 'mgni', 'yala', 'dq', 'pton', 'rvp', 'grwg', 'mp', 'mp', 'expi', 'mp', 'pton', 'apps', 'expi', 'dt', 'arya', 'ayro', 'beem', 'ciic', 'fubo', 'mrna', 'plug', 'sklz', 'pton', 'doyu', 'huya', 'pltk', 'ddog', 'beke', 'cdmo', 'thinkorswim', 'spx', 'gp', 'zdge', 'thestrat', 'ps', 'pypl', 'upst', 'tsco', 'gd', 'sdgr', 'nnox', 'rexr', 'nvst', 'viav', 'hznp', 'n', 'amzn', 'bfly', 'btwn', 'bfly', 'lgvw', 'amzn', 'jets', 'btwn', 'fcel', 'sos', 'amzn', 'aapl', 'spx', 'aapl', 'dogpound', 'spx', 'mj', 'btc', 'aapl', 'mile', 'psth', 'btwn', 'sos', 'ebon', 'aapl', 'riot', 'process', 'routine', 'discipline', 'approach', 'ebon', 'sos', 'pltr', 'sos', 'psth', 'mile', 'btwn', 'aapl', 'btwn', 'mile', 'sos', 'aapl', 'aapl', 'trading', 'sos', 'ebon', 'ftft', 'spx', 'dogpound', 'spx', 'qqq', 'btc', 'sos', 'ebon', 'ftft', 'bngo', 'lazr', 'aapl', 'amzn', 'amd', 'gsah', 'psth', 'btwn', 'bngo', 'fcel', 'trading', 'gwph', 'tsla', 'flng', 'dnow', 'business', 'stockmarket', 'economy', 'rio', 'rtntf', 'rtppf', 'stockmarket', 'economy', 'markets', 'tsla', 'economy', 'business', 'trading', 'et', 'stockmarket', 'economy', 'investing', 'vcyt', 'investing', 'markets', 'business', 'skt', 'rail', 'stocks', 'trading', 'stockmarket', 'et', 'stockmarket', 'stocks', 'finance', 'tslx', 'cone', 'finance', 'trading', 'economy', 'llkkf', 'mbfjf', 'mufg', 'eqt', 'finance', 'stockmarket', 'business', 'tgh', 'pltr', 'stocks', 'investing', 'stockmarket', 'mstr', 'markets', 'investing', 'economy', 'crk', 'twlo', 'economy', 'trading', 'investing', 'hgv', 'investing', 'markets', 'economy', 'aptv', 'stocks', 'markets', 'business', 'feny', 'stockmarket', 'investing', 'stocks', 'dxj', 'finance', 'economy', 'business', 'live', 'markets', 'stockmarket', 'trading', 'tsla', 'stockmarket', 'markets', 'finance', 'ard', 'eqt', 'ande', 'cmp', 'vlouf', 'vlowyold', 'capmf', 'cgemy', 'ath', 'athpa', 'athpb', 'drna', 'trading', 'economy', 'business', 'acco', 'finance', 'stocks', 'markets', 'business', 'investing', 'markets', 'edry', 'markets', 'stockmarket', 'trading', 'tnet', 'markets', 'business', 'finance', 'syna', 'aptx', 'business', 'markets', 'investing', 'cai', 'caipa', 'caipb', 'clr', 'car', 'markets', 'economy', 'business', 'mye', 'trading', 'stocks', 'economy', 'dava', 'mmx', 'economy', 'investing', 'markets', 'aau', 'crtx', 'business', 'stockmarket', 'stocks', 'good', 'markets', 'business', 'economy', 'fqvlf', 'markets', 'trading', 'economy', 'riocf', 'investing', 'trading', 'business', 'cmp', 'mhgvy', 'mnhvf', 'mpw', 'economy', 'markets', 'stocks', 'ptn', 'ptr', 'investing', 'markets', 'business', 'invh', 'chh', 'luna', 'stocks', 'finance', 'markets', 'rpai', 'ppruf', 'ppruy', 'psi', 'stockmarket', 'trading', 'stocks', 'merc', 'nee', 'stocks', 'trading', 'investing', 'trading', 'stocks', 'stockmarket', 'wing', 'fsp', 'irs', 'zbh', 'akzof', 'akzoy', 'markets', 'trading', 'finance', 'qts', 'qtspa', 'rdcm', 'sah', 'stocks', 'investing', 'business', 'sfl', 'et', 'psxp', 'isr', 'investing', 'markets', 'stocks', 'aig', 'aigpa', 'fqvlf', 'wy', 'stocks', 'business', 'markets', 'trup', 'stocks', 'finance', 'investing', 'et', 'trading', 'economy', 'investing', 'tmnsf', 'tmsny', 'thcb', 'business', 'markets', 'stocks', 'dava', 'stockmarket', 'stocks', 'economy', 'grmn', 'hexo', 'markets', 'business', 'stockmarket', 'vpg', 'vlouf', 'vlowyold', 'trading', 'stocks', 'finance', 'hsic', 'hqy', 'trading', 'stocks', 'finance', 'eltp', 'cvlb', 'finance', 'economy', 'stocks', 'ilikf', 'stockmarket', 'finance', 'investing', 'vno', 'vnopk', 'vnopm', 'crl', 'markets', 'finance', 'trading', 'finance', 'stockmarket', 'trading', 'hlt', 'dreuf', 'exas', 'stocks', 'trading', 'economy', 'jsaiy', 'stocks', 'economy', 'markets', 'renn', 'stockmarket', 'finance', 'business', 'bti', 'bhagf', 'stocks', 'investing', 'economy', 'ni', 'nipb', 'ale', 'wire', 'kar', 'trading', 'business', 'finance', 'oc', 'adi', 'immvf', 'enlc', 'aig', 'aigpa', 'earn', 'gnw', 'lmt', 'trading', 'stocks', 'stockmarket', 'es', 'stocks', 'finance', 'economy', 'rprx', 'gpc', 'twou', 'economy', 'stockmarket', 'stocks', 'ibcp', 'eprt', 'investing', 'business', 'stocks', 'kref', 'shop', 'business', 'economy', 'finance', 'crmt', 'wix', 'dvn', 'wmt', 'markets', 'investing', 'trading', 'kar', 'xlk', 'business', 'finance', 'stockmarket', 'afi', 'sfl', 'business', 'economy', 'investing', 'cnk', 'economy', 'business', 'investing', 'afi', 'trading', 'economy', 'stockmarket', 'rdcm', 'stocks', 'trading', 'economy', 'comm', 'trading', 'markets', 'investing', 'wix', 'stockmarket', 'stocks', 'investing', 'blok', 'trading', 'business', 'markets', 'acco', 'economy', 'stockmarket', 'stocks', 'fun', 'iosp', 'vopkf', 'vopky', 'irwd', 'investing', 'markets', 'economy', 'lzb', 'rc', 'anh', 'markets', 'trading', 'economy', 'oeg', 'economy', 'stocks', 'finance', 'nls', 'finance', 'investing', 'stocks', 'stocks', 'economy', 'business', 'hees', 'business', 'economy', 'markets', 'dnow', 'stocks', 'stockmarket', 'business', 'mhgvy', 'mnhvf', 'investing', 'stockmarket', 'business', 'shlaf', 'shlrf', 'business', 'stockmarket', 'markets', 'ufcs', 'rio', 'rtntf', 'rtppf', 'trading', 'markets', 'economy', 'chct', 'crk', 'investing', 'stockmarket', 'business', 'sohu', 'trading', 'economy', 'markets', 'car', 'rmbs', 'trading', 'stocks', 'business', 'irwd', 'bpmc', 'nkla', 'trading', 'stocks', 'finance', 'trading', 'finance', 'markets', 'cvx', 'economy', 'markets', 'finance', 'grmn', 'economy', 'finance', 'business', 'bdrff', 'bdrfy', 'plnhf', 'finance', 'business', 'economy', 'hxgcf', 'markets', 'economy', 'finance', 'flng', 'markets', 'business', 'economy', 'hees', 'sr', 'stocks', 'investing', 'finance', 'bprmf', 'stockmarket', 'stocks', 'finance', 'investing', 'economy', 'business', 'klr', 'business', 'markets', 'trading', 'sbux', 'stockmarket', 'economy', 'investing', 'tsn', 'business', 'markets', 'investing', 'mic', 'crl', 'aapl', 'finance', 'stockmarket', 'economy', 'ekso', 'markets', 'stocks', 'investing', 'fdvrf', 'economy', 'business', 'stockmarket', 'brka', 'brkb', 'stocks', 'investing', 'trading', 'investing', 'markets', 'trading', 'stockmarket', 'economy', 'investing', 'good', 'goodm', 'wix', 'markets', 'investing', 'economy', 'cbay', 'stockmarket', 'trading', 'economy', 'ctrm', 'finance', 'economy', 'stockmarket', 'finance', 'stocks', 'investing', 'eww', 'business', 'stockmarket', 'economy', 'cdak', 'markets', 'trading', 'investing', 'mic', 'mlhr', 'economy', 'markets', 'finance', 'finance', 'economy', 'stockmarket', 'trrsf', 'stockmarket', 'investing', 'finance', 'bcor', 'twlo', 'gme', 'gme', 'lode', 'tsla', 'tsla', 'tsla', 'shop', 'roku', 'lode', 'qs', 'tsla', 'lode', 'tsla', 'gme', 'sckt', 'sckt', 'pltr', 'blue', 'cciv', 'tsla', 'btc', 'gbtc', 'spce', 'tsla', 'gm', 'wfc', 'mar', 'aapl', 'xlk', 'btc', 'cciv', 'jpm', 'brka', 'xle', 'pltr', 'bitcoin', 'btcx', 'aei', 'nakd', 'nakd', 'aei', 'tyht', 'tyht', 'ipdn', 'ancn', 'ancn', 'mdvl', 'ancn', 'ancn', 'nakd', 'ancn', 'ancn', 'lotz', 'aei', 'nakd', 'nakd', 'nakd', 'nakd', 'lotz', 'fubo', 'clov', 'fubo', 'clov', 'mict', 'mict', 'chnr', 'sint', 'aacg', 'aapl', 'eh', 'mdvl', 'aei', 'mdvl', 'mdvl', 'mict', 'uone', 'mict', 'aei', 'aei', 'aei', 'eh', 'eh', 'eh', 'eh', 'aei', 'chnr', 'lode', 'uone', 'eh', 'fubo', 'aei', 'eh', 'aei', 'mict', 'fubo', 'fubo', 'mict', 'eh', 'eh', 'aei', 'carv', 'uone', 'uone', 'carv', 'uone', 'pxs', 'gbr', 'aei', 'xl', 'sino', 'aei', 'gbr', 'cei', 'gbr', 'cei', 'gbr', 'aei', 'aei', 'brn', 'lotz', 'kxin', 'mict', 'aei', 'mict', 'xl', 'cciv', 'cciv', 'npa', 'cciv', 'aacg', 'aacg', 'npa', 'aei', 'tsla', 'cciv', 'mict', 'mict', 'sckt', 'cciv', 'mrin', 'mrin', 'brn', 'htbx', 'xl', 'sndl', 'edry', 'edry', 'pxs', 'edry', 'edry', 'pxs', 'npa', 'xl', 'npa', 'efoi', 'efoi', 'efoi', 'xl', 'xl', 'cciv', 'npa', 'npa', 'cciv', 'sint', 'ante', 'cei', 'xl', 'mrin', 'mrin', 'kbnt', 'mrin', 'kbnt', 'rkda', 'xl', 'laix', 'laix', 'aljj', 'gthx', 'dffn', 'sbbp', 'finv', 'kopn', 'sesn', 'imux', 'sngx', 'xspa', 'sndl', 'sino', 'grnq', 'abio', 'gbr', 'lotz', 'sndl', 'laix', 'sndl', 'gbr', 'sino', 'cei', 'amc', 'rkda', 'feye', 'qs', 'feye', 'brkb', 'tlry', 'mara', 'lfin', 'riot', 'btc', 'riot', 'tigr', 'bfly', 'tigr', 'cciv', 'qqq', 'fdx', 'riot', 'tigr', 'qqq', 'aapl', 'ba', 'qqq', 'tigr', 'nktr', 'apps', 'gs', 'pltr', 'bitcoin', 'cciv', 'earnings', 'tlry', 'fsly', 'twlo', 'bidu', 'spwr', 'stmp', 'sam', 'mro', 'et', 'snbr', 'nvta', 'iq', 'jac', 'bngo', 'apps', 'tigr', 'tigr', 'nio', 'pltr', 'icln', 'pbw', 'bngo', 'pltr', 'zm', 'bngo', 'pltr', 'zm', 'pbw', 'icln', 'snpr', 'eh', 'tigr', 'cpsh', 'cpsh', 'cpsh', 'cciv', 'cciv', 'cciv', 'bngo', 'bngo', 'tlry', 'tlry', 'cgc', 'tlry', 'blnk', 'band', 'band', 'pltr', 'bngo', 'pltr', 'zm', 'qqq', 'vxx', 'sens', 'tigr', 'blnk', 'bngo', 'nio', 'cpsh', 'riot', 'sens', 'tigr', 'lazr', 'tigr', 'bngo', 'zm', 'tigr', 'pltr', 'dm', 'spy', 'qqq', 'nat', 'xl', 'abcl', 'lfg', 'stocks', 'solo', 'bngo', 'arkdisrupt', 'tsla', 'sq', 'xop', 'work', 'copx', 'pltr', 'ovv', 'epsbeat', 'ntr', 'whisperbeat', 'arr', 'axta', 'whisperbeat', 'noa', 'epsbeat', 'trox', 'epsmiss', 'paas', 'epsbeat', 'sui', 'epsbeat', 'skt', 'whisperbeat', 'hpp', 'epsmeet', 'ois', 'epsbeat', 'cde', 'epsmiss', 'qtwo', 'whispermiss', 'esrt', 'epsbeat', 'bcei', 'epsbeat', 'kai', 'epsbeat', 'lope', 'whisperbeat', 'cyh', 'whisperbeat', 'sp', 'epsmiss', 'csv', 'epsbeat', 'sun', 'whispermiss', 'np', 'vmi', 'epsbeat', 'faro', 'epsbeat', 'cf', 'epsbeat', 'sblk', 'epsbeat', 'iq', 'whispermiss', 'h', 'epsmiss', 'stmp', 'whisperbeat', 'ar', 'epsbeat', 'bidu', 'whisperbeat', 'am', 'epsmeet', 'ael', 'epsmiss', 'ue', 'epsbeat', 'tgh', 'epsbeat', 'sm', 'whispermiss', 'rpt', 'epsmiss', 'quik', 'epsbeat', 'argo', 'epsmiss', 'sam', 'epsmiss', 'uctt', 'whisperbeat', 'twlo', 'whisperbeat', 'gmed', 'epsbeat', 'et', 'whispermiss', 'cake', 'whispermiss', 'bfam', 'epsbeat', 'tlry', 'whisperbeat', 'alb', 'whispermiss', 'vcyt', 'epsmiss', 'ilpt', 'epsmeet', 'wk', 'whisperbeat', 'hvt', 'epsbeat', 'eig', 'epsbeat', 'bcov', 'epsbeat', 'tslx', 'epsbeat', 'hlf', 'epsmiss', 'vktx', 'epsmeet', 'swav', 'whispermiss', 'fsly', 'whispermiss', 'fcpt', 'epsmeet', 'spwr', 'whisperbeat', 'nvta', 'whispermiss', 'pega', 'epsbeat', 'alsn', 'epsmiss', 'snps', 'whispermiss', 'mant', 'epsbeat', 'lasr', 'epsbeat', 'wcn', 'epsbeat', 'txg', 'epsmiss', 'jack', 'whisperbeat', 'snbr', 'whisperbeat', 'rbbn', 'whisperbeat', 'cutr', 'epsbeat', 'cone', 'epsbeat', 'mx', 'epsbeat', 'wing', 'whispermiss', 'gpc', 'epsbeat', 'gldd', 'epsmiss', 'chh', 'epsmiss', 'mic', 'epsmiss', 'ssrm', 'epsmiss', 'rprx', 'epsmiss', 'adi', 'whisperbeat', 'ath', 'whisperbeat', 'ptn', 'epsmiss', 'irwd', 'epsbeat', 'dava', 'whisperbeat', 'bpmc', 'epsbeat', 'crl', 'whisperbeat', 'vpg', 'epsbeat', 'shop', 'whispermiss', 'rdcm', 'epsbeat', 'ufcs', 'epsbeat', 'hees', 'epsbeat', 'tsem', 'whispermiss', 'sah', 'whisperbeat', 'grmn', 'whisperbeat', 'dnow', 'epsmiss', 'ni', 'epsbeat', 'eqt', 'epsbeat', 'bcor', 'epsbeat', 'ale', 'whisperbeat', 'wix', 'whisperbeat', 'oc', 'whisperbeat', 'hsic', 'whispermiss', 'hlt', 'whispermiss', 'comm', 'epsbeat', 'kref', 'epsmiss', 'es', 'whispermiss', 'enlc', 'whispermiss', 'fsp', 'epsmiss', 'invh', 'epsbeat', 'wter', 'epsbeat', 'wire', 'epsbeat', 'merc', 'whispermiss', 'esoa', 'epsmiss', 'cai', 'epsbeat', 'mcy', 'epsbeat', 'iosp', 'epsbeat', 'crk', 'epsbeat', 'chct', 'epsbeat', 'rpai', 'epsmiss', 'ibio', 'vno', 'epsbeat', 'lzb', 'whispermiss', 'dvn', 'whispermiss', 'clr', 'whispermiss', 'car', 'epsbeat', 'tnet', 'epsbeat', 'kar', 'epsmiss', 'aig', 'whispermiss', 'acco', 'epsbeat', 'qts', 'epsbeat', 'krnt', 'epsbeat', 'exas', 'whispermiss', 'denn', 'whispermiss', 'sedg', 'whisperbeat', 'nmih', 'epsbeat', 'cmp', 'epsmiss', 'ande', 'epsmiss', 'a', 'whisperbeat', 'diod', 'epsbeat', 'crsp', 'epsmiss', 'byd', 'whisperbeat', 'csod', 'whisperbeat', 'rng', 'whispermiss', 'lscc', 'metwhisper', 'cvm', 'mgp', 'epsmiss', 'poww', 'epsmiss', 'expd', 'whisperbeat', 'ecl', 'whispermiss', 'otlk', 'sabr', 'epsmiss', 'ipgp', 'whispermiss', 'usac', 'epsmiss', 'nxrt', 'epsbeat', 'fele', 'epsbeat', 'dac', 'epsbeat', 'ceva', 'epsbeat', 'vmc', 'whispermiss', 'ard', 'epsbeat', 'brkr', 'whispermiss', 'klr', 'epsmiss', 'zts', 'whispermiss', 'gwph', 'epsmiss', 'bki', 'whispermiss', 'bxrx', 'epsmiss', 'trtn', 'whisperbeat', 'rxn', 'epsbeat', 'jeld', 'epsbeat', 'iaa', 'metwhisper', 'he', 'pltr', 'whispermiss', 'lpx', 'whisperbeat', 'alle', 'epsbeat', 'usfd', 'whispermiss', 'tru', 'whispermiss', 'rbc', 'whisperbeat', 'geo', 'epsmiss', 'cvs', 'whispermiss', 'an', 'whisperbeat', 'aap', 'whispermiss', 'ottr', 'epsbeat', 'sci', 'whisperbeat', 'feye', 'vz', 'cvx', 'mmc', 'vz', 'aapl', 'pltr', 'gs', 'qs', 'acic', 'pltr', 'pltr', 'vrm', 'dash', 'open', 'open', 'arkk', 'tsla', 'nio', 'aapl', 'uber', 'pltr', 'pltr', 'pltr', 'mttr', 'mttr', 'ghvi', 'fubo', 'ozon', 'tktk', 'fubo', 'fubo', 'fubo', 'fubo', 'fubo', 'aei', 'aei', 'aei', 'aei', 'aei', 'aei', 'tsla', 'lazr', 'dis', 'gs', 'fubo', 'fubo', 'lfg', 'lazr', 'feye', 'riot', 's', 'xrt', 'tsla', 'tsla', 'tsla', 'borussiadortmund', 'tsla', 'xrt', 'xrt', 'amc', 'gme', 'tsla', 'vrpx', 'audd', 'aacq', 'alxo', 'cciv', 'haac', 'agfy', 'ehvvp', 'sgfy', 'vor', 'lhdx', 'bolt', 'agfy', 'gtbp', 'raas', 'raas', 'olma', 'olma', 'sbtx', 'cris', 'fprx', 'btc', 'ebon', 'can', 'tmbr', 'bntc', 'creg', 'gtbp', 'gato', 'kbnt', 'pavm', 'raas', 'cciv', 'cciv', 'spac', 'tmbr', 'kbnt', 'kbntw', 'creg', 'haac', 'haacw', 'sdh', 'vor', 'bmbl', 'tmbr', 'cycc', 'bntc', 'gtbp', 'bmbl', 'gtbp', 'climatechange', 'apr', 'tlis', 'lhdx', 'dbtx', 'mgni', 'dsp', 'dsp', 'ttd', 'bmbl', 'sgfy', 'ldi', 'ugro', 'gtbp', 'ugro', 'gtbp', 'baos', 'sdh', 'vlon', 'lgvn', 'raas', 'ciic', 'tigr', 'futu', 'ucl', 'alus', 'hol', 'fuv', 'hol', 'gik', 'alus', 'fsr', 'arec', 'mp', 'lode', 'tsmc', 'tmrc', 'tsmc', 'tmrc', 'hol', 'hol', 'aapl', 'arec', 'tsmc', 'mp', 'uuuu', 'dnn', 'gomrf', 'uarf', 'amyzf', 'cla', 'dmyd', 'actc', 'lazr', 'cla', 'lazr', 'spac', 'cla', 'dmyd', 'alus', 'spac', 'cla', 'acic', 'acic', 'cciv', 'snpr', 'zgyh', 'spactwitter', 'cciv', 'spac', 'eh', 'spacs', 'psth', 'fsr', 'acic', 'psth', 'eh', 'spac', 'alus', 'aapl', 'alus', 'cciv', 'alus', 'cciv', 'cciv', 'alus', 'cciv', 'family', 'grandslam', 'stockstobuy', 'lucidmo', 'hyln', 'cciv', 'spac', 'cciv', 'fuv', 'clubhouse', 'cla', 'cla', 'cla', 'fuv', 'spacs', 'hyln', 'arec', 'mp', 'trch', 'fuv', 'dmyd', 'gik', 'aspl', 'hyln', 'gik', 'gik', 'spy', 'nqf', 'qqq', 'spy', 'tsla', 'esf', 'baba', 'spy', 'esf', 'esf', 'dpw', 'hd', 'dis', 'qs', 'dpw', 'hd', 'spy', 'dpw', 'qs', 'qs', 'curi', 'ba', 'spy', 'qs', 'mp', 'plby', 'baba', 'qs', 'qs', 'qs', 'x', 'pltr', 'x', 'twtr', 'iq', 'mp', 'hyln', 'sq', 'pypl', 'baba', 'solutions', 'ehs', 'eh', 'ehs', 'eh', 'eh', 'thechoppingblock', 'stne', 'xpev', 'aeo', 'nrg', 'nly', 'zto', 'lb', 'iq', 'vz', 'qs', 'aal', 'twtr', 'cbat', 'uber', 'mat', 'fcx', 'cbat', 'gsat', 'bby', 'fsr', 'mfin', 'tsla', 'pltr', 'wfc', 'ftft', 'aapl', 'roaringkitty', 'keithgill', 'saveroaringkitty', 'tsla', 'gme', 'clov', 'sos', 'vuzi', 'ftft', 'nws', 'nwsa', 'googl', 'blnk', 'paoi', 'clir', 'gnss', 'artl', 'crmd', 'cvet', 'dmac', 'fmtx', 'hwm', 'idxx', 'myte', 'oncy', 'pax', 'phat', 'vuzi', 'azul', 'blue', 'ceva', 'crtx', 'ftv', 'kar', 'kod', 'pltr', 'pxs', 'scpl', 'tpco', 'uaa', 'usac', 'a', 'atex', 'bhc', 'bki', 'bmo', 'ccep', 'cree', 'cvi', 'fcx', 'hexo', 'krnt', 'lpx', 'mesa', 'osk', 'parr', 'pltr', 'rbc', 'rxn', 'scco', 'wbk', 'mesa', 'nbr', 'noa', 'np', 'nvta', 'ogs', 'ois', 'ovv', 'pega', 'pxd', 'qtwo', 'quik', 'rbbn', 'rbc', 'rgr', 'rpt', 'sam', 'ael', 'alb', 'alsn', 'am', 'ar', 'argo', 'bcei', 'bcov', 'bfam', 'bidu', 'cake', 'cde', 'cf', 'cone', 'csv', 'cutr', 'tsem', 'oc', 'hlt', 'adi', 'rng', 'merc', 'kar', 'exas', 'dvn', 'crsp', 'clr', 'byd', 'aig', 'acco', 'wix', 'vno', 'shop', 'sedg', 'qs', 'lscc', 'krnt', 'grmn', 'gnw', 'diod', 'csod', 'car', 'a', 'sos', 'sndl', 'sino', 'ship', 'mvis', 'hqy', 'epix', 'dpw', 'ctxr', 'chgg', 'aiki', 'aezs', 'vstm', 'vir', 'gsk', 'doge', 'rbbn', 'slrx', 'rdhl', 'imux', 'chrs', 'alt', 'adap', 'nova', 'len', 'myt', 'cnet', 'cfac', 'aacq', 'orgn', 'ahac', 'huma', 'dogz', 'petz', 'plin', 'ante', 'aku', 'petz', 'lode', 'aapl', 'amzn', 'gold', 'jpm', 'mtb', 'cvx', 'mmc', 'vz', 'gogo', 'f', 'tpco', 'enbl', 'et', 'mstr', 'gme', 'intc', 'rcl', 'arkk', 'li', 'qtt', 'snap', 'amat', 'qtt', 'lvs', 'gddy', 'io', 'nndm', 'mp', 'mp', 'ung', 'gsat', 'prch', 'jci', 'mos', 'cf', 'crm', 'lotz', 'atvi', 'ea', 'ttwo', 'cciv', 'dva', 'blnk', 'acrx', 'pypl', 'cboe', 'cciv', 'lucid', 'gme', 'watt', 'patent', 'sckt', 'aljj', 'myt', 'sos', 'can', 'epsn', 'amyt', 'beam', 'crwd', 'curi', 'futu', 'gmtx', 'hhc', 'ipwr', 'lotz', 'myte', 'pax', 'scps', 'tenb', 'tlmd', 'trx', 'tvtx', 'axp', 'bb', 'ely', 'gluu', 'mmp', 'msge', 'nblx', 'noah', 'plce', 'rsg', 'ubx', 'wm', 'ads', 'alb', 'ar', 'bp', 'bl', 'cday', 'ceqp', 'ctas', 'enlc', 'etn', 'fwrd', 'gt', 'mat', 'mmyt', 'mplx', 'plan', 'rrc', 'sqm', 'tex', 'wish', 'xog', 'fuv', 'panw', 'ba', 'msft', 'ale', 'adi', 'afi', 'ath', 'bcor', 'bpmc', 'fun', 'crl', 'chh', 'comm', 'dava', 'enlc', 'eqt', 'es', 'grmn', 'gpc', 'lscc', 'lzb', 'mcy', 'merc', 'nmih', 'oxy', 'pcyg', 'poww', 'qs', 'qts', 'rng', 'rpai', 'sedg', 'tnet', 'vno', 'wire', 'wter', 'a', 'acc', 'acco', 'aig', 'ande', 'byd', 'cai', 'car', 'chct', 'clr', 'cmp', 'crk', 'crmt', 'csod', 'denn', 'diod', 'dvn', 'yndx', 'sabr', 'pltr', 'zts', 'vmc', 'stic', 'rxn', 'lpx', 'lbtya', 'klr', 'mck', 'aegn', 'geo', 'ford', 'ceva', 'casi', 'an', 'tpr', 'qs', 'nbev', 'nndm', 'mile', 'io', 'hepa', 'gmda', 'chaa', 'bpth', 'autl', 'arav', 'uavs', 'sino', 'sndl', 'anix', 'xspa', 'ual', 'vyne', 'swav', 'snss', 'sesn', 'sbbp', 'nvax', 'kala', 'finv', 'gthx', 'evfm', 'saveroaringkitty', 'gme', 'snow', 'twlo', 'thestrat', 'kbnt', 'msi', 'tbk', 'scco', 'imax', 'nk', 'clgx', 'cpe', 'cspr', 'real', 'tfc', 'ue', 'fubo', 'fubo', 'futu', 'cpe', 'rvp', 'ahco', 'tech', 'vivo', 'allt', 'goco', 'gnmk', 'srne', 'net', 'net', 'ghvi', 'acic', 'cciv', 'haac', 'psac', 'stpk', 'ccac', 'bfly', 'pdac', 'pton', 'apps', 'curi', 'apps', 'mp', 'curi', 'rvp', 'expi', 'frog', 'dt', 'sklz', 'dt', 'pton', 'sklz', 'ttcf', 'wbai', 'si', 'ntco', 'thestrat', 'sspk', 'apr', 'ozon', 'prch', 'vcel', 'stor', 'ntnx', 'cohu', 'ldi', 'ilmn', 'frog', 'voxx', 'ayro', 'veru', 'vcra', 'wdfc', 'tdc', 'ntco', 'flux', 'smar', 'dbi', 'flgt', 'mgni', 'yala', 'dq', 'pton', 'rvp', 'grwg', 'mp', 'mp', 'expi', 'mp', 'pton', 'apps', 'expi', 'dt', 'arya', 'ayro', 'beem', 'ciic', 'fubo', 'mrna', 'plug', 'sklz', 'pton', 'doyu', 'huya', 'pltk', 'ddog', 'beke', 'cdmo', 'thinkorswim', 'spx', 'gp', 'zdge', 'thestrat', 'ps', 'pypl', 'upst', 'tsco', 'gd', 'sdgr', 'nnox', 'rexr', 'nvst', 'viav', 'hznp', 'n', 'amzn', 'riot', 'crypto', 'snbr', 'wfc', 'snbr', 'giddyup', 'lode', 'bac', 'wfc', 'tlry', 'twlo', 'snbr', 'apha', 'sos', 'riot', 'hlf', 'lode', 'sp', 'lode', 'tlry', 'aapl', 'tsla', 'pltr', 'wfc', 'bitcoin', 'unusualactivity', 'bitcoin', 'btc', 'unusualactivity', 'twtr', 'mgm', 'btc', 'tsla', 'giddyup', 'lode', 'wfc', 'wfc', 'vgx', 'aapl', 'tsla', 'pltr', 'nio', 'twtr', 'pton', 'clf', 'dnn', 'lode', 'sos', 'wednesdaythought', 'wednesdaymotivations', 'hlt', 'shop', 'cvx', 'vz', 'work', 'ths', 'wfc', 'giddyup', 'uoa', 'dda', 'educay', 'mu', 'motivational', 'wallstreetbets', 'amc', 'gme', 'sndl', 'giddyup', 'sos', 'wbai', 'vir', 'ebon', 'krnt', 'riot', 'ssys', 'btbt', 'ma', 'bitcoin', 'btc', 'unusualactivity', 'xlf', 'dvn', 'lvs', 'iaa', 'mesa', 'actg', 'flex', 'gogo', 'itp', 'xlf', 'dvn', 'lvs', 'bitcoin', 'qs', 'giddyup', 'eh', 'csod', 'dnn', 'adap', 'qs', 'fubo', 'sedg', 'apha', 'kar', 'googl', 'thetake', 'giddyup', 'friday', 'fromthetradingfloors', 'minnesotamood', 'keepgrinding', 'peteprinciples', 'dnn', 'pltr', 'aapl', 'tsla', 'sndl', 'bitcoin', 'giddyupupup', 'dnn', 'xlf', 'smh', 'gogophs', 'giddyupupup', 'bitcoin', 'cciv', 'cciv', 'amzn', 'unusualactivity', 'smh', 'xlf', 'unusualactivity', 'xlf', 'lvs', 'aapl', 'pltr', 'tsla', 'sndl', 'roku', 'tgt', 'tjx', 'mik', 'bby', 'giddyup', 'tigr', 'twtr', 'ups', 'wmt', 'hexo', 'hexo', 'giddyup', 'mro', 'sndl', 'trch', 'ctrm', 'dnn', 'sos', 'pltr', 'sckt', 'zom', 'aljj', 'dffn', 'commander', 'letsget', 'unusualactivity', 'rllcf', 'cholf', 'can', 'finv', 'dfiff', 'yi', 'riot', 'vygvf', 'vivef', 'mvis', 'sens', 'uoa', 'gold', 'winter', 'snow', 'btc', 'tuesdaymotivations', 'tuesdayvibe', 'investors', 'cryptocurrency', 'wallstreetbets', 'amc', 'gme', 'sndl', 'petesprincipled', 'giddyup', 'tuesdaymotivations', 'btc', 'jmia', 'btbt', 'lly', 'ozon', 'mrvi', 'cert', 'tsla', 'tsla', 'pcg', 'dis', 'dhr', 'iaa', 'upst', 'chtr', 'amzn', 'goog', 'burl', 'intu', 'msft', 'fb', 'goog', 'adbe', 'abt', 'v', 'ma', 'acn', 'adsk', 'zts', 'pypl', 'msft', 'idxx', 'el', 'intu', 'syk', 'pm', 'mkc', 'pep', 'nflx', 'frc', 'hd', 'ma', 'race', 'googl', 'isrg', 'masi', 'br', 'bnkg', 'msft', 'tmus', 'amzn', 'sbux', 'fcx', 'panw', 'se', 'penn', 'nuan', 'dis', 'fb', 'wix', 'smar', 'goog', 'ebay', 'upwk', 'pypl', 'desp', 'roku', 'orly', 'bam', 'amt', 'kmx', 'mkl', 'aon', 'ecpg', 'amwd', 'ssnc', 'nvr', 'tmus', 'amzn', 'mu', 'fb', 'pcg', 'goog', 'baba', 'twtr', 'hca', 'et', 'ma', 'lin', 'bkng', 'ebay', 'v', 'el', 'goog', 'nke', 'race', 'otis', 'pg', 'tdg', 'chtr', 'googl', 'fb', 'mco', 'ma', 'v', 'shop', 'nflx', 'nvda', 'zm', 'mtch', 'idxx', 'crm', 'kmi', 'zm', 'dxcm', 'eh', 'wfc', 'spx', 'fisv', 'curi', 'u', 'mstr', 'cciv', 'jpm', 'plby', 'sckt', 'earnings', 'volatility', 'nex', 'aprn', 'cndt', 'bxrx', 'casa', 'mgi', 'oec', 'aapl', 'tsla', 'dxy', 'lptv', 'vix', 'vixm', 'vix', 'sfor', 'sfor', 'sfor', 'sfor', 'mkgp', 'frog', 'sfor', 'boxl', 'boxl', 'sfor', 'sfor', 'sfor', 'sfor', 'sfor', 'opk', 'wimi', 'dkng', 'xpev', 'amat', 'bb', 'nndm', 'f', 'bitcoin', 'covid', 'fsinsight', 'bitcoin', 'tsla', 'xle', 'oih', 'iwm', 'iw', 'bitcoin', 'tsla', 'xle', 'oih', 'energy', 'dow', 'spx', 'ndx', 'rty', 'vix', 'bitcoin', 'ether', 'bitcoincash', 'eos', 'stellar', 'aapl', 'amzn', 'baba', 'bidu', 'fb', 'btc', 'crypto', 'bitcoin', 'ether', 'bitcoincash', 'eos', 'dow', 'spx', 'ndx', 'rty', 'vix', 'vix', 'vix', 'dow', 'spx', 'nasdaq', 'russell', 'dow', 'spx', 'nasdaq', 'russell', 'fang', 'igopeningcall', 'bitcoin', 'ether', 'bitcoincash', 'eos', 'stellar', 'gold', 'silver', 'platinum', 'xauusd', 'commodities', 'f', 'bitcoin', 'ether', 'bitcoincash', 'eos', 'ftse', 'dax', 'cac', 'aex', 'mib', 'bitcoin', 'ether', 'bitcoincash', 'eos', 'stellar', 'gold', 'silver', 'platinum', 'xauusd', 'commodities', 'eurusd', 'gbpusd', 'usdjpy', 'audusd', 'audjpy', 'bitcoin', 'ether', 'bitcoincash', 'eos', 'plby', 'asx', 'dow', 'spx', 'nasdaq', 'russell', 'fang', 'igopeningcall', 'bitcoin', 'bitcoin', 'ether', 'bitcoincash', 'eos', 'aapl', 'amzn', 'baba', 'bidu', 'fb', 'knb', 'bitcoin', 'ether', 'bitcoincash', 'eos', 'stellar', 'ftse', 'dax', 'cac', 'aex', 'mib', 'gold', 'silver', 'platinum', 'xauusd', 'commodities', 'bitcoin', 'ether', 'bitcoincash', 'eos', 'eurusd', 'gbpusd', 'usdjpy', 'audusd', 'audjpy', 'eurusd', 'gbpusd', 'usdjpy', 'audusd', 'audjpy', 'bitcoin', 'ether', 'bitcoincash', 'eos', 'bitcoin', 'ether', 'bitcoincash', 'eos', 'bitcoin', 'ether', 'bitcoincash', 'dow', 'spx', 'nasdaq', 'russell', 'gold', 'oil', 'trading', 'gold', 'silver', 'platinum', 'xauusd', 'commodities', 'nikkei', 'asx', 'hsi', 'hshares', 'eurusd', 'gbpusd', 'usdjpy', 'audusd', 'audjpy', 'ftse', 'dax', 'cac', 'aex', 'mib', 'aluminium', 'copper', 'nickel', 'lead', 'zinc', 'metals', 'commodities', 'bitcoin', 'ether', 'bitcoincash', 'eos', 'gold', 'silver', 'platinum', 'xauusd', 'commodities', 'eurusd', 'gbpusd', 'usdjpy', 'audusd', 'audjpy', 'bitcoin', 'ether', 'bitcoincash', 'eos', 'bitcoin', 'ether', 'bitcoincash', 'eos', 'nikkei', 'uavs', 'uavs', 'poai', 'yolo', 'hexo', 'fcel', 'dm', 'veru', 'ship', 'pltr', 'fubo', 'bngo', 'blnk', 'cyrx', 'apps', 'nndm', 'pltr', 'vuzi', 'fubo', 'fubo', 'dm', 'cpsh', 'dm', 'cpsh', 'vuzi', 'tigr', 'aldx', 'dm', 'spy', 'aldx', 'hexo', 'hexo', 'hexo', 'hexo', 'spy', 'ship', 'ship', 'love', 'veru', 'sens', 'sens', 'tigr', 'aldx', 'amrn', 'ship', 'izea', 'sens', 'crwd', 'crwd', 'cybr', 'blnk', 'x', 'spy', 'gnrc', 'clx', 'riot', 'riot', 'pltr', 'voxx', 'pton', 'voxx', 'ffty', 'bngo', 'sq', 'fslr', 'aapl', 'bill', 'aldx', 'pltr', 'pltr', 'pltr', 'cmrx', 'futures', 'mwk', 'aldx', 'bngo', 'tigr', 'futu', 'entg', 'aldx', 'aldx', 'wbai', 'wbai', 'nvda', 'gs', 'aldx', 'aldx', 'si', 'sckt', 'tigr', 'xlu', 'stim', 'aldx', 'chwy', 'futures', 'futu', 'crsr', 'wmb', 'stim', 'spi', 'googl', 'wynn', 'wynn', 'spi', 'tdoc', 'tdoc', 'wynn', 'bngo', 'wynn', 'aldx', 'crwd', 'bngo', 'bke', 'si', 'si', 'aldx', 'thcb', 'aldx', 'tdoc', 'si', 'aldx', 'tdoc', 'crwd', 'bngo', 'bngo', 'tdoc', 'gnrc', 'futures', 'tigr', 'chwy', 'crwd', 'nls', 'scco', 'bngo', 'bngo', 'futures', 'penn', 'nvda', 'msft', 'ttd', 'algn', 'googl', 'ttd', 'scco', 'chwy', 'slqt', 'bloombergcrypto', 'covid', 'coronavirus', 'roadtonetzero', 'bloombergcrypto', 'bonds', 'inflation', 'sgbudget', 'sgbudget', 'coronavirus', 'twtr', 'elys', 'pltr', 'weramp', 'tsla', 'nerd', 'weramp', 'twtr', 'ibb', 'xbi', 'study', 'bitcoin', 'bitcoin', 'pltr', 'amzn', 'nws', 'googl', 'shop', 'rng', 'mstr', 'mstr', 'pltr', 'aacq', 'cfac', 'et', 'enbl', 'tsla', 'f', 'cvx', 'mmc', 'vz', 'xone', 'cciv', 'hexo', 'stz', 'brka', 'brkb', 'bfly', 'hon', 'spy', 'mar', 'bitcoin', 'nclh', 'jd', 'tsla', 'mstr', 'csgp', 'clgx', 'pltr', 'blue', 'pdac', 'rbc', 'rxn', 'nasdaq', 'curi', 'supdup', 'bkllf', 'supdup', 'fastmoney', 'wallstreet', 'stocks', 'money', 'ltmcf', 'supdup', 'lithium', 'bkllf', 'supdup', 'fastmoney', 'stocks', 'money', 'hec', 'supdup', 'supdup', 'stpk', 'curi', 'evfm', 'rmo', 'ms', 'bmix', 'supdup', 'hec', 'supdup', 'evfm', 'pfe', 'mrk', 'teva', 'evfm', 'supdup', 'superdupermoney', 'fastmoney', 'wallstreet', 'money', 'evfm', 'cnbc', 'heccw', 'supdup', 'evfm', 'phexxi', 'supdup', 'hec', 'evfm', 'supdup', 'money', 'hec', 'supdup', 'evfm', 'supdup', 'bkllf', 'bitcoin', 'djia', 'hec', 'supdup', 'bmix', 'curi', 'evfm', 'supdup', 'superdupermoney', 'fastmoney', 'wallstreet', 'evfm', 'supdup', 'money', 'evfm', 'supdup', 'thcb', 'stpk', 'supdup', 'evfm', 'supdup', 'fastmoney', 'fintwits', 'money', 'bkllf', 'supdup', 'bitcoin', 'blockchain', 'penny', 'stock', 'bkllf', 'bklff', 'bkllf', 'bitcoin', 'mining', 'stpk', 'supdup', 'fastmoney', 'wallstreet', 'stocks', 'money', 'curiw', 'supdup', 'superdupermoney', 'wallstreet', 'fastmoney', 'clvr', 'cdtx', 'ajax', 'sesn', 'sesn', 'supdup', 'supdupteam', 'supdup', 'tcon', 'supdup', 'superdupermoney', 'wallstreet', 'fintwits', 'money', 'mara', 'supdup', 'superdupermoney', 'wallstreet', 'bitcoin', 'curiw', 'supdup', 'superdupermoney', 'fastmoney', 'stocks', 'curi', 'supdup', 'fastmoney', 'fintwits', 'wallstreet', 'bngo', 'rmo', 'hec', 'ajax', 'cciv', 'stpk', 'stpk', 'supdup', 'fastmoney', 'wallstreet', 'fintwits', 'money', 'obmp', 'bngo', 'supdup', 'cdtx', 'hec', 'supdup', 'cdtx', 'supdup', 'rvp', 'supdup', 'rmo', 'rvp', 'cdtx', 'supdup', 'cdtx', 'clvr', 'cdtx', 'cdtx', 'cdtx', 'cdtx', 'cdtx', 'cdtx', 'supdup', 'cdtx', 'clvrw', 'supdup', 'fastmoney', 'clvr', 'supdup', 'fastmoney', 'wallstreet', 'fintwits', 'money', 'supdup', 'bmix', 'supdup', 'hec', 'taug', 'bngo', 'supdup', 'supdupteam', 'wallstreet', 'bngo', 'bngo', 'supdup', 'superdupermoney', 'wallstreet', 'stpk', 'supdup', 'money', 'etwo', 'supdup', 'fintwits', 'fastmoney', 'wallstreet', 'hec', 'hec', 'ltmcf', 'sesn', 'supdupteam', 'ltmcf', 'ivfh', 'stpk', 'cnbc', 'atnf', 'supdup', 'superdupermoney', 'stocks', 'money', 'stpk', 'supdup', 'fastmoney', 'thcb', 'supdup', 'money', 'sesn', 'supdup', 'fastmoney', 'stockmarket', 'money', 'sesn', 'sesn', 'bngo', 'supdup', 'superdupermoney', 'evfm', 'gtch', 'etsy', 'supdup', 'money', 'optt', 'spcb', 'xpev', 'optt', 'evfm', 'tiktok', 'atnx', 'cpsh', 'inpx', 'selb', 'bngo', 'stpk', 'ciic', 'blxx', 'sesn', 'thcb', 'rmo', 'kodk', 'cbat', 'puge', 'srmx', 'bbi', 'evfm', 'sndl', 'sesn', 'idex', 'sos', 'taug', 'nspr', 'lotz', 'inpx', 'hec', 'sos', 'ajax', 'vldr', 'cciv', 'hcmc', 't', 'rtx', 'fubo', 'slca', 'khc', 'gbtc', 'riot', 'pltr', 'wmt', 't', 'gs', 'pg', 'mrk', 'a', 'lh', 'dvn', 'fcx', 'vz', 'vz', 'cvx', 'mrk', 'hd', 'pg', 'pg', 'mrk', 'pltr', 'chwy', 'bldp', 'gs', 'xom', 'xom', 'lulu', 'qcom', 'nvda', 'lazr', 'fdx', 'c', 'bac', 'gs', 'gs', 'wynn', 'fsly', 'tlry', 'bidu', 'roku', 'swi', 'tdoc', 'mogo', 'vz', 'sndl', 'tsla', 'thestreetlive', 'work', 'crm', 'crm', 'cciv', 'gik', 'nete', 'de', 'nclh', 'vz', 'tpco', 'csod', 'mgi', 'lode', 'elys', 'pltr', 'f', 'bitcoin', 'wing', 'exas', 'cciv', 'fsly', 'wfc', 'clps', 'wmt', 'elys', 'et', 'enbl', 'shop', 'amzn', 'wmt', 'googl', 'nwsa', 'shop', 'tsco', 'wing', 'f', 'qs', 'amat', 'bitcoin', 'tcnnf', 'vir', 'gsk', 'sq', 'qs', 'vz', 'bitcoin', 'adi', 'crm', 'work', 'sndl', 'thestreetlive', 'lode', 'work', 'cvx', 'vz', 'qs', 'crm', 'ba', 'xle', 'xlk', 'tsla', 'ma', 'bk', 'ms', 'pypl', 'mstr', 'w', 'f', 'hlt', 'cvs', 'vz', 'gs', 'amzn', 'ego', 'cvx', 'pxd', 'cvx', 'vz', 'hexo', 'zbisf', 'bitcoin', 'arkws', 'plug', 'pltr', 'tsla', 'tsla', 'cciv', 'bb', 'cciv', 'cciv', 'fsly', 'tlry', 'ely', 'sam', 'reemf', 'mar', 'gs', 'cvs', 'ceva', 'pltr', 'shop', 'c', 'sckt', 'cvs', 'ge', 'wba', 'xle', 'googl', 'nclh', 'nvda', 'an', 'mstr', 'bitcoin', 'c', 'rng', 'thestreetlive', 'cannabis', 'dpw', 'ftft', 'apps', 'oeg', 'bngo', 'nio', 'xpev', 'spwr', 'visl', 'kopn', 'giddyup', 'pltr', 'solo', 'germanbeer', 'crnt', 'blnk', 'uavs', 'amkr', 'pltr', 'pltr', 'sos', 'championsleague', 'bayernmunich', 'ride', 'championsleague', 'crm', 'crm', 'amd', 'amd', 'tlry', 'tlry', 'thestrat', 'vips', 'vips', 'vips', 'vips', 'amzn', 'spy', 'spy', 'fubo', 'fubo', 'aapl', 'aapl', 'tlry', 'tlry', 'hd', 'hd', 'nvda', 'nvda', 'goog', 'goog', 'nflx', 'nflx', 'amzn', 'amzn', 'fb', 'fb', 'vix', 'vix', 'iwm', 'iwm', 'qqq', 'qqq', 'spy', 'spy', 'aes', 'emn', 'aig', 'fb', 'amd', 'amd', 'snap', 'snap', 'twtr', 'twtr', 'curo', 'lu', 'amzn', 'alert', 'spy', 'vix', 'spx', 'vix', 'crm', 'crm', 'crm', 'crm', 'cris', 'cris', 'goog', 'goog', 'lly', 'lly', 'amzn', 'amzn', 'aapl', 'aapl', 'cgc', 'cgc', 'twtr', 'twtr', 'btcusd', 'bitcoin', 'fb', 'fb', 'bynd', 'bynd', 'workshop', 'video', 'scan', 'char', 'barstoolfund', 'goblue', 'scr', 'tscrf', 'bitcoin', 'ddtg', 'barstoolfund', 'shop', 'tsla', 'btc', 'ddtg', 'ddtg', 'ddtg', 'barstoolfund', 'stillgoing', 'imte', 'lgvw', 'bfly', 'stocks', 'spac', 'medicaldevices', 'ge', 'bfly', 'tdac', 'bfly', 'aei', 'bfly', 'bfly', 'lgvw', 'bfly', 'bfly', 'lgvw', 'bfly', 'lgvw', 'tdac', 'cciv', 'dkng', 'aei', 'bfly', 'bfly', 'aei', 'aei', 'aei', 'aei', 'htbc', 'aei', 'goals', 'aei', 'aei', 'aei', 'aei', 'snpr', 'snpr', 'beem', 'snpr', 'beemlike', 'tdac', 'lexx', 'lexx', 'tril', 'snpr', 'tsla', 'cciv', 'snpr', 'snpr', 'cciv', 'snpr', 'snpr', 'cciv', 'bfly', 'snpr', 'tdac', 'amzn', 'cciv', 'tdac', 'cciv', 'tdac', 'aei', 'snpr', 'amzn', 'aei', 'aei', 'aei', 'aei', 'aei', 'tdac', 'cciv', 'tdac', 'aei', 'aei', 'tdac', 'cciv', 'dkng', 'aei', 'aei', 'aei', 'aei', 'uvxy', 'lexx', 'bfly', 'aei', 'aei', 'super', 'snpr', 'snpr', 'tdac', 'tdacw', 'wkey', 'tdac', 'tdacw', 'aei', 'sunw', 'aei', 'hfen', 'inpx', 'altr', 'sens', 'crnt', 'aei', 'stockstobuy', 'stockstowatch', 'aei', 'aei', 'cel', 'gme', 'amc', 'copx', 'gbtc', 'chix', 'chii', 'urnm', 'copx', 'mj', 'prnt', 'ring', 'gdx', 'tan', 'gdx', 'ring', 'gdxj', 'kce', 'vrts', 'sf', 'rjf', 'lpla', 'kkr', 'cown', 'ares', 'amg', 'wetf', 'ivz', 'ibkr', 'kre', 'wal', 'vly', 'tsc', 'tbbk', 'sivb', 'sbny', 'rf', 'pnc', 'pacw', 'cubi', 'cit', 'bpfh', 'xle', 'xop', 'xes', 'spy', 'skyw', 'mtn', 'bac', 'drh', 'peb', 'lpx', 'aple', 'pnc', 'erj', 'mp', 'dal', 'dia', 'ymf', 'psj', 'smh', 'kbe', 'kre', 'xop', 'xbi', 'xhe', 'ihe', 'urnm', 'mj', 'remx', 'copx', 'chim', 'itb', 'xbi', 'tan', 'ibb', 'gdxj', 'x', 'vix', 'btcusd', 'xlu', 'xlp', 'vix', 'spx', 'nky', 'djia', 'spx', 'ndx', 'sse', 'ssec', 'nky', 'tan', 'blok', 'prnt', 'arkk', 'arkw', 'komp', 'iwc', 'ibuy', 'chiq', 'socl', 'kure', 'bbh', 'psj', 'gamr', 'ecns', 'cqqq', 'pipr', 'bak', 'insw', 'bfam', 'lpla', 'cai', 'ftnt', 'yumc', 'si', 'ppd', 'eufn', 'syk', 'yndx', 'tnk', 'fls', 'nvo', 'eden', 'adm', 'chgg', 'ccl', 'ba', 'ccl', 'stocks', 'trading', 'daytrading', 'swingtrading', 'qs', 'cciv', 'qs', 'eh', 'lk', 'cciv', 'cciv', 'tigr', 'stocks', 'trading', 'daytrading', 'swingtrading', 'stocks', 'trading', 'daytrading', 'swingtrading', 'asan', 'ibdpartner', 'chwy', 'ibdpartner', 'tdoc', 'ibdpartner', 'chwy', 'stocks', 'trading', 'daytrading', 'swingtrading', 'ntr', 'cpg', 'rdsa', 'rdsb', 'twtr', 'fb', 'mgm', 'wfc', 'vz', 'cvx', 'mmc', 'pltr', 'brka', 'et', 'enbl', 'eh', 'ebon', 'btc', 'bitcoin', 'gild', 'fsr', 'twtr', 'pltr', 'hog', 'wmt', 'orcl', 'mrna', 'ua', 'uaa', 'amzn', 'blue', 'cree', 'nflx', 'dis', 'pax', 'cvet', 'chk', 'hwm', 'fmtx', 'uaa', 'crtx', 'ftv', 'aegn', 'blue', 'pltr', 'cree', 'mesa', 'osk', 'fcx', 'sdc', 'wba', 'vir', 'cvx', 'vz', 'tpco', 'grmn', 'shop', 'hlt', 'comm', 'work', 'imux', 'gsk', 'eh', 'nsrgy', 'pltr', 'tnav', 'jblu', 'aal', 'low', 'qsr', 'sbux', 'a', 'hlt', 'cmg', 'cciv', 'nkla', 'fsr', 'gold', 'cvs', 'azn', 'aapl', 'clgx', 'csgp', 'wbai', 'an', 'blue', 'pltr', 'vwagy', 'nsany', 'tm', 'ldos', 'lhx', 'ntdoy', 'sne', 'msft', 'atvi', 'ubsfy', 'ea', 'ttwo', 't', 'otgly', 'acrx', 'flgt', 'axp', 'crwd', 'zs', 'tenb', 'gps', 'lb', 'mat', 'nflx', 'beam', 'curi', 'lotz', 'crwd', 'myte', 'wm', 'axp', 'nblx', 'bb', 'plce', 'plan', 'bl', 'alb', 'mat', 'etn', 'mck', 'wbai', 'pdac', 'clgx', 'cvs', 'aap', 'lpx', 'an', 'pltr', 'usfd', 'blue', 'nndm', 'crtx', 'csgp', 'grwg', 'bb', 'csgp', 'clgx', 'acb', 'tlry', 'tsnp', 'dloc', 'tsnp', 'ozsc', 'aitx', 'enzc', 'hqge', 'ltnc', 'tsnp', 'tsnp', 'aabb', 'tsnp', 'wksp', 'btsc', 'maxd', 'apyp', 'iqst', 'aabb', 'ltnc', 'gme', 'gamestop', 'wallstreetbets', 'hedgefunds', 'shortsqueeze', 'riprush', 'rip', 'rushlimbaugh', 'tsnp', 'aitx', 'enzc', 'siml', 'neom', 'hqge', 'ltnc', 'gaxy', 'ozsc', 'sanp', 'aabb', 'afpw', 'clis', 'btc', 'bitcoin', 'aabb', 'tsnp', 'aabb', 'aabb', 'knos', 'rllcf', 'petz', 'vyne', 'sckt', 'aljj', 'wbai', 'aacqw', 'ptvcb', 'myt', 'trch', 'rllcf', 'ipix', 'maxd', 'ark', 'bfly', 'su', 'pdac', 'gme', 'nxtd', 'aqua', 'cat', 'uber', 'penn', 'lvs', 'gern', 'gsky', 'aap', 'gsky', 'wfc', 'ccl', 'stne', 'gsky', 'bhc', 'apps', 'cvx', 'xom', 'mat', 'mesa', 'sq', 'ark', 'btc', 'amd', 'vuzi', 'coty', 'cciv', 'ark', 'ark', 'spx', 'rty', 'ndx', 'mxef', 'spx', 'arw', 'asix', 'x', 'masi', 'x', 'sens', 'psth', 'itp', 'putcall', 'wfc', 'ccl', 'rcl', 'nclh', 'bp', 'usb', 'btwn', 'cop', 'vuzi', 'cciv', 'io', 'xin', 'vff', 'itp', 'itp', 'cciv', 'x', 'ccl', 'xin', 'dnn', 'bac', 'ms', 'athx', 'jci', 'opra', 'yrd', 'nvda', 'nmtr', 'xl', 'zm', 'psac', 'teck', 'mp', 'fb', 'gnrc', 'bb', 'msft', 'prts', 'ncno', 'pypl', 'cannabis', 'aapl', 'cnhi', 'gm', 'lin', 'mga', 'nxpi', 'st', 'tel', 'uber', 'xpev', 'bwa', 'idex', 'stic', 'plan', 'tsla', 'sq', 'btc', 'pltr', 'stic', 'barkbox', 'sgen', 'bitcoin', 'sqm', 'ttm', 'pdac', 'spac', 'nikkei', 'mnst', 'btc', 'pdd', 'vips', 'pdd', 'bgcp', 'pltr', 'khc', 'shop', 'twlo', 'bidu', 'tlry', 'spacs', 'stla', 'btc', 'spx', 'tsla', 'tsla', 'aapl', 'btc', 'spy', 'dax', 'x', 'cvx', 'cvx', 'sphb', 'splv', 'gld', 'qqq', 'tsla', 'aapl', 'msft', 'amzn', 'nvda', 'pypl', 'tmo', 'sq', 'earnings', 'spy', 'pton', 'iwm', 'cnbc', 'spy', 'cnbc', 'spy', 'spy', 'spy', 'spy', 'spy', 'spy', 'spy', 'tsla', 'spy', 'dis', 'fb', 'qs', 'spy', 'cnbc', 'solo', 'f', 'mstr', 'gme', 'gme', 'cnbc', 'jpm', 'ccl', 'nclh', 'wynn', 'mstr', 'tsla', 'jnj', 'gme', 'slv', 'dia', 'spy', 'qqq', 'iwm', 'mech', 'ppi', 'escooters', 'smartmobility', 'blackhistorymonth', 'theclose', 'snbr', 'tlry', 'twlo', 'snbr', 'apha', 'sos', 'riot', 'hlf', 'lode', 'lode', 'riot', 'crypto', 'tlry', 'cciv', 'sos', 'ccl', 'slv', 'aapl', 'tsla', 'pltr', 'bitcoin', 'unusualactivity', 'tsla', 'btc', 'bitcoin', 'btc', 'unusualactivity', 'twtr', 'mgm', 'eh', 'ebon', 'riot', 'qs', 'vir', 'krnt', 'imvt', 'nktr', 'kar', 'btc', 'tsla', 'dnn', 'slv', 'vz', 'amd', 'aapl', 'tsla', 'pltr', 'nio', 'twtr', 'sndl', 'ontx', 'lode', 'dnn', 'ctrm', 'sos', 'zom', 'clps', 'pltr', 'pton', 'lode', 'sos', 'hlt', 'shop', 'cvx', 'vz', 'work', 'ths', 'giddyup', 'uoa', 'sos', 'wbai', 'vir', 'ebon', 'krnt', 'riot', 'ssys', 'btbt', 'bitcoin', 'btc', 'bitcoin', 'unusualactivity', 'xlf', 'dvn', 'lvs', 'znga', 'ccj', 'et', 'arkf', 'mp', 'bp', 'iaa', 'mesa', 'actg', 'flex', 'gogo', 'xlf', 'dvn', 'lvs', 'eh', 'csod', 'dnn', 'adap', 'qs', 'fubo', 'sedg', 'apha', 'dnn', 'amd', 'tlry', 'ccl', 'pltr', 'aapl', 'tsla', 'bitcoin', 'bitcoin', 'cciv', 'cciv', 'amzn', 'unusualactivity', 'smh', 'xlf', 'unusualactivity', 'xlf', 'lvs', 'hexo', 'sos', 'fb', 'ccl', 'twtr', 'aapl', 'pltr', 'tsla', 'sndl', 'roku', 'twtr', 'ups', 'wmt', 'hexo', 'hexo', 'sndl', 'trch', 'ctrm', 'dnn', 'sos', 'pltr', 'sckt', 'zom', 'aljj', 'unusualactivity', 'rllcf', 'cholf', 'can', 'finv', 'dfiff', 'yi', 'riot', 'vygvf', 'vivef', 'mvis', 'btc', 'pltr', 'mstr', 'an', 'cvs', 'aapl', 'fb', 'btc', 'bitcoin', 'blue', 'crtx', 'fti', 'nndm', 'gilt', 'pltr', 'ortx', 'glpg', 'vyne', 'cciv', 'wbai', 'gthx', 'sos', 'can', 'finv', 'riot', 'ocgn', 'stpk', 'aap', 'pltr', 'cvs', 'aap', 'sedg', 'shop', 'fsly', 'tlry', 'bitcoin', 'eth', 'vgx', 'btc', 'aapl', 'aapl', 'options', 'bitcoin', 'btcusd', 'caterpillar', 'cat', 'cat', 'cat', 'cat', 'caterpillar', 'financials', 'ryf', 'tnx', 'tnx', 'bitcoin', 'bitcoin', 'pltr', 'amzn', 'nws', 'googl', 'shop', 'rng', 'mstr', 'mstr', 'pltr', 'aacq', 'cfac', 'et', 'enbl', 'tsla', 'f', 'cvx', 'mmc', 'vz', 'xone', 'cciv', 'hexo', 'stz', 'brka', 'brkb', 'bfly', 'hon', 'spy', 'mar', 'bitcoin', 'nclh', 'jd', 'tsla', 'mstr', 'csgp', 'clgx', 'pltr', 'blue', 'pdac', 'rbc', 'rxn']\n"
     ]
    }
   ],
   "source": [
    "#Using NLP to clean the hashtags and cashtags\n",
    "regex = re.compile(\"[^a-zA-Z ]\")\n",
    "re_clean = regex.sub('', str(top_stocks))\n",
    "words = word_tokenize(re_clean)\n",
    "output = [word.lower() for word in words if word.lower()]\n",
    "print(output)"
   ]
  },
  {
   "cell_type": "code",
   "execution_count": 140,
   "id": "fifteen-denver",
   "metadata": {},
   "outputs": [
    {
     "name": "stdout",
     "output_type": "stream",
     "text": [
      "{'spy': 38, 'obtc': 2, 'agfy': 3, 'bitcoin': 75, 'gme': 21, 'ibkr': 2, 'vrtu': 1, 'funff': 1, 'tscrf': 2, 'dkng': 5, 'sklz': 7, 'penn': 4, 'eh': 26, 'lkncy': 1, 'tal': 1, 'sbvcf': 1, 'pltr': 79, 'btc': 60, 'kmph': 1, 'eth': 6, 'sph': 1, 'nrg': 3, 'uso': 1, 'riot': 21, 'mara': 3, 'acev': 1, 'fprx': 2, 'nndm': 8, 'ebon': 12, 'bngo': 31, 'oxy': 4, 'xom': 8, 'ship': 9, 'fubo': 30, 'nvda': 14, 'ltc': 5, 'clvs': 1, 'tsla': 70, 'vz': 22, 'cvx': 23, 'nvs': 1, 'exas': 6, 'mreo': 1, 'rhhby': 1, 'doge': 8, 'ada': 4, 'dot': 4, 'grt': 2, 'sq': 9, 'msft': 13, 'aapl': 52, 'brka': 6, 'brkb': 6, 'mars': 1, 'fb': 25, 'snap': 5, 'twtr': 21, 'orcl': 2, 'wmt': 11, 'trch': 9, 'cciv': 66, 'rpla': 1, 'fsr': 9, 'spce': 3, 'clmf': 1, 'ride': 2, 'ipog': 1, 'ipoh': 1, 'ipoi': 1, 'gnrc': 6, 'ppsi': 1, 'vst': 1, 'sckt': 13, 'tcrh': 1, 'dan': 1, 'sos': 28, 'tigr': 21, 'hyln': 7, 'visl': 3, 'vet': 2, 'yj': 1, 'mar': 6, 'spacs': 5, 'nstb': 1, 'grsv': 1, 'aacq': 5, 'jack': 2, 'play': 1, 'bfi': 1, 'mp': 22, 'stic': 4, 'rtp': 1, 'tsia': 1, 'dmyd': 4, 'clvr': 4, 'spacsquad': 1, 'msf': 1, 'nflx': 8, 'dis': 8, 'rvn': 1, 'icx': 1, 'btg': 1, 'dash': 2, 'lsk': 1, 'sne': 2, 'stockmarkets': 1, 'technicalanalysis': 1, 'charts': 1, 'ibb': 4, 'xbi': 4, 'khrns': 1, 'vlkaf': 1, 'hubs': 1, 'coh': 1, 'coty': 2, 'cpri': 1, 'lvmuy': 1, 'rl': 1, 'real': 3, 'goos': 1, 'pruy': 1, 'ftch': 1, 'el': 3, 'bac': 6, 'celh': 1, 'amzn': 36, 'ko': 1, 'gm': 3, 'stocks': 61, 'qs': 27, 'auy': 1, 'cvs': 9, 'fti': 2, 'ccl': 10, 't': 4, 'vale': 1, 'hst': 1, 'cmlf': 1, 'fami': 1, 'epix': 2, 'bliaq': 1, 'koss': 1, 'expr': 1, 'uber': 6, 'crb': 1, 'zroz': 1, 'lumber': 1, 'copper': 2, 'wtic': 1, 'spx': 23, 'zm': 9, 'yala': 3, 'roku': 7, 'expi': 7, 'bynd': 4, 'bili': 1, 'earnings': 12, 'csod': 7, 'wing': 6, 'kar': 8, 'cai': 5, 'hees': 4, 'bpmc': 4, 'lzb': 5, 'krnt': 7, 'crk': 5, 'eqt': 6, 'cmp': 5, 'crsp': 3, 'fvrr': 1, 'gold': 10, 'wm': 3, 'nem': 1, 'aprn': 3, 'hrl': 1, 'fe': 1, 'wst': 1, 'tlry': 23, 'fsly': 7, 'twlo': 11, 'bidu': 9, 'spwr': 5, 'stmp': 3, 'sam': 5, 'mro': 3, 'et': 14, 'snbr': 8, 'nvta': 4, 'qqq': 16, 'adi': 7, 'shop': 24, 'wix': 10, 'ptn': 3, 'grmn': 7, 'hlt': 10, 'tsem': 3, 'dava': 5, 'sedg': 7, 'rng': 7, 'a': 8, 'byd': 4, 'dvn': 10, 'lscc': 4, 'volatility': 2, 'nex': 2, 'cndt': 2, 'bxrx': 3, 'casa': 2, 'investingwithibd': 3, 'marijuanastocks': 1, 'cannabisstocks': 1, 'wfc': 15, 'clf': 4, 'ibdstockoftheday': 2, 'warrenbuffett': 1, 'cat': 8, 'stockstowatch': 2, 'jpm': 6, 'electricvehicles': 1, 'investing': 42, 'stockmarket': 41, 'presidentsday': 2, 'dia': 6, 'f': 10, 'topthingstoknowtoday': 3, 'dogecoin': 2, 'usd': 2, 'jpy': 1, 'eur': 1, 'usdt': 2, 'xrp': 3, 'bnb': 3, 'bch': 3, 'link': 3, 'mstr': 15, 'c': 4, 'futu': 7, 'baba': 8, 'pypl': 11, 'cv': 1, 'pfe': 2, 'dax': 5, 'ftse': 4, 'cac': 4, 'azn': 2, 'oott': 1, 'ngf': 1, 'ung': 2, 'pxd': 3, 'san': 1, 'gdxj': 3, 'gdx': 3, 'gld': 2, 'slv': 4, 'gbtc': 4, 'btcx': 2, 'tnx': 4, 'ibdpartner': 4, 'anf': 1, 'mcfe': 1, 'band': 3, 'texas': 1, 'fcel': 4, 'vix': 19, 'es': 4, 'oex': 1, 'jmia': 2, 'nbix': 1, 'lhx': 2, 'wwe': 1, 'ba': 12, 'gsat': 3, 'mat': 6, 'net': 5, 'cree': 4, 'amgn': 1, 'tt': 1, 'tlt': 1, 'cboe': 2, 'spot': 1, 'tme': 1, 'googl': 14, 'docu': 2, 'kt': 1, 'uavs': 5, 'can': 6, 'u': 2, 'tqqq': 1, 'mos': 2, 'khc': 4, 'bhc': 3, 'blnk': 8, 'crm': 13, 'mmc': 6, 'lyft': 1, 'lvs': 9, 'mgm': 5, 'crwd': 9, 'atvi': 3, 'mu': 3, 'amd': 9, 'smh': 5, 'feye': 5, 'nio': 7, 'jd': 3, 'lazr': 8, 'sbux': 4, 'stz': 3, 'cgc': 4, 'aa': 1, 'trly': 1, 'ua': 2, 'uaa': 4, 'tgt': 2, 'chwy': 7, 'bbby': 1, 'ma': 7, 'fdx': 3, 'dal': 2, 'slb': 3, 'teva': 2, 'mrna': 4, 'gild': 2, 'lly': 4, 'armn': 1, 'xle': 8, 'rkt': 1, 'gs': 12, 'xlf': 10, 'iwm': 6, 'thestrat': 7, 'kbnt': 6, 'msi': 2, 'tbk': 2, 'scco': 5, 'imax': 2, 'nk': 2, 'clgx': 7, 'cpe': 4, 'cspr': 2, 'tfc': 2, 'ue': 3, 'rvp': 8, 'ahco': 2, 'tech': 2, 'vivo': 2, 'allt': 2, 'goco': 2, 'gnmk': 2, 'srne': 2, 'ghvi': 3, 'acic': 6, 'haac': 4, 'psac': 3, 'stpk': 12, 'ccac': 2, 'bfly': 20, 'pdac': 7, 'pton': 14, 'apps': 11, 'curi': 12, 'frog': 5, 'dt': 6, 'ttcf': 2, 'wbai': 10, 'si': 7, 'ntco': 4, 'sspk': 2, 'apr': 3, 'ozon': 4, 'prch': 3, 'vcel': 2, 'stor': 2, 'ntnx': 2, 'cohu': 2, 'ldi': 3, 'ilmn': 2, 'voxx': 4, 'ayro': 4, 'veru': 4, 'vcra': 2, 'wdfc': 2, 'tdc': 2, 'flux': 2, 'smar': 3, 'dbi': 2, 'flgt': 3, 'mgni': 3, 'dq': 2, 'grwg': 3, 'arya': 2, 'beem': 3, 'ciic': 4, 'plug': 3, 'doyu': 2, 'huya': 2, 'pltk': 2, 'ddog': 2, 'beke': 2, 'cdmo': 2, 'thinkorswim': 2, 'gp': 2, 'zdge': 2, 'ps': 2, 'upst': 3, 'tsco': 3, 'gd': 2, 'sdgr': 2, 'nnox': 2, 'rexr': 2, 'nvst': 2, 'viav': 2, 'hznp': 2, 'n': 2, 'btwn': 7, 'lgvw': 5, 'jets': 1, 'dogpound': 2, 'mj': 3, 'mile': 4, 'psth': 6, 'process': 1, 'routine': 1, 'discipline': 1, 'approach': 1, 'trading': 45, 'ftft': 5, 'gsah': 1, 'gwph': 2, 'flng': 2, 'dnow': 3, 'business': 42, 'economy': 53, 'rio': 2, 'rtntf': 2, 'rtppf': 2, 'markets': 46, 'vcyt': 2, 'skt': 2, 'rail': 1, 'finance': 37, 'tslx': 2, 'cone': 3, 'llkkf': 1, 'mbfjf': 1, 'mufg': 1, 'tgh': 2, 'hgv': 1, 'aptv': 1, 'feny': 1, 'dxj': 1, 'live': 1, 'ard': 2, 'ande': 3, 'vlouf': 2, 'vlowyold': 2, 'capmf': 1, 'cgemy': 1, 'ath': 3, 'athpa': 1, 'athpb': 1, 'drna': 1, 'acco': 5, 'edry': 5, 'tnet': 3, 'syna': 1, 'aptx': 1, 'caipa': 1, 'caipb': 1, 'clr': 4, 'car': 5, 'mye': 1, 'mmx': 1, 'aau': 1, 'crtx': 5, 'good': 2, 'fqvlf': 2, 'riocf': 1, 'mhgvy': 2, 'mnhvf': 2, 'mpw': 1, 'ptr': 1, 'invh': 2, 'chh': 3, 'luna': 1, 'rpai': 3, 'ppruf': 1, 'ppruy': 1, 'psi': 1, 'merc': 4, 'nee': 1, 'fsp': 2, 'irs': 1, 'zbh': 1, 'akzof': 1, 'akzoy': 1, 'qts': 3, 'qtspa': 1, 'rdcm': 3, 'sah': 2, 'sfl': 2, 'psxp': 1, 'isr': 1, 'aig': 6, 'aigpa': 2, 'wy': 1, 'trup': 1, 'tmnsf': 1, 'tmsny': 1, 'thcb': 5, 'hexo': 15, 'vpg': 2, 'hsic': 2, 'hqy': 2, 'eltp': 1, 'cvlb': 1, 'ilikf': 1, 'vno': 4, 'vnopk': 1, 'vnopm': 1, 'crl': 4, 'dreuf': 1, 'jsaiy': 1, 'renn': 1, 'bti': 1, 'bhagf': 1, 'ni': 2, 'nipb': 1, 'ale': 3, 'wire': 3, 'oc': 3, 'immvf': 1, 'enlc': 4, 'earn': 1, 'gnw': 2, 'lmt': 1, 'rprx': 2, 'gpc': 3, 'twou': 1, 'ibcp': 1, 'eprt': 1, 'kref': 2, 'crmt': 2, 'xlk': 3, 'afi': 3, 'cnk': 1, 'comm': 4, 'blok': 2, 'fun': 2, 'iosp': 2, 'vopkf': 1, 'vopky': 1, 'irwd': 3, 'rc': 1, 'anh': 1, 'oeg': 2, 'nls': 2, 'shlaf': 1, 'shlrf': 1, 'ufcs': 2, 'chct': 3, 'sohu': 1, 'rmbs': 1, 'nkla': 2, 'bdrff': 1, 'bdrfy': 1, 'plnhf': 1, 'hxgcf': 1, 'sr': 1, 'bprmf': 1, 'klr': 3, 'tsn': 1, 'mic': 3, 'ekso': 1, 'fdvrf': 1, 'goodm': 1, 'cbay': 1, 'ctrm': 4, 'eww': 1, 'cdak': 1, 'mlhr': 1, 'trrsf': 1, 'bcor': 3, 'lode': 17, 'blue': 9, 'aei': 53, 'nakd': 7, 'tyht': 2, 'ipdn': 1, 'ancn': 6, 'mdvl': 4, 'lotz': 8, 'clov': 3, 'mict': 10, 'chnr': 2, 'sint': 2, 'aacg': 3, 'uone': 5, 'carv': 2, 'pxs': 4, 'gbr': 6, 'xl': 10, 'sino': 5, 'cei': 4, 'brn': 2, 'kxin': 1, 'npa': 6, 'mrin': 5, 'htbx': 1, 'sndl': 17, 'efoi': 3, 'ante': 2, 'rkda': 2, 'laix': 3, 'aljj': 5, 'gthx': 3, 'dffn': 2, 'sbbp': 2, 'finv': 5, 'kopn': 2, 'sesn': 10, 'imux': 3, 'sngx': 1, 'xspa': 2, 'grnq': 1, 'abio': 1, 'amc': 5, 'lfin': 1, 'nktr': 2, 'iq': 4, 'jac': 1, 'icln': 2, 'pbw': 2, 'snpr': 14, 'cpsh': 7, 'vxx': 1, 'sens': 8, 'dm': 5, 'nat': 1, 'abcl': 1, 'lfg': 2, 'solo': 3, 'arkdisrupt': 1, 'xop': 3, 'work': 7, 'copx': 4, 'ovv': 2, 'epsbeat': 66, 'ntr': 2, 'whisperbeat': 34, 'arr': 1, 'axta': 1, 'noa': 2, 'trox': 1, 'epsmiss': 35, 'paas': 1, 'sui': 1, 'hpp': 1, 'epsmeet': 5, 'ois': 2, 'cde': 2, 'qtwo': 2, 'whispermiss': 37, 'esrt': 1, 'bcei': 2, 'kai': 1, 'lope': 1, 'cyh': 1, 'sp': 2, 'csv': 2, 'sun': 1, 'np': 2, 'vmi': 1, 'faro': 1, 'cf': 3, 'sblk': 1, 'h': 1, 'ar': 3, 'am': 2, 'ael': 2, 'sm': 1, 'rpt': 2, 'quik': 2, 'argo': 2, 'uctt': 1, 'gmed': 1, 'cake': 2, 'bfam': 3, 'alb': 4, 'ilpt': 1, 'wk': 1, 'hvt': 1, 'eig': 1, 'bcov': 2, 'hlf': 3, 'vktx': 1, 'swav': 2, 'fcpt': 1, 'pega': 2, 'alsn': 2, 'snps': 1, 'mant': 1, 'lasr': 1, 'wcn': 1, 'txg': 1, 'rbbn': 3, 'cutr': 2, 'mx': 1, 'gldd': 1, 'ssrm': 1, 'wter': 2, 'esoa': 1, 'mcy': 2, 'ibio': 1, 'denn': 2, 'nmih': 2, 'diod': 3, 'metwhisper': 2, 'cvm': 1, 'mgp': 1, 'poww': 2, 'expd': 1, 'ecl': 1, 'otlk': 1, 'sabr': 2, 'ipgp': 1, 'usac': 2, 'nxrt': 1, 'fele': 1, 'dac': 1, 'ceva': 4, 'vmc': 2, 'brkr': 1, 'zts': 3, 'bki': 2, 'trtn': 1, 'rxn': 5, 'jeld': 1, 'iaa': 4, 'he': 1, 'lpx': 5, 'alle': 1, 'usfd': 2, 'tru': 1, 'rbc': 5, 'geo': 2, 'an': 6, 'aap': 5, 'ottr': 1, 'sci': 1, 'vrm': 1, 'open': 2, 'arkk': 3, 'mttr': 2, 'tktk': 1, 's': 1, 'xrt': 3, 'borussiadortmund': 1, 'vrpx': 1, 'audd': 1, 'alxo': 1, 'ehvvp': 1, 'sgfy': 2, 'vor': 2, 'lhdx': 2, 'bolt': 1, 'gtbp': 6, 'raas': 4, 'olma': 2, 'sbtx': 1, 'cris': 3, 'tmbr': 3, 'bntc': 2, 'creg': 2, 'gato': 1, 'pavm': 1, 'spac': 8, 'kbntw': 1, 'haacw': 1, 'sdh': 2, 'bmbl': 3, 'cycc': 1, 'climatechange': 1, 'tlis': 1, 'dbtx': 1, 'dsp': 2, 'ttd': 3, 'ugro': 2, 'baos': 1, 'vlon': 1, 'lgvn': 1, 'ucl': 1, 'alus': 7, 'hol': 4, 'fuv': 5, 'gik': 5, 'arec': 3, 'tsmc': 3, 'tmrc': 2, 'uuuu': 1, 'dnn': 12, 'gomrf': 1, 'uarf': 1, 'amyzf': 1, 'cla': 7, 'actc': 1, 'zgyh': 1, 'spactwitter': 1, 'family': 1, 'grandslam': 1, 'stockstobuy': 2, 'lucidmo': 1, 'clubhouse': 1, 'aspl': 1, 'nqf': 1, 'esf': 3, 'dpw': 5, 'hd': 6, 'plby': 3, 'x': 8, 'solutions': 1, 'ehs': 2, 'thechoppingblock': 1, 'stne': 2, 'xpev': 5, 'aeo': 1, 'nly': 1, 'zto': 1, 'lb': 2, 'aal': 2, 'cbat': 3, 'fcx': 5, 'bby': 2, 'mfin': 1, 'roaringkitty': 1, 'keithgill': 1, 'saveroaringkitty': 2, 'vuzi': 6, 'nws': 3, 'nwsa': 2, 'paoi': 1, 'clir': 1, 'gnss': 1, 'artl': 1, 'crmd': 1, 'cvet': 2, 'dmac': 1, 'fmtx': 2, 'hwm': 2, 'idxx': 3, 'myte': 3, 'oncy': 1, 'pax': 3, 'phat': 1, 'azul': 1, 'ftv': 2, 'kod': 1, 'scpl': 1, 'tpco': 4, 'atex': 1, 'bmo': 1, 'ccep': 1, 'cvi': 1, 'mesa': 6, 'osk': 2, 'parr': 1, 'wbk': 1, 'nbr': 1, 'ogs': 1, 'rgr': 1, 'mvis': 3, 'ctxr': 1, 'chgg': 2, 'aiki': 1, 'aezs': 1, 'vstm': 1, 'vir': 6, 'gsk': 3, 'slrx': 1, 'rdhl': 1, 'chrs': 1, 'alt': 1, 'adap': 3, 'nova': 1, 'len': 1, 'myt': 3, 'cnet': 1, 'cfac': 3, 'orgn': 1, 'ahac': 1, 'huma': 1, 'dogz': 1, 'petz': 3, 'plin': 1, 'aku': 1, 'mtb': 1, 'gogo': 3, 'enbl': 5, 'intc': 1, 'rcl': 2, 'li': 1, 'qtt': 2, 'amat': 3, 'gddy': 1, 'io': 3, 'jci': 2, 'ea': 2, 'ttwo': 2, 'dva': 1, 'acrx': 2, 'lucid': 1, 'watt': 1, 'patent': 1, 'epsn': 1, 'amyt': 1, 'beam': 2, 'gmtx': 1, 'hhc': 1, 'ipwr': 1, 'scps': 1, 'tenb': 2, 'tlmd': 1, 'trx': 1, 'tvtx': 1, 'axp': 3, 'bb': 6, 'ely': 2, 'gluu': 1, 'mmp': 1, 'msge': 1, 'nblx': 2, 'noah': 1, 'plce': 2, 'rsg': 1, 'ubx': 1, 'ads': 1, 'bp': 3, 'bl': 2, 'cday': 1, 'ceqp': 1, 'ctas': 1, 'etn': 2, 'fwrd': 1, 'gt': 1, 'mmyt': 1, 'mplx': 1, 'plan': 3, 'rrc': 1, 'sqm': 2, 'tex': 1, 'wish': 1, 'xog': 1, 'panw': 2, 'pcyg': 1, 'acc': 1, 'yndx': 2, 'lbtya': 1, 'mck': 2, 'aegn': 2, 'ford': 1, 'casi': 1, 'tpr': 1, 'nbev': 1, 'hepa': 1, 'gmda': 1, 'chaa': 1, 'bpth': 1, 'autl': 1, 'arav': 1, 'anix': 1, 'ual': 1, 'vyne': 3, 'snss': 1, 'nvax': 1, 'kala': 1, 'evfm': 15, 'snow': 2, 'crypto': 3, 'giddyup': 11, 'apha': 4, 'unusualactivity': 12, 'vgx': 2, 'wednesdaythought': 1, 'wednesdaymotivations': 1, 'ths': 2, 'uoa': 3, 'dda': 1, 'educay': 1, 'motivational': 1, 'wallstreetbets': 3, 'ssys': 2, 'btbt': 3, 'actg': 2, 'flex': 2, 'itp': 4, 'thetake': 1, 'friday': 1, 'fromthetradingfloors': 1, 'minnesotamood': 1, 'keepgrinding': 1, 'peteprinciples': 1, 'giddyupupup': 2, 'gogophs': 1, 'tjx': 1, 'mik': 1, 'ups': 2, 'zom': 3, 'commander': 1, 'letsget': 1, 'rllcf': 4, 'cholf': 2, 'dfiff': 2, 'yi': 2, 'vygvf': 2, 'vivef': 2, 'winter': 1, 'tuesdaymotivations': 2, 'tuesdayvibe': 1, 'investors': 1, 'cryptocurrency': 1, 'petesprincipled': 1, 'mrvi': 1, 'cert': 1, 'pcg': 2, 'dhr': 1, 'chtr': 2, 'goog': 9, 'burl': 1, 'intu': 2, 'adbe': 1, 'abt': 1, 'v': 3, 'acn': 1, 'adsk': 1, 'syk': 2, 'pm': 1, 'mkc': 1, 'pep': 1, 'frc': 1, 'race': 2, 'isrg': 1, 'masi': 2, 'br': 1, 'bnkg': 1, 'tmus': 2, 'se': 1, 'nuan': 1, 'ebay': 2, 'upwk': 1, 'desp': 1, 'orly': 1, 'bam': 1, 'amt': 1, 'kmx': 1, 'mkl': 1, 'aon': 1, 'ecpg': 1, 'amwd': 1, 'ssnc': 1, 'nvr': 1, 'hca': 1, 'lin': 2, 'bkng': 1, 'nke': 1, 'otis': 1, 'pg': 4, 'tdg': 1, 'mco': 1, 'mtch': 1, 'kmi': 1, 'dxcm': 1, 'fisv': 1, 'mgi': 2, 'oec': 1, 'dxy': 1, 'lptv': 1, 'vixm': 1, 'sfor': 10, 'mkgp': 1, 'boxl': 2, 'opk': 1, 'wimi': 1, 'covid': 2, 'fsinsight': 1, 'oih': 2, 'iw': 1, 'energy': 1, 'dow': 6, 'ndx': 4, 'rty': 3, 'ether': 15, 'bitcoincash': 15, 'eos': 14, 'stellar': 4, 'nasdaq': 5, 'russell': 4, 'fang': 2, 'igopeningcall': 2, 'silver': 5, 'platinum': 5, 'xauusd': 5, 'commodities': 6, 'aex': 3, 'mib': 3, 'eurusd': 5, 'gbpusd': 5, 'usdjpy': 5, 'audusd': 5, 'audjpy': 5, 'asx': 2, 'knb': 1, 'oil': 1, 'nikkei': 3, 'hsi': 1, 'hshares': 1, 'aluminium': 1, 'nickel': 1, 'lead': 1, 'zinc': 1, 'metals': 1, 'poai': 1, 'yolo': 1, 'cyrx': 1, 'aldx': 14, 'love': 1, 'amrn': 1, 'izea': 1, 'cybr': 1, 'clx': 1, 'ffty': 1, 'fslr': 1, 'bill': 1, 'cmrx': 1, 'futures': 4, 'mwk': 1, 'entg': 1, 'xlu': 2, 'stim': 2, 'crsr': 1, 'wmb': 1, 'spi': 2, 'wynn': 6, 'tdoc': 7, 'bke': 1, 'algn': 1, 'slqt': 1, 'bloombergcrypto': 2, 'coronavirus': 2, 'roadtonetzero': 1, 'bonds': 1, 'inflation': 1, 'sgbudget': 2, 'elys': 3, 'weramp': 2, 'nerd': 1, 'study': 1, 'xone': 2, 'hon': 2, 'nclh': 6, 'csgp': 5, 'supdup': 50, 'bkllf': 6, 'fastmoney': 15, 'wallstreet': 13, 'money': 15, 'ltmcf': 3, 'lithium': 1, 'hec': 11, 'rmo': 4, 'ms': 3, 'bmix': 3, 'mrk': 4, 'superdupermoney': 9, 'cnbc': 6, 'heccw': 1, 'phexxi': 1, 'djia': 2, 'fintwits': 6, 'blockchain': 1, 'penny': 1, 'stock': 1, 'bklff': 1, 'mining': 1, 'curiw': 2, 'cdtx': 12, 'ajax': 3, 'supdupteam': 3, 'tcon': 1, 'obmp': 1, 'clvrw': 1, 'taug': 2, 'etwo': 1, 'ivfh': 1, 'atnf': 1, 'gtch': 1, 'etsy': 1, 'optt': 2, 'spcb': 1, 'tiktok': 1, 'atnx': 1, 'inpx': 3, 'selb': 1, 'blxx': 1, 'kodk': 1, 'puge': 1, 'srmx': 1, 'bbi': 1, 'idex': 2, 'nspr': 1, 'vldr': 1, 'hcmc': 1, 'rtx': 1, 'slca': 1, 'lh': 1, 'bldp': 1, 'lulu': 1, 'qcom': 1, 'swi': 1, 'mogo': 1, 'thestreetlive': 3, 'nete': 1, 'de': 1, 'clps': 2, 'tcnnf': 1, 'bk': 1, 'w': 1, 'ego': 1, 'zbisf': 1, 'arkws': 1, 'reemf': 1, 'ge': 2, 'wba': 2, 'cannabis': 2, 'germanbeer': 1, 'crnt': 2, 'amkr': 1, 'championsleague': 2, 'bayernmunich': 1, 'vips': 5, 'aes': 1, 'emn': 1, 'curo': 1, 'lu': 1, 'alert': 1, 'btcusd': 3, 'workshop': 1, 'video': 1, 'scan': 1, 'char': 1, 'barstoolfund': 3, 'goblue': 1, 'scr': 1, 'ddtg': 4, 'stillgoing': 1, 'imte': 1, 'medicaldevices': 1, 'tdac': 11, 'htbc': 1, 'goals': 1, 'beemlike': 1, 'lexx': 3, 'tril': 1, 'uvxy': 1, 'super': 1, 'tdacw': 2, 'wkey': 1, 'sunw': 1, 'hfen': 1, 'altr': 1, 'cel': 1, 'chix': 1, 'chii': 1, 'urnm': 2, 'prnt': 2, 'ring': 2, 'tan': 3, 'kce': 1, 'vrts': 1, 'sf': 1, 'rjf': 1, 'lpla': 2, 'kkr': 1, 'cown': 1, 'ares': 1, 'amg': 1, 'wetf': 1, 'ivz': 1, 'kre': 2, 'wal': 1, 'vly': 1, 'tsc': 1, 'tbbk': 1, 'sivb': 1, 'sbny': 1, 'rf': 1, 'pnc': 2, 'pacw': 1, 'cubi': 1, 'cit': 1, 'bpfh': 1, 'xes': 1, 'skyw': 1, 'mtn': 1, 'drh': 1, 'peb': 1, 'aple': 1, 'erj': 1, 'ymf': 1, 'psj': 2, 'kbe': 1, 'xhe': 1, 'ihe': 1, 'remx': 1, 'chim': 1, 'itb': 1, 'xlp': 1, 'nky': 2, 'sse': 1, 'ssec': 1, 'arkw': 1, 'komp': 1, 'iwc': 1, 'ibuy': 1, 'chiq': 1, 'socl': 1, 'kure': 1, 'bbh': 1, 'gamr': 1, 'ecns': 1, 'cqqq': 1, 'pipr': 1, 'bak': 1, 'insw': 1, 'ftnt': 1, 'yumc': 1, 'ppd': 1, 'eufn': 1, 'tnk': 1, 'fls': 1, 'nvo': 1, 'eden': 1, 'adm': 1, 'daytrading': 4, 'swingtrading': 4, 'lk': 1, 'asan': 1, 'cpg': 1, 'rdsa': 1, 'rdsb': 1, 'hog': 1, 'chk': 1, 'sdc': 1, 'nsrgy': 1, 'tnav': 1, 'jblu': 1, 'low': 1, 'qsr': 1, 'cmg': 1, 'vwagy': 1, 'nsany': 1, 'tm': 1, 'ldos': 1, 'ntdoy': 1, 'ubsfy': 1, 'otgly': 1, 'zs': 1, 'gps': 1, 'acb': 1, 'tsnp': 7, 'dloc': 1, 'ozsc': 2, 'aitx': 2, 'enzc': 2, 'hqge': 2, 'ltnc': 3, 'aabb': 6, 'wksp': 1, 'btsc': 1, 'maxd': 2, 'apyp': 1, 'iqst': 1, 'gamestop': 1, 'hedgefunds': 1, 'shortsqueeze': 1, 'riprush': 1, 'rip': 1, 'rushlimbaugh': 1, 'siml': 1, 'neom': 1, 'gaxy': 1, 'sanp': 1, 'afpw': 1, 'clis': 1, 'knos': 1, 'aacqw': 1, 'ptvcb': 1, 'ipix': 1, 'ark': 4, 'su': 1, 'nxtd': 1, 'aqua': 1, 'gern': 1, 'gsky': 3, 'mxef': 1, 'arw': 1, 'asix': 1, 'putcall': 1, 'usb': 1, 'cop': 1, 'xin': 2, 'vff': 1, 'athx': 1, 'opra': 1, 'yrd': 1, 'nmtr': 1, 'teck': 1, 'prts': 1, 'ncno': 1, 'cnhi': 1, 'mga': 1, 'nxpi': 1, 'st': 1, 'tel': 1, 'bwa': 1, 'barkbox': 1, 'sgen': 1, 'ttm': 1, 'mnst': 1, 'pdd': 2, 'bgcp': 1, 'stla': 1, 'sphb': 1, 'splv': 1, 'tmo': 1, 'jnj': 1, 'mech': 1, 'ppi': 1, 'escooters': 1, 'smartmobility': 1, 'blackhistorymonth': 1, 'theclose': 1, 'imvt': 1, 'ontx': 1, 'znga': 1, 'ccj': 1, 'arkf': 1, 'gilt': 1, 'ortx': 1, 'glpg': 1, 'ocgn': 1, 'options': 1, 'caterpillar': 2, 'financials': 1, 'ryf': 1}\n"
     ]
    }
   ],
   "source": [
    "from collections import Counter\n",
    "\n",
    "word_counts = Counter(output)\n",
    "print(dict(word_counts))"
   ]
  },
  {
   "cell_type": "code",
   "execution_count": 141,
   "id": "colored-productivity",
   "metadata": {},
   "outputs": [
    {
     "name": "stdout",
     "output_type": "stream",
     "text": [
      "{'pltr': 79, 'bitcoin': 75, 'tsla': 70, 'cciv': 66, 'epsbeat': 66, 'stocks': 61, 'btc': 60, 'economy': 53, 'aei': 53, 'aapl': 52}\n"
     ]
    }
   ],
   "source": [
    "#Only cashtag symbol\n",
    "print(dict(word_counts.most_common(10)))"
   ]
  },
  {
   "cell_type": "code",
   "execution_count": 142,
   "id": "offshore-stability",
   "metadata": {},
   "outputs": [
    {
     "name": "stdout",
     "output_type": "stream",
     "text": [
      "{'pltr': 79, 'bitcoin': 75, 'tsla': 70, 'cciv': 66, 'epsbeat': 66, 'stocks': 61, 'btc': 60, 'economy': 53, 'aei': 53, 'aapl': 52, 'supdup': 50, 'markets': 46, 'trading': 45, 'investing': 42, 'business': 42, 'stockmarket': 41, 'spy': 38, 'finance': 37, 'whispermiss': 37, 'amzn': 36, 'epsmiss': 35}\n"
     ]
    }
   ],
   "source": [
    "#cashtag and hashtag counts new method \n",
    "print(dict(word_counts.most_common(21)))"
   ]
  },
  {
   "cell_type": "code",
   "execution_count": 143,
   "id": "individual-beads",
   "metadata": {},
   "outputs": [
    {
     "name": "stdout",
     "output_type": "stream",
     "text": [
      "{'$SPY': 34, '$OBTC': 2, '$AGFY': 2, '#Bitcoin': 54, '$GME': 19, '$IBKR': 2, '$VRTU': 1, '$FUNFF': 1, '$TSCRF': 2, '$DKNG': 5, '$SKLZ': 5, '$PENN': 4, '$EH': 23, '$LKNCY': 1, '$TAL': 1, '$SBVCF': 1, '$PLTR': 77, '$BTC': 32, '$KMPH': 1, '$ETH': 2, '$SPH': 1, '$NRG': 3, '$USO': 1, '$RIOT': 19, '$MARA': 3, '$ACEV': 1, '$FPRX': 2, '$NNDM': 8, '$EBON': 8, '$BNGO': 29, '$OXY': 4, '$XOM': 7, '$SHIP': 7, '$FUBO': 27, '$NVDA': 13, '$LTC': 2, '$CLVS': 1, '$TSLA': 66, '$VZ': 22, '$CVX': 18, '$NVS': 1, '$EXAS': 6, '$MREO': 1, '$RHHBY': 1, '$DOGE': 5, '$ADA': 1, '$DOT': 1, '$GRT': 2, '$SQ': 9, '$MSFT': 13, '$AAPL': 41, '$BRK.A': 6, '$BRK.B…': 1, '$MARS': 1, '$FB': 22, '$SNAP': 4, '$TWTR': 19, '$ORCL': 2, '$WMT': 11, '$TRCH': 8, '$CCIV': 65, '$RPLA': 1, '$FSR': 8, '$SPCE': 3, '$CLMF': 1, '$RIDE…': 1, '$IPOG': 1, '$IPOH': 1, '$IPOI…': 1, '$GNRC': 6, '$PPSI': 1, '$VST': 1, '$SCKT': 13, '$TCRH': 1, '#Dan': 1, '$SOS': 21, '$TIGR…': 2, '$HYLN': 7, '$VISL': 3, '$VET': 2, '$YJ': 1, '$MAR': 5, '#SPACs': 4, '$NSTB': 1, '$GRSV': 1, '$AACQ': 3, '$JACK': 2, '$PLAY': 1, '$BFI': 1, '$MP': 17, '$STIC': 4, '$RTP': 1, '$TSIA': 1, '$DMYD': 4, '$CLVR': 4, '#spacs': 1, '#spacsquad': 1, '$MSF…': 1, '$NFLX': 6, '$DIS': 7, '$RVN': 1, '$ICX': 1, '$BTG': 1, '$DASH': 2, '$LSK': 1, '$SNE': 2, '#StockMarkets': 1, '#technicalanalysis': 1, '#charts': 1, '$IBB': 4, '$XBI': 4, \"#KHRN's\": 1, '$VLKAF': 1, '$HUBS': 1, '$COH': 1, '$COTY': 2, '$CPRI': 1, '$LVMUY': 1, '$RL': 1, '$REAL': 3, '$GOOS': 1, '$PRUY': 1, '$FTCH': 1, '$EL…': 1, '$BAC': 5, '$CELH': 1, '$AMZN': 30, '$KO': 1, '$GM': 3, '$XOM…': 1, '#stocks': 54, '$QS': 26, '$AUY,': 1, '$PLTR,': 1, '$CVS,': 1, '$FTI': 2, '$CCL,': 1, '$T,': 1, '$VALE,': 1, '$BAC,': 1, '$HST': 1, '$CMLF': 1, '$FAMI': 1, '$EPIX': 2, '$BLIAQ:': 1, '$GME:': 1, '$KOSS:': 1, '$EXPR:': 1, '$UBER': 6, '$CRB': 1, '$ZROZ': 1, '$LUMBER': 1, '$COPPER': 1, '$WTIC': 1, '$SPX': 12, '$ZM': 8, '$YALA': 3, '$TIGR': 16, '$ROKU': 7, '$EXPI': 7, '$BYND': 3, '$BILI': 1, '#earnings': 12, '$CSOD': 7, '$WING': 6, '$KAR': 8, '$CAI': 5, '$HEES': 4, '$BPMC': 4, '$LZB': 5, '$KRNT': 7, '$CRK': 5, '$EQT': 6, '$CMP': 5, '$CRSP…': 1, '$FVRR': 1, '$GOLD': 2, '$WM': 3, '$NEM': 1, '$APRN': 3, '$HRL': 1, '$FE': 1, '$WST…': 1, '$TLRY': 20, '$FSLY': 7, '$TWLO': 11, '$BIDU': 8, '$SPWR': 5, '$STMP': 3, '$SAM': 4, '$MRO': 3, '$ET': 14, '$SNBR': 7, '$NVTA…': 1, '$QQQ': 13, '$SPX…': 1, '$ADI': 6, '$SHOP': 23, '$WIX': 10, '$PTN': 3, '$GRMN': 6, '$HLT': 10, '$TSEM': 3, '$DAVA…': 1, '$SEDG': 7, '$RNG': 7, '$A': 8, '$BYD': 4, '$DVN': 9, '$LSCC…': 1, '#volatility': 2, '$NEX': 2, '$CNDT': 2, '$BXRX': 3, '$CASA…': 1, '#InvestingWithIBD!': 1, '#InvestingWithIBD.': 1, '#marijuanastocks': 1, '#cannabisstocks': 1, '$WFC': 13, '$CLF': 3, '#ibdstockoftheday…': 1, '#stocks,': 1, '#warrenbuffett': 1, '$BRKB': 1, '$CAT': 7, '#ibdstockoftheday': 1, '#stockstowatch': 1, '$JPM': 6, '#electricvehicles': 1, '#investing': 42, '#stockmarket': 40, '#PresidentsDay!': 1, '#InvestingwithIBD!': 1, '#BTC': 22, '$DIA': 5, '$F': 10, '$AMZN…': 1, '#Top5ThingsToKnowToday:': 3, '#BTC…': 1, '#DOGE': 2, '#Dogecoin': 1, '$USD': 2, '$JPY': 1, '$EUR': 1, '#ETH': 3, '#USDT': 2, '#DOT': 3, '#ADA': 3, '#XRP': 3, '#BNB': 3, '#LTC': 3, '#BCH': 3, '#LINK': 3, '#BITCOIN': 6, '$DIA…': 1, '#bitcoin': 9, '$MSTR': 15, '$C': 3, '$FUTU': 7, '$BABA': 8, '$PYPL': 11, '$CV…': 1, '$PFE': 2, '$DAX': 2, '$FTSE': 1, '$CAC…': 1, '$AZN': 2, '#PresidentsDay': 1, '$CL_F': 1, '#OOTT': 1, '$NG_F': 1, '$UNG': 2, '#Doge…': 1, '$PXD,': 2, '$CVX.': 2, '$SAN': 1, '$GDXJ': 3, '$GDX': 3, '$GLD': 2, '$SLV…': 1, '$GBTC': 4, '$BTC.X': 2, '$TNX': 4, '#IBDpartner': 1, '#EH': 2, '$ANF': 1, '$MCFE': 1, '$BAND': 1, '#Texas': 1, '$FCEL': 2, '$TSLA,': 2, '#dogecoin': 1, '$VIX': 13, '$ES': 4, '$OEX': 1, '$JMIA': 2, '$NBIX': 1, '$LHX': 2, '$WWE': 1, '$BA': 12, '$GSAT': 3, '$MAT': 6, '$NET': 3, '$CREE': 4, '$AMGN': 1, '$TT': 1, '$TLT': 1, '$CBOE': 1, '$SPOT': 1, '$TME': 1, '$GOOGL': 14, '$DOCU': 2, '$KT': 1, '$UAVS': 5, '$CAN': 6, '$U': 2, '$TQQQ': 1, '$BIDU:': 1, '$MOS': 2, '$KHC': 4, '$BHC': 3, '$BLNK': 7, '$CRM': 9, '$MMC': 4, '$LYFT': 1, '$LVS': 9, '$MGM': 5, '$CRWD': 9, '$ATVI': 3, '$MU': 3, '$AMD': 6, '$SMH': 4, '$FEYE': 4, '$NIO': 6, '$JD': 3, '$LAZR': 7, '$SBUX': 4, '$STZ': 3, '$CGC': 3, '$AA': 1, '$TRLY': 1, '$UA': 2, '$UAA': 4, '$TGT': 1, '$CHWY': 6, '$BBBY': 1, '$MA': 6, '$FDX': 3, '$DAL': 2, '$SLB': 3, '$TEVA': 2, '$MRNA': 4, '$GILD': 2, '$LLY': 3, '$ARMN': 1, '$XLE': 8, '$RKT': 1, '$GS': 12, '$XLF': 8, '$IWM': 5, '#TheStrat': 6, '$KBNT': 5, '$MSI': 2, '$TBK': 2, '$SCCO': 5, '$IMAX': 2, '$NK': 2, '$CLGX': 7, '$CPE': 4, '$CSPR': 2, '$TFC': 2, '$UE': 3, '$RVP': 8, '$AHCO': 2, '$TECH': 2, '$VIVO': 2, '$ALLT': 2, '$GOCO': 2, '$GNMK': 2, '$SRNE': 2, '$NET…': 2, '$GHVI': 2, '$ACIC': 6, '$HAAC': 4, '$PSAC': 3, '$STPK': 12, '$CCAC': 2, '$BFLY': 18, '$PDAC': 7, '$PTON': 10, '$APPS': 10, '$CURI': 12, '$FROG': 4, '$DT': 6, '$PTON?\"': 2, '$TTCF…': 2, '$WBAI': 10, '$SI': 7, '$NTCO': 4, '$SSPK': 2, '$APR': 3, '$OZON': 4, '$PRCH': 3, '$VCEL': 2, '$STOR': 2, '$NTNX': 2, '$COHU': 2, '$LDI': 2, '$ILMN': 2, '$VOXX': 4, '$AYRO': 4, '$VERU': 4, '$VCRA': 2, '$WDFC': 2, '$TDC': 2, '$FLUX': 2, '$SMAR': 3, '$DBI': 2, '$FLGT': 3, '$MGNI': 3, '$DQ': 2, '$PTON.': 2, '$GRWG': 3, '$MP?\"': 2, '$MP.': 2, '$ARYA': 2, '$BEEM': 3, '$CIIC': 3, '$PLUG': 3, '$SKLZ…': 2, '$DOYU': 2, '$HUYA': 2, '$PLTK': 2, '$DDOG': 2, '$BEKE': 2, '$CDMO': 2, '#ThinkorSwim': 2, '$GP': 2, '$ZDGE': 2, '$PS': 2, '$UPST': 3, '$TSCO': 3, '$GD': 2, '$SDGR': 2, '$NNOX': 2, '$REXR': 2, '$NVST': 2, '$VIAV': 2, '$HZNP': 2, '$N…': 2, '$bfly': 2, '$btwn': 5, '$lgvw.': 1, '$amzn': 3, '$jets': 1, '$BTWN': 2, '$fcel': 2, '$sos': 6, '$aapl': 7, '$spx': 4, '#dogpound': 2, '$mj': 1, '$btc': 2, '$mile': 3, '$psth': 3, '$ebon': 4, '$aapl.': 1, '$riot': 1, '#process': 1, '#routine': 1, '#discipline': 1, '#approach.': 1, '$sos.': 1, '$pltr': 1, '#trading': 45, '$ftft': 2, '$qqq': 1, '$bngo': 2, '$lazr': 1, '$amd': 1, '$gsah': 1, '$gwph': 1, '$tsla': 1, '$FLNG': 2, '$DNOW': 3, '#business': 42, '#economy': 53, '$RIO': 2, '$RTNTF': 2, '$RTPPF': 2, '#markets': 46, '$VCYT': 2, '$SKT': 2, '$RAIL': 1, '#finance': 37, '$TSLX': 2, '$CONE': 3, '$LLKKF': 1, '$MBFJF': 1, '$MUFG': 1, '$TGH': 2, '$HGV': 1, '$APTV': 1, '$FENY': 1, '$DXJ': 1, '$LIVE': 1, '$ARD': 2, '$ANDE': 3, '$VLOUF': 2, '$VLOWY-OLD': 2, '$CAPMF': 1, '$CGEMY': 1, '$ATH': 3, '$ATH.PA': 1, '$ATH.PB': 1, '$DRNA': 1, '$ACCO': 5, '$EDRY': 5, '$TNET': 3, '$SYNA': 1, '$APTX': 1, '$CAI.PA': 1, '$CAI.PB': 1, '$CLR': 4, '$CAR': 5, '$MYE': 1, '$DAVA': 4, '$MMX': 1, '$AAU': 1, '$CRTX': 5, '$GOOD': 2, '$FQVLF': 2, '$RIOCF': 1, '$MHGVY': 2, '$MNHVF': 2, '$MPW': 1, '$PTR': 1, '$INVH': 2, '$CHH': 3, '$LUNA': 1, '$RPAI': 3, '$PPRUF': 1, '$PPRUY': 1, '$PSI': 1, '$MERC': 4, '$NEE': 1, '$FSP': 2, '$IRS': 1, '$ZBH': 1, '$AKZOF': 1, '$AKZOY': 1, '$QTS': 3, '$QTS.PA': 1, '$RDCM': 3, '$SAH': 2, '$SFL': 2, '$PSXP': 1, '$ISR': 1, '$AIG': 6, '$AIG.PA': 2, '$WY': 1, '$TRUP': 1, '$TMNSF': 1, '$TMSNY': 1, '$THCB': 5, '$HEXO': 11, '$VPG': 2, '$HSIC': 2, '$HQY': 2, '$ELTP': 1, '$CVLB': 1, '$ILIKF': 1, '$VNO': 4, '$VNO.PK': 1, '$VNO.PM': 1, '$CRL': 4, '$DREUF': 1, '$JSAIY': 1, '$RENN': 1, '$BTI': 1, '$BHAGF': 1, '$NI': 2, '$NI.PB': 1, '$ALE': 3, '$WIRE': 3, '$OC': 3, '$IMMVF': 1, '$ENLC': 4, '$EARN': 1, '$GNW': 2, '$LMT': 1, '$RPRX': 2, '$GPC': 2, '$TWOU': 1, '$IBCP': 1, '$EPRT': 1, '$KREF': 2, '$CRMT': 2, '$XLK': 3, '$AFI': 3, '$CNK': 1, '$COMM': 4, '$BLOK': 2, '$FUN': 2, '$IOSP': 2, '$VOPKF': 1, '$VOPKY': 1, '$IRWD': 3, '$RC': 1, '$ANH': 1, '$OEG': 2, '$NLS': 2, '$SHLAF': 1, '$SHLRF': 1, '$UFCS': 2, '$CHCT': 3, '$SOHU': 1, '$RMBS': 1, '$NKLA': 2, '$BDRFF': 1, '$BDRFY': 1, '$PLNHF': 1, '$HXGCF': 1, '$SR': 1, '$BPRMF': 1, '$KLR': 3, '$TSN': 1, '$MIC': 3, '$EKSO': 1, '$FDVRF': 1, '$BRK.B': 3, '$GOODM': 1, '$CBAY': 1, '$CTRM': 4, '$EWW': 1, '$CDAK': 1, '$MLHR': 1, '$TRRSF': 1, '$BCOR': 3, '$LODE': 16, '$BLUE': 9, '$WFC:': 1, '$MAR:': 1, '$AEI': 53, '$NAKD': 7, '$TYHT': 2, '$IPDN': 1, '$ANCN': 6, '$MDVL': 4, '$LOTZ': 8, '$CLOV': 3, '$MICT': 10, '$CHNR': 2, '$SINT': 2, '$AACG': 3, '$UONE': 5, '$CARV': 2, '$PXS': 4, '$GBR': 6, '$XL': 10, '$SINO': 5, '$CEI': 4, '$BRN': 2, '$KXIN': 1, '$NPA': 6, '$MRIN': 5, '$HTBX': 1, '$SNDL': 16, '$EFOI': 3, '$ANTE': 2, '$RKDA': 2, '$LAIX': 3, '$ALJJ': 5, '$GTHX': 3, '$DFFN': 2, '$SBBP': 2, '$FINV': 5, '$KOPN': 2, '$SESN': 10, '$IMUX': 3, '$SNGX': 1, '$XSPA': 2, '$GRNQ': 1, '$ABIO': 1, '$AMC': 5, '$BRK/B': 1, '$LFIN': 1, '$BTC.': 2, '$RIOT…': 1, '$TIGR-': 1, '$TIGR)': 1, '$NKTR': 2, '$NVTA': 3, '$IQ': 4, '$JAC…': 1, '$ICLN': 2, '$PBW': 2, '$SNPR': 14, '$CPSH': 5, '$CPSH.': 2, '$BAND.': 2, '$VXX': 1, '$SENS': 6, '$DM': 4, '$NAT': 1, '$ABCL': 1, '#LFG': 2, '#stocks.': 1, '$SOLO': 3, '#ARKDisrupt': 1, '$XOP': 3, '$WORK': 6, '$COPX': 4, '$OVV': 2, '#epsbeat': 66, '$NTR': 2, '#whisperbeat': 34, '$ARR': 1, '$AXTA': 1, '$NOA': 2, '$TROX': 1, '#epsmiss': 35, '$PAAS': 1, '$SUI': 1, '$HPP': 1, '#epsmeet': 5, '$OIS': 2, '$CDE': 2, '$QTWO': 2, '#whispermiss': 37, '$ESRT': 1, '$BCEI': 2, '$KAI': 1, '$LOPE': 1, '$CYH': 1, '$SP': 1, '$CSV': 2, '$SUN': 1, '$NP': 2, '$VMI': 1, '$FARO': 1, '$CF': 3, '$SBLK': 1, '$H': 1, '$AR': 3, '$AM': 2, '$AEL': 2, '$SM': 1, '$RPT': 2, '$QUIK': 2, '$ARGO': 2, '$UCTT': 1, '$GMED': 1, '$CAKE': 2, '$BFAM': 3, '$ALB': 4, '$ILPT': 1, '$WK': 1, '$HVT': 1, '$EIG': 1, '$BCOV': 2, '$HLF': 3, '$VKTX': 1, '$SWAV': 2, '$FCPT': 1, '$PEGA': 2, '$ALSN': 2, '$SNPS': 1, '$MANT': 1, '$LASR': 1, '$WCN': 1, '$TXG': 1, '$RBBN': 3, '$CUTR': 1, '$MX': 1, '$GLDD': 1, '$SSRM': 1, '$WTER': 2, '$ESOA': 1, '$MCY': 2, '$IBIO': 1, '$DENN': 2, '$NMIH': 2, '$DIOD': 3, '$CRSP': 2, '$LSCC': 3, '#metwhisper': 2, '$CVM': 1, '$MGP': 1, '$POWW': 2, '$EXPD': 1, '$ECL': 1, '$OTLK': 1, '$SABR': 2, '$IPGP': 1, '$USAC': 2, '$NXRT': 1, '$FELE': 1, '$DAC': 1, '$CEVA': 4, '$VMC': 2, '$BRKR': 1, '$ZTS': 3, '$GWPH': 1, '$BKI': 2, '$TRTN': 1, '$RXN': 5, '$JELD': 1, '$IAA': 4, '$HE': 1, '$LPX': 5, '$ALLE': 1, '$USFD': 2, '$TRU': 1, '$RBC': 5, '$GEO': 2, '$CVS': 8, '$AN': 6, '$AAP': 5, '$OTTR': 1, '$SCI': 1, '$feye': 1, '$VRM': 1, '$OPEN': 2, '$ARKK': 3, '$NIO,': 1, '$AAPL,': 1, '$MTTR': 1, '$MTTR,': 1, '$GHVI.': 1, '$TKTK': 1, '$TSLA.': 1, '#s…': 1, '$XRT': 3, '#BorussiaDortmund': 1, '$VRPX': 1, '$AUDD': 1, '$ALXO': 1, '$EHVVP': 1, '$SGFY': 2, '$VOR': 2, '$LHDX,': 1, '$BOLT': 1, '$AGFY,': 1, '$GTBP,': 2, '$RAAS': 4, '$OLMA': 2, '$SBTX': 1, '$CRIS': 2, '$TMBR,': 1, '$BNTC,': 1, '$CREG,': 1, '$GATO,': 1, '$KBNT,': 1, '$PAVM': 1, '#SPAC': 8, '$TMBR': 2, '$KBNTW': 1, '$CREG': 1, '$HAACW': 1, '$SDH': 1, '$BMBL': 3, '$CYCC.': 1, '$BNTC': 1, '$GTBP': 4, '#climatechange': 1, '$TLIS': 1, '$LHDX': 1, '$DBTX': 1, '$DSP': 2, '$TTD': 3, '$LDI…': 1, '$UGRO': 2, '$BAOS,': 1, '$SDH,': 1, '$VLON,': 1, '$LGVN': 1, '$CIIC,': 1, '$TIGR,': 1, '$UCL': 1, '$ALUS': 7, '$HOL': 4, '$FUV': 5, '$GIK': 5, '$FSR.': 1, '$AREC': 2, '$TSMC.': 2, '$TMRC': 2, '$AREC,': 1, '$TSMC,': 1, '$MP,': 1, '$UUUU,': 1, '$DNN,': 1, '$GOMRF,': 1, '$UARF,': 1, '$AMYZF': 1, '$CLA': 7, '$ACTC': 1, '$ZGYH': 1, '#SPACTwitter': 1, '$PSTH': 3, '#family': 1, '#grandslam': 1, '#StocksToBuy': 2, '#lucidmo…': 1, '#clubhouse': 1, '$ASPL': 1, '$NQ_F,': 1, '$ES_F': 3, '$DPW': 5, '$HD': 5, '$PLBY': 3, '$X': 7, '#solutions30': 1, '$EH’s': 1, \"$EH's\": 1, '#TheChoppingBlock': 1, '$STNE': 2, '$XPEV': 5, '$AEO': 1, '$NLY': 1, '$ZTO': 1, '$LB': 2, '$AAL': 2, '$CBAT': 3, '$FCX': 5, '$BBY': 2, '$MFIN': 1, '$FTFT': 3, '#roaringkitty': 1, '#KeithGill': 1, '#SaveRoaringKitty': 2, '$VUZI': 6, '$NWS': 3, '$NWSA': 2, '$PAOI': 1, '$CLIR': 1, '$GNSS': 1, '$ARTL': 1, '$CRMD': 1, '$CVET': 2, '$DMAC': 1, '$FMTX': 2, '$HWM': 2, '$IDXX': 2, '$MYTE': 3, '$ONCY': 1, '$PAX': 3, '$PHAT': 1, '$AZUL': 1, '$FTV': 2, '$KOD': 1, '$SCPL': 1, '$TPCO': 4, '$ATEX': 1, '$BMO': 1, '$CCEP': 1, '$CVI': 1, '$MESA': 6, '$OSK': 2, '$PARR': 1, '$WBK': 1, '$NBR': 1, '$OGS': 1, '$PXD': 1, '$RGR': 1, '$SAM…': 1, '$CUTR…': 1, '$MVIS': 3, '$CTXR': 1, '$CHGG': 2, '$AIKI': 1, '$AEZS': 1, '$VSTM': 1, '$VIR': 6, '$GSK,': 1, '$SLRX': 1, '$RDHL': 1, '$CHRS': 1, '$ALT': 1, '$ADAP': 3, '$NOVA': 1, '$LEN': 1, '$MYT': 3, '$CNET': 1, '$CFAC': 1, '$ORGN': 1, '$AHAC': 1, '$HUMA,': 1, '$DOGZ': 1, '$PETZ': 3, '$PLIN': 1, '$AKU': 1, '$GOLD)': 1, '$MTB': 1, '$GOGO': 3, '$ENBL': 5, '$INTC': 1, '$RCL': 2, '$LI': 1, '$QTT': 2, '$AMAT': 3, '$GDDY': 1, '$IO': 3, '$JCI…': 1, '$EA': 2, '$TTWO': 2, '$DVA': 1, '$ACRX': 2, '$CBOE…': 1, '#Lucid': 1, '$WATT': 1, '#patent': 1, '$EPSN': 1, '$AMYT': 1, '$BEAM': 2, '$GMTX': 1, '$HHC': 1, '$IPWR': 1, '$SCPS': 1, '$TENB': 2, '$TLMD': 1, '$TRX': 1, '$TVTX…': 1, '$AXP': 3, '$BB': 6, '$ELY': 2, '$GLUU': 1, '$MMP': 1, '$MSGE': 1, '$NBLX': 2, '$NOAH': 1, '$PLCE': 2, '$RSG': 1, '$UBX': 1, '$ADS': 1, '$BP': 3, '$BL': 2, '$CDAY': 1, '$CEQP': 1, '$CTAS': 1, '$ETN': 2, '$FWRD': 1, '$GT': 1, '$MMYT': 1, '$MPLX': 1, '$PLAN': 3, '$RRC': 1, '$SQM': 2, '$TEX': 1, '$WISH': 1, '$XOG': 1, '$PANW': 2, '$ADi': 1, '$GRMn': 1, '$GPC…': 1, '$PCYG': 1, '$ACC': 1, '$DVN…': 1, '$YNDX': 2, '$LBTYA': 1, '$MCK': 2, '$AEGN': 2, '$FORD': 1, '$CASI': 1, '$TPR': 1, '$NBEV': 1, '$MILE': 1, '$HEPA': 1, '$GMDA': 1, '$CHAA': 1, '$BPTH': 1, '$AUTL': 1, '$ARAV': 1, '$ANIX': 1, '$UAL': 1, '$VYNE': 3, '$SNSS': 1, '$NVAX': 1, '$KALA': 1, '$EVFM': 15, '$GME.': 1, '$SNOW': 1, '#CRYPTO,': 2, '$SNBR,': 1, '#GiddyUp': 9, '$APHA': 4, '$SP…': 1, '$WFC…': 1, '#UnusualActivity': 12, '$lode': 1, '$VGX': 1, '$DNN': 10, '#wednesdaythought': 1, '#wednesdaymotivations…': 1, '$THS': 2, '#UOA': 2, '#DDA': 1, '#Educay!': 1, '#Motivational': 1, '#wallstreetbets': 2, '$SSYS': 2, '$BTBT': 3, '$MA…': 1, '$ACTG': 2, '$FLEX': 2, '$ITP': 3, '#TheTake': 1, '#Friday': 1, '#FromTheTradingFloors': 1, '#MinnesotaMood': 1, '#KeepGrinding': 1, '#PetePrinciples': 1, '$DNN!!': 1, '$SNDL…': 1, '#GiddyUpUpUp': 2, '#GoGophs': 1, '$XLF.': 2, '$TGT,': 1, '$TJX,': 1, '$MIK,': 1, '#GiddyUp,': 1, '$UPS': 2, '#HEXO': 2, '$ZOM': 3, '#Commander': 1, '#LetsGet…': 1, '$RLLCF': 3, '$CHOLF': 2, '$DFIFF': 2, '$YI': 2, '$VYGVF': 2, '$VIVEF': 2, '$sens.': 1, '$uoa': 1, '#Gold': 7, '#winter': 1, '#snow': 1, '#tuesdaymotivations': 2, '#tuesdayvibe': 1, '#investors': 1, '#cryptocurrency': 1, '#wallstreetbets:': 1, '#petesprincipled': 1, '#Giddyup': 1, '$MRVI': 1, '$CERT': 1, '$PCG': 2, '$DHR': 1, '$CHTR': 2, '$GOOG': 7, '$BURL': 1, '$INTU': 2, '$ADBE': 1, '$ABT': 1, '$V': 3, '$ACN': 1, '$ADSK': 1, '$EL': 2, '$SYK': 2, '$PM': 1, '$MKC': 1, '$PEP': 1, '$FRC': 1, '$RACE': 2, '$ISRG': 1, '$MASI': 2, '$BR': 1, '$BNKG': 1, '$TMUS': 2, '$SE': 1, '$NUAN': 1, '$EBAY': 2, '$UPWK': 1, '$DESP': 1, '$ORLY': 1, '$BAM': 1, '$AMT': 1, '$KMX': 1, '$MKL': 1, '$AON': 1, '$ECPG': 1, '$AMWD': 1, '$SSNC': 1, '$NVR': 1, '$HCA': 1, '$LIN': 2, '$BKNG': 1, '$NKE': 1, '$OTIS': 1, '$PG': 4, '$TDG': 1, '$MCO': 1, '$SHOP,': 1, '$NFLX,': 1, '$NVDA,': 1, '$ZM,': 1, '$MTCH,': 1, '$IDXX,…': 1, '$KMI': 1, '$DXCM': 1, '$FISV': 1, '$CASA': 1, '$MGI': 2, '$OEC…': 1, '$DXY': 1, '$LPTV': 1, '$VIX6M': 1, '$SFOR': 9, '$MKGP': 1, '$frog': 1, '$BOXL': 2, '$SFOR…': 1, '$OPK': 1, '$WIMI': 1, '#COVID19': 1, '#fsinsight': 1, '$OIH': 2, '$IW…': 1, '#energy': 1, '#DOW': 6, '#SPX': 6, '#NDX': 2, '#RTY': 2, '#VIX': 6, '#Ether': 15, '#BitcoinCash': 15, '#EOS': 14, '#Stellar…': 4, '#CRYPTO': 1, '#NASDAQ': 4, '#RUSSELL': 4, '#FANG': 2, '#IGOpeningCall': 2, '#Silver': 5, '#Platinum': 5, '#XAUUSD': 5, '#Commodities': 6, '#FTSE': 3, '#DAX': 3, '#CAC': 3, '#AEX': 3, '#MIB': 3, '#EURUSD': 5, '#GBPUSD': 5, '#USDJPY': 5, '#AUDUSD': 5, '#AUDJPY': 5, '#ASX200': 1, '$KNB': 1, '#oil': 1, '#NIKKEI': 3, '#ASX': 1, '#HSI': 1, '#HSHARES': 1, '#Aluminium': 1, '#Copper': 1, '#Nickel': 1, '#Lead': 1, '#Zinc': 1, '#Metals': 1, '$POAI': 1, '#yolo': 1, '$HEXO…': 2, '$SHIP.': 1, '$CYRX': 1, '$apps': 1, '$fubo': 1, '$FUBO…': 1, '$DM…': 1, '$ALDX': 14, '$SHIP…': 1, '$LOVE': 1, '$SENS…': 1, '$AMRN': 1, '$IZEA': 1, '$CYBR': 1, '$BLNK.': 1, '$CLX…': 1, '$FFTY': 1, '$FSLR': 1, '$BILL': 1, '$CMRX': 1, '#Futures': 4, '$MWK': 1, '$ENTG': 1, '$XLU': 2, '$STIM': 2, '$CRSR': 1, '$WMB': 1, '$SPI': 2, '$WYNN': 6, '$TDOC': 7, '$BKE': 1, '$ALGN': 1, '$SLQT': 1, '#BloombergCrypto': 2, '#Covid1…': 1, '#Coronavirus': 2, '#RoadtoNetZero': 1, '#bonds': 1, '#inflation': 1, '#SGBudget2021': 2, '$ELYS': 3, '$WERAMP': 2, '$NERD': 1, '$STUDY': 1, '$AACQ,': 2, '$CFAC…': 2, '$CVX,': 3, '$MMC,': 2, '$XONE': 2, '$HON': 2, '$SPY…': 2, '$NCLH': 6, '$CSGP': 5, '#Nasdaq': 1, '#SupDup': 49, '$BKLLF': 6, '#FastMoney': 14, '#WallStreet': 12, '#Stocks': 5, '#Money': 15, '$LTMCF': 3, '#Lithium': 1, '$HEC': 11, '$RMO,': 1, '$MS': 3, '$BMIX': 3, '$MRK': 4, '#SuperDuperMoney': 8, '#CNBC': 6, '$HECCW': 1, '#Phexxi': 1, '#Bitcoin…': 1, '#DJIA…': 1, '#SupDup…': 1, '#FinTwits': 6, '#Blockchain': 1, '#Penny': 1, '#Stock': 1, '$BKLFF': 1, '#Mining': 1, '$CURIW': 2, '$CDTX': 12, '$AJAX': 3, '#SupDupTeam': 3, '$TCON': 1, '$RMO': 2, '$OBMP': 1, '$CLVRW': 1, '$TAUG': 2, '#WallStreet…': 1, '$ETWO': 1, '$IVFH': 1, '$ATNF': 1, '#FastMoney…': 1, '#StockMarket': 1, '#SuperDuperMoney…': 1, '$GTCH': 1, '$ETSY': 1, '$OPTT': 2, '$SPCB': 1, '#TikTok.': 1, '$ATNX': 1, '$INPX': 3, '$SELB': 1, '$BLXX': 1, '$RMO…': 1, '$KODK': 1, '$PUGE': 1, '$SRMX': 1, '$BBI': 1, '$IDEX': 2, '$NSPR': 1, '$VLDR': 1, '$HCMC': 1, '$T': 3, '$RTX': 1, '$SLCA': 1, '$LH': 1, '$BLDP': 1, '$LULU': 1, '$QCOM': 1, '$SWI': 1, '$MOGO': 1, '#TheStreetLive,': 2, '$CRM…': 1, '$NETE': 1, '$DE': 1, '$CLPS': 2, '$TCNNF': 1, '$GSK': 2, '$WORK,': 1, '$QS.': 1, '$BK': 1, '$W…': 1, '$EGO?': 1, '$ZBISF': 1, \"$ARKW's\": 1, '$REEMF': 1, '$GE': 2, '$WBA': 2, '#Bitcoin.': 2, '$C,': 1, '#TheStreetLive': 1, '#Cannabis': 2, '#GermanBeer': 1, '$CRNT': 2, '$AMKR': 1, '#ChampionsLeague': 2, '#BayernMunich': 1, '$RIDE': 1, '#CRM': 3, '#AMD': 2, '#TLRY': 2, '#TheStrat.': 1, '$VIPS': 3, '#VIPS': 2, '#SPY': 2, '#FUBO': 1, '#AAPL': 2, '#HD': 1, '#GOOG': 2, '#NFLX': 1, '#AMZN': 2, '#FB': 2, '#IWM': 1, '#QQQ': 1, '$AES': 1, '$EMN': 1, '$FB…': 1, '#SNAP': 1, '#TWTR': 2, '$CURO': 1, '$LU': 1, '#Alert': 1, '#CRIS': 1, '#LLY': 1, '#CGC': 1, '$BTCUSD': 3, '#BYND': 1, '#Workshop': 1, '#Video': 1, '#Scan': 1, '#Char…': 1, '#barstoolfund': 2, '#GoBlue': 1, '$SCR': 1, '#DDTG': 4, '#BarstoolFund': 1, '#stillgoing.': 1, '$IMTE': 1, '$LGVW': 4, '#medicaldevices': 1, '$TDAC': 11, '$HTBC': 1, '#goals': 1, '$BEEM...Like': 1, '$LEXX': 3, '$TRIL': 1, '$CCIV?': 1, '$UVXY': 1, '#SUPER': 1, '$TDACW': 2, '$WKEY': 1, '$SUNW': 1, '$HFEN,': 1, '$ALTR': 1, '#StocksToWatch': 1, '$CEL': 1, '$CHIX': 1, '$CHII': 1, '$URNM': 2, '$MJ': 2, '$PRNT': 2, '$RING': 2, '$TAN': 3, '$KCE': 1, '$VRTS': 1, '$SF': 1, '$RJF': 1, '$LPLA': 2, '$KKR': 1, '$COWN': 1, '$ARES': 1, '$AMG': 1, '$WETF': 1, '$IVZ': 1, '$KRE': 2, '$WAL': 1, '$VLY': 1, '$TSC': 1, '$TBBK': 1, '$SIVB': 1, '$SBNY': 1, '$RF': 1, '$PNC': 2, '$PACW': 1, '$CUBI': 1, '$CIT': 1, '$BPFH': 1, '$XES': 1, '$SKYW': 1, '$MTN': 1, '$DRH': 1, '$PEB': 1, '$APLE': 1, '$ERJ': 1, '$YM_F': 1, '$PSJ': 2, '#SMH': 1, '$KBE': 1, '$XHE': 1, '$IHE': 1, '$REMX': 1, '$CHIM': 1, '$ITB': 1, '$XLP': 1, '$NKY': 2, '$DJIA': 1, '$NDX': 2, '$SSE': 1, '$SSEC': 1, '$ARKW': 1, '$KOMP': 1, '$IWC': 1, '$IBUY': 1, '$CHIQ': 1, '$SOCL': 1, '$KURE': 1, '$BBH': 1, '$GAMR': 1, '$ECNS': 1, '$CQQQ': 1, '$PIPR': 1, '$BAK': 1, '$INSW': 1, '$FTNT': 1, '$YUMC': 1, '$PPD': 1, '$EUFN)': 1, '$TNK': 1, '$FLS': 1, '$NVO': 1, '$EDEN': 1, '$ADM': 1, '$CCL': 9, '#daytrading': 4, '#swingtrading': 4, '$eh': 1, '$lk': 1, '$ASAN': 1, '#IBDpartner.': 3, '$chwy': 1, '$CPG': 1, '$RDS.A': 1, '$RDS.B': 1, '$BITCOIN…': 1, '$HOG': 1, '$DIS…': 1, '$CHK': 1, '$SDC': 1, '$NSRGY': 1, '$TNAV': 1, '$JBLU': 1, '$LOW': 1, '$QSR': 1, '$CMG': 1, '$VWAGY': 1, '$NSANY': 1, '$TM': 1, '$LDOS': 1, '$NTDOY': 1, '$UBSFY': 1, '$OTGLY…': 1, '$ZS': 1, '$GPS': 1, '$ACB': 1, '$TSNP': 5, '$DLOC': 1, '$OZSC': 1, '$AITX': 2, '$ENZC': 2, '$HQGE': 2, '$LTNC': 3, '$TSNP,': 1, '$tsnp': 1, '$AABB': 6, '$WKSP': 1, '$BTSC': 1, '$MAXD': 2, '$APYP': 1, '$IQST': 1, '#GameStop': 1, '#HedgeFunds': 1, '#ShortSqueeze…': 1, '#riprush': 1, '#RIP': 1, '#rushlimbaugh': 1, '$SIML': 1, '$NEOM': 1, '$GAXY': 1, '$OZSC…': 1, '$SANP': 1, '$AFPW.': 1, '$CLIS': 1, '#bitcoin…': 1, '$KNOS': 1, '$RLLCF…': 1, '$AACQW': 1, '$PTVCB': 1, '$TRCH…': 1, '$IPIX': 1, '#ARK': 4, '$SU': 1, '$NXTD': 1, '$AQUA': 1, '$GERN': 1, '$GSKY': 3, '$RTY': 1, '$MXEF': 1, '$ARW': 1, '$ASIX': 1, '$Put/Call:': 1, '$USB': 1, '$COP': 1, '$XIN': 2, '$VFF': 1, '$ITP,': 1, '$ATHX': 1, '$JCI': 1, '$OPRA': 1, '$YRD': 1, '$NMTR': 1, '$TECK': 1, '$PRTS': 1, '$NCNO': 1, '$CNHI': 1, '$MGA': 1, '$NXPI': 1, '$ST': 1, '$TEL': 1, '$BWA': 1, '#BarkBox': 1, '$SGEN': 1, '#Bitcoin:': 1, '$TTM': 1, '$MNST': 1, '$PDD,': 1, '$PDD': 1, '$BGCP': 1, '$STLA': 1, '$X…': 1, '$SPHB': 1, '$SPLV': 1, '$QQQ.': 1, '$TMO…': 1, '$JNJ': 1, '$SLV': 3, '#mech': 1, '#ppi': 1, '#escooters': 1, '#smartmobility': 1, '#BlackHistoryMonth,': 1, '#TheClose': 1, '$IMVT': 1, '$ONTX': 1, '$ZNGA': 1, '$CCJ': 1, '$ARKF': 1, '$GILT': 1, '$ORTX': 1, '$GLPG': 1, '$OCGN': 1, '$TLRY…': 1, '#ETH,': 1, '#VGX': 1, '#btc': 1, '#Options': 1, '#Caterpillar': 2, '$CAT-': 1, '#Financials': 1, '$RYF': 1}\n"
     ]
    }
   ],
   "source": [
    "def word_count2(str):\n",
    "    counts = dict()\n",
    "    words = top_stocks #change this value to output for NLP results\n",
    "\n",
    "    for word in words:\n",
    "        if word in counts:\n",
    "            counts[word] += 1\n",
    "        else:\n",
    "            counts[word] = 1\n",
    "\n",
    "    return counts\n",
    "\n",
    "data = print(word_count2(words_collection2)) \n"
   ]
  },
  {
   "cell_type": "code",
   "execution_count": 144,
   "id": "quarterly-homework",
   "metadata": {},
   "outputs": [
    {
     "data": {
      "text/html": [
       "<div>\n",
       "<style scoped>\n",
       "    .dataframe tbody tr th:only-of-type {\n",
       "        vertical-align: middle;\n",
       "    }\n",
       "\n",
       "    .dataframe tbody tr th {\n",
       "        vertical-align: top;\n",
       "    }\n",
       "\n",
       "    .dataframe thead th {\n",
       "        text-align: right;\n",
       "    }\n",
       "</style>\n",
       "<table border=\"1\" class=\"dataframe\">\n",
       "  <thead>\n",
       "    <tr style=\"text-align: right;\">\n",
       "      <th></th>\n",
       "      <th>Ticker</th>\n",
       "      <th>Frequency</th>\n",
       "    </tr>\n",
       "  </thead>\n",
       "  <tbody>\n",
       "    <tr>\n",
       "      <th>0</th>\n",
       "      <td>pltr</td>\n",
       "      <td>79</td>\n",
       "    </tr>\n",
       "    <tr>\n",
       "      <th>1</th>\n",
       "      <td>bitcoin</td>\n",
       "      <td>75</td>\n",
       "    </tr>\n",
       "    <tr>\n",
       "      <th>2</th>\n",
       "      <td>tsla</td>\n",
       "      <td>70</td>\n",
       "    </tr>\n",
       "    <tr>\n",
       "      <th>3</th>\n",
       "      <td>cciv</td>\n",
       "      <td>66</td>\n",
       "    </tr>\n",
       "    <tr>\n",
       "      <th>4</th>\n",
       "      <td>epsbeat</td>\n",
       "      <td>66</td>\n",
       "    </tr>\n",
       "    <tr>\n",
       "      <th>5</th>\n",
       "      <td>stocks</td>\n",
       "      <td>61</td>\n",
       "    </tr>\n",
       "    <tr>\n",
       "      <th>6</th>\n",
       "      <td>btc</td>\n",
       "      <td>60</td>\n",
       "    </tr>\n",
       "    <tr>\n",
       "      <th>7</th>\n",
       "      <td>economy</td>\n",
       "      <td>53</td>\n",
       "    </tr>\n",
       "    <tr>\n",
       "      <th>8</th>\n",
       "      <td>aei</td>\n",
       "      <td>53</td>\n",
       "    </tr>\n",
       "    <tr>\n",
       "      <th>9</th>\n",
       "      <td>aapl</td>\n",
       "      <td>52</td>\n",
       "    </tr>\n",
       "  </tbody>\n",
       "</table>\n",
       "</div>"
      ],
      "text/plain": [
       "    Ticker  Frequency\n",
       "0     pltr         79\n",
       "1  bitcoin         75\n",
       "2     tsla         70\n",
       "3     cciv         66\n",
       "4  epsbeat         66\n",
       "5   stocks         61\n",
       "6      btc         60\n",
       "7  economy         53\n",
       "8      aei         53\n",
       "9     aapl         52"
      ]
     },
     "execution_count": 144,
     "metadata": {},
     "output_type": "execute_result"
    }
   ],
   "source": [
    "#ticker with NLP results & wordcounts\n",
    "dd2=word_counts\n",
    "sorted_dd2=sorted(dd2.items(),key=lambda x: x[1], reverse=True)\n",
    "sorted_df2=pd.DataFrame(sorted_dd2, columns=['Ticker', 'Frequency'])\n",
    "sorted_df2.head(10)"
   ]
  },
  {
   "cell_type": "code",
   "execution_count": 145,
   "id": "herbal-domain",
   "metadata": {},
   "outputs": [
    {
     "data": {
      "text/html": [
       "<div>\n",
       "<style scoped>\n",
       "    .dataframe tbody tr th:only-of-type {\n",
       "        vertical-align: middle;\n",
       "    }\n",
       "\n",
       "    .dataframe tbody tr th {\n",
       "        vertical-align: top;\n",
       "    }\n",
       "\n",
       "    .dataframe thead th {\n",
       "        text-align: right;\n",
       "    }\n",
       "</style>\n",
       "<table border=\"1\" class=\"dataframe\">\n",
       "  <thead>\n",
       "    <tr style=\"text-align: right;\">\n",
       "      <th></th>\n",
       "      <th>Ticker</th>\n",
       "      <th>Frequency</th>\n",
       "    </tr>\n",
       "  </thead>\n",
       "  <tbody>\n",
       "    <tr>\n",
       "      <th>0</th>\n",
       "      <td>$PLTR</td>\n",
       "      <td>77</td>\n",
       "    </tr>\n",
       "    <tr>\n",
       "      <th>1</th>\n",
       "      <td>$TSLA</td>\n",
       "      <td>66</td>\n",
       "    </tr>\n",
       "    <tr>\n",
       "      <th>2</th>\n",
       "      <td>#epsbeat</td>\n",
       "      <td>66</td>\n",
       "    </tr>\n",
       "    <tr>\n",
       "      <th>3</th>\n",
       "      <td>$CCIV</td>\n",
       "      <td>65</td>\n",
       "    </tr>\n",
       "    <tr>\n",
       "      <th>4</th>\n",
       "      <td>#Bitcoin</td>\n",
       "      <td>54</td>\n",
       "    </tr>\n",
       "    <tr>\n",
       "      <th>5</th>\n",
       "      <td>#stocks</td>\n",
       "      <td>54</td>\n",
       "    </tr>\n",
       "    <tr>\n",
       "      <th>6</th>\n",
       "      <td>#economy</td>\n",
       "      <td>53</td>\n",
       "    </tr>\n",
       "    <tr>\n",
       "      <th>7</th>\n",
       "      <td>$AEI</td>\n",
       "      <td>53</td>\n",
       "    </tr>\n",
       "    <tr>\n",
       "      <th>8</th>\n",
       "      <td>#SupDup</td>\n",
       "      <td>49</td>\n",
       "    </tr>\n",
       "    <tr>\n",
       "      <th>9</th>\n",
       "      <td>#markets</td>\n",
       "      <td>46</td>\n",
       "    </tr>\n",
       "  </tbody>\n",
       "</table>\n",
       "</div>"
      ],
      "text/plain": [
       "     Ticker  Frequency\n",
       "0     $PLTR         77\n",
       "1     $TSLA         66\n",
       "2  #epsbeat         66\n",
       "3     $CCIV         65\n",
       "4  #Bitcoin         54\n",
       "5   #stocks         54\n",
       "6  #economy         53\n",
       "7      $AEI         53\n",
       "8   #SupDup         49\n",
       "9  #markets         46"
      ]
     },
     "execution_count": 145,
     "metadata": {},
     "output_type": "execute_result"
    }
   ],
   "source": [
    "#Tickers with our old code results\n",
    "dd2=word_count2(words_collection2)\n",
    "sorted_dd2=sorted(dd2.items(),key=lambda x: x[1], reverse=True)\n",
    "sorted_df2=pd.DataFrame(sorted_dd2, columns=['Ticker', 'Frequency'])\n",
    "sorted_df2.head(10)"
   ]
  },
  {
   "cell_type": "code",
   "execution_count": null,
   "id": "posted-senegal",
   "metadata": {},
   "outputs": [],
   "source": []
  }
 ],
 "metadata": {
  "kernelspec": {
   "display_name": "Python [conda env:pyvizenv]",
   "language": "python",
   "name": "conda-env-pyvizenv-py"
  },
  "language_info": {
   "codemirror_mode": {
    "name": "ipython",
    "version": 3
   },
   "file_extension": ".py",
   "mimetype": "text/x-python",
   "name": "python",
   "nbconvert_exporter": "python",
   "pygments_lexer": "ipython3",
   "version": "3.7.7"
  }
 },
 "nbformat": 4,
 "nbformat_minor": 5
}
