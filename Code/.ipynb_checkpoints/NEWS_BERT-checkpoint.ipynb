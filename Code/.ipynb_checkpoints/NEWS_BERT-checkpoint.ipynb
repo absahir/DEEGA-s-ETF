{
 "cells": [
  {
   "cell_type": "code",
   "execution_count": 1,
   "metadata": {},
   "outputs": [],
   "source": [
    "# Initial Imports\n",
    "import numpy as np\n",
    "from pathlib import Path\n",
    "import pandas as pd\n",
    "import tensorflow as tf\n",
    "import ktrain\n",
    "from ktrain import text"
   ]
  },
  {
   "cell_type": "code",
   "execution_count": 2,
   "metadata": {},
   "outputs": [
    {
     "data": {
      "text/html": [
       "<div>\n",
       "<style scoped>\n",
       "    .dataframe tbody tr th:only-of-type {\n",
       "        vertical-align: middle;\n",
       "    }\n",
       "\n",
       "    .dataframe tbody tr th {\n",
       "        vertical-align: top;\n",
       "    }\n",
       "\n",
       "    .dataframe thead th {\n",
       "        text-align: right;\n",
       "    }\n",
       "</style>\n",
       "<table border=\"1\" class=\"dataframe\">\n",
       "  <thead>\n",
       "    <tr style=\"text-align: right;\">\n",
       "      <th></th>\n",
       "      <th>Unnamed: 0</th>\n",
       "      <th>text</th>\n",
       "      <th>text_sent</th>\n",
       "    </tr>\n",
       "  </thead>\n",
       "  <tbody>\n",
       "    <tr>\n",
       "      <th>0</th>\n",
       "      <td>0</td>\n",
       "      <td>The crypto bull market remains in full throttl...</td>\n",
       "      <td>1</td>\n",
       "    </tr>\n",
       "    <tr>\n",
       "      <th>1</th>\n",
       "      <td>1</td>\n",
       "      <td>Mairs &amp;amp; Power, an investment management fi...</td>\n",
       "      <td>1</td>\n",
       "    </tr>\n",
       "    <tr>\n",
       "      <th>2</th>\n",
       "      <td>2</td>\n",
       "      <td>Nvidia  (NVDA) - Get Report has been a bit of ...</td>\n",
       "      <td>1</td>\n",
       "    </tr>\n",
       "    <tr>\n",
       "      <th>3</th>\n",
       "      <td>3</td>\n",
       "      <td>You can only hate and love so much. The love f...</td>\n",
       "      <td>1</td>\n",
       "    </tr>\n",
       "    <tr>\n",
       "      <th>4</th>\n",
       "      <td>4</td>\n",
       "      <td>Nvidia Corp.s stock and the broader chip secto...</td>\n",
       "      <td>1</td>\n",
       "    </tr>\n",
       "    <tr>\n",
       "      <th>...</th>\n",
       "      <td>...</td>\n",
       "      <td>...</td>\n",
       "      <td>...</td>\n",
       "    </tr>\n",
       "    <tr>\n",
       "      <th>575</th>\n",
       "      <td>15</td>\n",
       "      <td>Google must allow workers at one of its data c...</td>\n",
       "      <td>1</td>\n",
       "    </tr>\n",
       "    <tr>\n",
       "      <th>576</th>\n",
       "      <td>16</td>\n",
       "      <td>BTIG analyst Mark Palmer initiated coverage of...</td>\n",
       "      <td>1</td>\n",
       "    </tr>\n",
       "    <tr>\n",
       "      <th>577</th>\n",
       "      <td>17</td>\n",
       "      <td>The National Labor Relations Board on Thursday...</td>\n",
       "      <td>-1</td>\n",
       "    </tr>\n",
       "    <tr>\n",
       "      <th>578</th>\n",
       "      <td>18</td>\n",
       "      <td>Tesla Inc. is expected to report first-quarter...</td>\n",
       "      <td>-1</td>\n",
       "    </tr>\n",
       "    <tr>\n",
       "      <th>579</th>\n",
       "      <td>19</td>\n",
       "      <td>Miami Mayor Francis Suarez wants the federal g...</td>\n",
       "      <td>1</td>\n",
       "    </tr>\n",
       "  </tbody>\n",
       "</table>\n",
       "<p>580 rows × 3 columns</p>\n",
       "</div>"
      ],
      "text/plain": [
       "     Unnamed: 0                                               text  text_sent\n",
       "0             0  The crypto bull market remains in full throttl...          1\n",
       "1             1  Mairs &amp; Power, an investment management fi...          1\n",
       "2             2  Nvidia  (NVDA) - Get Report has been a bit of ...          1\n",
       "3             3  You can only hate and love so much. The love f...          1\n",
       "4             4  Nvidia Corp.s stock and the broader chip secto...          1\n",
       "..          ...                                                ...        ...\n",
       "575          15  Google must allow workers at one of its data c...          1\n",
       "576          16  BTIG analyst Mark Palmer initiated coverage of...          1\n",
       "577          17  The National Labor Relations Board on Thursday...         -1\n",
       "578          18  Tesla Inc. is expected to report first-quarter...         -1\n",
       "579          19  Miami Mayor Francis Suarez wants the federal g...          1\n",
       "\n",
       "[580 rows x 3 columns]"
      ]
     },
     "execution_count": 2,
     "metadata": {},
     "output_type": "execute_result"
    }
   ],
   "source": [
    "# Read into CSV of Sentiments From Previous Notebook\n",
    "file_path = Path(\"Resources/Sentiments.csv\")\n",
    "Sentiments_df = pd.read_csv(file_path)\n",
    "Sentiments_df"
   ]
  },
  {
   "cell_type": "code",
   "execution_count": 3,
   "metadata": {},
   "outputs": [],
   "source": [
    "# Select the wanted columns\n",
    "Sentiments_data = Sentiments_df[['text', 'text_sent']]\n",
    "\n",
    "from sklearn.model_selection import train_test_split\n",
    "\n",
    "# split the data into train and test set\n",
    "train, test = train_test_split(Sentiments_data, test_size=0.3, random_state=42, shuffle=False)"
   ]
  },
  {
   "cell_type": "code",
   "execution_count": 4,
   "metadata": {},
   "outputs": [],
   "source": [
    "# Determine the path where to save the train and test file\n",
    "train_path = Path(\"Resources/train.csv\")\n",
    "test_path = Path(\"Resources/test.csv\")\n",
    "\n",
    "# Save the train and test file\n",
    "\n",
    "train.to_csv(train_path, index=False)\n",
    "test.to_csv(test_path, index=False)"
   ]
  },
  {
   "cell_type": "code",
   "execution_count": 5,
   "metadata": {},
   "outputs": [],
   "source": [
    "# Read into dataframe\n",
    "data_train = pd.read_csv(\"Resources/train.csv\")\n",
    "data_test = pd.read_csv(\"Resources/test.csv\")"
   ]
  },
  {
   "cell_type": "code",
   "execution_count": 6,
   "metadata": {},
   "outputs": [
    {
     "data": {
      "text/html": [
       "<div>\n",
       "<style scoped>\n",
       "    .dataframe tbody tr th:only-of-type {\n",
       "        vertical-align: middle;\n",
       "    }\n",
       "\n",
       "    .dataframe tbody tr th {\n",
       "        vertical-align: top;\n",
       "    }\n",
       "\n",
       "    .dataframe thead th {\n",
       "        text-align: right;\n",
       "    }\n",
       "</style>\n",
       "<table border=\"1\" class=\"dataframe\">\n",
       "  <thead>\n",
       "    <tr style=\"text-align: right;\">\n",
       "      <th></th>\n",
       "      <th>text</th>\n",
       "      <th>text_sent</th>\n",
       "    </tr>\n",
       "  </thead>\n",
       "  <tbody>\n",
       "    <tr>\n",
       "      <th>0</th>\n",
       "      <td>Losses that triggered the liquidation of posit...</td>\n",
       "      <td>-1</td>\n",
       "    </tr>\n",
       "    <tr>\n",
       "      <th>1</th>\n",
       "      <td>Three major omnichannel entertainment giants w...</td>\n",
       "      <td>1</td>\n",
       "    </tr>\n",
       "    <tr>\n",
       "      <th>2</th>\n",
       "      <td>Financial markets remained somewhat volatile o...</td>\n",
       "      <td>-1</td>\n",
       "    </tr>\n",
       "    <tr>\n",
       "      <th>3</th>\n",
       "      <td>Smead Capital Management, an investment manage...</td>\n",
       "      <td>1</td>\n",
       "    </tr>\n",
       "    <tr>\n",
       "      <th>4</th>\n",
       "      <td>SILVER SPRING, Md., March 26, 2021 /PRNewswire...</td>\n",
       "      <td>1</td>\n",
       "    </tr>\n",
       "    <tr>\n",
       "      <th>...</th>\n",
       "      <td>...</td>\n",
       "      <td>...</td>\n",
       "    </tr>\n",
       "    <tr>\n",
       "      <th>169</th>\n",
       "      <td>Google must allow workers at one of its data c...</td>\n",
       "      <td>1</td>\n",
       "    </tr>\n",
       "    <tr>\n",
       "      <th>170</th>\n",
       "      <td>BTIG analyst Mark Palmer initiated coverage of...</td>\n",
       "      <td>1</td>\n",
       "    </tr>\n",
       "    <tr>\n",
       "      <th>171</th>\n",
       "      <td>The National Labor Relations Board on Thursday...</td>\n",
       "      <td>-1</td>\n",
       "    </tr>\n",
       "    <tr>\n",
       "      <th>172</th>\n",
       "      <td>Tesla Inc. is expected to report first-quarter...</td>\n",
       "      <td>-1</td>\n",
       "    </tr>\n",
       "    <tr>\n",
       "      <th>173</th>\n",
       "      <td>Miami Mayor Francis Suarez wants the federal g...</td>\n",
       "      <td>1</td>\n",
       "    </tr>\n",
       "  </tbody>\n",
       "</table>\n",
       "<p>174 rows × 2 columns</p>\n",
       "</div>"
      ],
      "text/plain": [
       "                                                  text  text_sent\n",
       "0    Losses that triggered the liquidation of posit...         -1\n",
       "1    Three major omnichannel entertainment giants w...          1\n",
       "2    Financial markets remained somewhat volatile o...         -1\n",
       "3    Smead Capital Management, an investment manage...          1\n",
       "4    SILVER SPRING, Md., March 26, 2021 /PRNewswire...          1\n",
       "..                                                 ...        ...\n",
       "169  Google must allow workers at one of its data c...          1\n",
       "170  BTIG analyst Mark Palmer initiated coverage of...          1\n",
       "171  The National Labor Relations Board on Thursday...         -1\n",
       "172  Tesla Inc. is expected to report first-quarter...         -1\n",
       "173  Miami Mayor Francis Suarez wants the federal g...          1\n",
       "\n",
       "[174 rows x 2 columns]"
      ]
     },
     "execution_count": 6,
     "metadata": {},
     "output_type": "execute_result"
    }
   ],
   "source": [
    "# Look into test dataframe\n",
    "data_test"
   ]
  },
  {
   "cell_type": "code",
   "execution_count": 7,
   "metadata": {},
   "outputs": [
    {
     "data": {
      "text/html": [
       "<div>\n",
       "<style scoped>\n",
       "    .dataframe tbody tr th:only-of-type {\n",
       "        vertical-align: middle;\n",
       "    }\n",
       "\n",
       "    .dataframe tbody tr th {\n",
       "        vertical-align: top;\n",
       "    }\n",
       "\n",
       "    .dataframe thead th {\n",
       "        text-align: right;\n",
       "    }\n",
       "</style>\n",
       "<table border=\"1\" class=\"dataframe\">\n",
       "  <thead>\n",
       "    <tr style=\"text-align: right;\">\n",
       "      <th></th>\n",
       "      <th>text</th>\n",
       "      <th>text_sent</th>\n",
       "    </tr>\n",
       "  </thead>\n",
       "  <tbody>\n",
       "    <tr>\n",
       "      <th>0</th>\n",
       "      <td>The crypto bull market remains in full throttl...</td>\n",
       "      <td>1</td>\n",
       "    </tr>\n",
       "    <tr>\n",
       "      <th>1</th>\n",
       "      <td>Mairs &amp;amp; Power, an investment management fi...</td>\n",
       "      <td>1</td>\n",
       "    </tr>\n",
       "    <tr>\n",
       "      <th>2</th>\n",
       "      <td>Nvidia  (NVDA) - Get Report has been a bit of ...</td>\n",
       "      <td>1</td>\n",
       "    </tr>\n",
       "    <tr>\n",
       "      <th>3</th>\n",
       "      <td>You can only hate and love so much. The love f...</td>\n",
       "      <td>1</td>\n",
       "    </tr>\n",
       "    <tr>\n",
       "      <th>4</th>\n",
       "      <td>Nvidia Corp.s stock and the broader chip secto...</td>\n",
       "      <td>1</td>\n",
       "    </tr>\n",
       "    <tr>\n",
       "      <th>...</th>\n",
       "      <td>...</td>\n",
       "      <td>...</td>\n",
       "    </tr>\n",
       "    <tr>\n",
       "      <th>401</th>\n",
       "      <td>Gold futures were hit Tuesday by rising bond y...</td>\n",
       "      <td>1</td>\n",
       "    </tr>\n",
       "    <tr>\n",
       "      <th>402</th>\n",
       "      <td>Stocks finished firmly higher Friday, capping ...</td>\n",
       "      <td>1</td>\n",
       "    </tr>\n",
       "    <tr>\n",
       "      <th>403</th>\n",
       "      <td>ViacomCBS Inc. shares are on track to snap a f...</td>\n",
       "      <td>1</td>\n",
       "    </tr>\n",
       "    <tr>\n",
       "      <th>404</th>\n",
       "      <td>Wall Street on Tuesday may be seeing muted act...</td>\n",
       "      <td>1</td>\n",
       "    </tr>\n",
       "    <tr>\n",
       "      <th>405</th>\n",
       "      <td>Shares of ViacomCBS Inc. kept plunging Friday,...</td>\n",
       "      <td>-1</td>\n",
       "    </tr>\n",
       "  </tbody>\n",
       "</table>\n",
       "<p>406 rows × 2 columns</p>\n",
       "</div>"
      ],
      "text/plain": [
       "                                                  text  text_sent\n",
       "0    The crypto bull market remains in full throttl...          1\n",
       "1    Mairs &amp; Power, an investment management fi...          1\n",
       "2    Nvidia  (NVDA) - Get Report has been a bit of ...          1\n",
       "3    You can only hate and love so much. The love f...          1\n",
       "4    Nvidia Corp.s stock and the broader chip secto...          1\n",
       "..                                                 ...        ...\n",
       "401  Gold futures were hit Tuesday by rising bond y...          1\n",
       "402  Stocks finished firmly higher Friday, capping ...          1\n",
       "403  ViacomCBS Inc. shares are on track to snap a f...          1\n",
       "404  Wall Street on Tuesday may be seeing muted act...          1\n",
       "405  Shares of ViacomCBS Inc. kept plunging Friday,...         -1\n",
       "\n",
       "[406 rows x 2 columns]"
      ]
     },
     "execution_count": 7,
     "metadata": {},
     "output_type": "execute_result"
    }
   ],
   "source": [
    "# Look into train dataframe\n",
    "data_train"
   ]
  },
  {
   "cell_type": "code",
   "execution_count": 8,
   "metadata": {},
   "outputs": [
    {
     "name": "stdout",
     "output_type": "stream",
     "text": [
      "['not_text_sent', 'text_sent']\n",
      "   not_text_sent  text_sent\n",
      "0            0.0        1.0\n",
      "1            0.0        1.0\n",
      "2            0.0        1.0\n",
      "3            0.0        1.0\n",
      "4            0.0        1.0\n",
      "['not_text_sent', 'text_sent']\n",
      "   not_text_sent  text_sent\n",
      "0            0.0        1.0\n",
      "1            0.0        1.0\n",
      "2            0.0        1.0\n",
      "3            0.0        1.0\n",
      "4            0.0        1.0\n",
      "preprocessing train...\n",
      "language: en\n"
     ]
    },
    {
     "data": {
      "text/html": [
       "done."
      ],
      "text/plain": [
       "<IPython.core.display.HTML object>"
      ]
     },
     "metadata": {},
     "output_type": "display_data"
    },
    {
     "name": "stdout",
     "output_type": "stream",
     "text": [
      "Is Multi-Label? False\n",
      "preprocessing test...\n",
      "language: en\n"
     ]
    },
    {
     "data": {
      "text/html": [
       "done."
      ],
      "text/plain": [
       "<IPython.core.display.HTML object>"
      ]
     },
     "metadata": {},
     "output_type": "display_data"
    }
   ],
   "source": [
    "# Train the model\n",
    "(X_train, y_train), (X_test, y_test), preprocess = text.texts_from_df(train_df = data_train,\n",
    "                  text_column = 'text',\n",
    "                  label_columns = 'text_sent',\n",
    "                   val_df = data_test,\n",
    "                   maxlen = 400,\n",
    "                   preprocess_mode = 'bert')"
   ]
  },
  {
   "cell_type": "code",
   "execution_count": 9,
   "metadata": {},
   "outputs": [
    {
     "data": {
      "text/plain": [
       "(406, 400)"
      ]
     },
     "execution_count": 9,
     "metadata": {},
     "output_type": "execute_result"
    }
   ],
   "source": [
    "X_train[0].shape"
   ]
  },
  {
   "cell_type": "code",
   "execution_count": 10,
   "metadata": {},
   "outputs": [
    {
     "name": "stdout",
     "output_type": "stream",
     "text": [
      "Is Multi-Label? False\n",
      "maxlen is 400\n",
      "done.\n"
     ]
    }
   ],
   "source": [
    "# Create the model\n",
    "model = text.text_classifier(name = 'bert',\n",
    "                            train_data = (X_train, y_train),\n",
    "                            preproc = preprocess\n",
    "                            )"
   ]
  },
  {
   "cell_type": "code",
   "execution_count": 11,
   "metadata": {},
   "outputs": [],
   "source": [
    "# Get learning rate\n",
    "learner = ktrain.get_learner(model = model,\n",
    "                            train_data = (X_train, y_train),\n",
    "                            val_data = (X_test, y_test),\n",
    "                            batch_size = 12)"
   ]
  },
  {
   "cell_type": "code",
   "execution_count": 12,
   "metadata": {},
   "outputs": [
    {
     "name": "stdout",
     "output_type": "stream",
     "text": [
      "simulating training for different learning rates... this may take a few moments...\n",
      "Epoch 1/2\n",
      "34/34 [==============================] - 2856s 84s/step - loss: 0.1067 - accuracy: 1.0000\n",
      "Epoch 2/2\n",
      "34/34 [==============================] - 1856s 53s/step - loss: 0.8533 - accuracy: 0.9513\n",
      "\n",
      "\n",
      "done.\n",
      "Please invoke the Learner.lr_plot() method to visually inspect the loss plot to help identify the maximal learning rate associated with falling loss.\n"
     ]
    }
   ],
   "source": [
    "# Find and plot the learner rate\n",
    "# This takes a while to run\n",
    "learner.lr_find(max_epochs = 2)"
   ]
  },
  {
   "cell_type": "code",
   "execution_count": 13,
   "metadata": {},
   "outputs": [
    {
     "data": {
      "image/png": "[encoded data removed]",
      "text/plain": [
       "<Figure size 432x288 with 1 Axes>"
      ]
     },
     "metadata": {
      "needs_background": "light"
     },
     "output_type": "display_data"
    }
   ],
   "source": [
    "learner.lr_plot()"
   ]
  },
  {
   "cell_type": "code",
   "execution_count": 14,
   "metadata": {},
   "outputs": [
    {
     "name": "stdout",
     "output_type": "stream",
     "text": [
      "\n",
      "\n",
      "begin training using onecycle policy with max lr of 0.001...\n",
      "Epoch 1/2\n",
      "34/34 [==============================] - 2890s 85s/step - loss: 0.0047 - accuracy: 1.0000 - val_loss: 0.0000e+00 - val_accuracy: 1.0000\n",
      "Epoch 2/2\n",
      "34/34 [==============================] - 2806s 83s/step - loss: 0.0000e+00 - accuracy: 1.0000 - val_loss: 0.0000e+00 - val_accuracy: 1.0000\n"
     ]
    },
    {
     "data": {
      "text/plain": [
       "<tensorflow.python.keras.callbacks.History at 0x277814bb448>"
      ]
     },
     "execution_count": 14,
     "metadata": {},
     "output_type": "execute_result"
    }
   ],
   "source": [
    "# Fit the model\n",
    "# the lr instance was found in the previous line\n",
    "learner.fit_onecycle(lr = .001, epochs = 2)"
   ]
  },
  {
   "cell_type": "code",
   "execution_count": 15,
   "metadata": {},
   "outputs": [
    {
     "data": {
      "text/plain": [
       "<ktrain.text.learner.BERTTextClassLearner at 0x277f4bef988>"
      ]
     },
     "execution_count": 15,
     "metadata": {},
     "output_type": "execute_result"
    }
   ],
   "source": [
    "# Just to see if the model finished running\n",
    "learner"
   ]
  },
  {
   "cell_type": "code",
   "execution_count": 16,
   "metadata": {},
   "outputs": [],
   "source": [
    "# Now run the predictor instance\n",
    "predictor = ktrain.get_predictor(learner.model, preprocess)"
   ]
  },
  {
   "cell_type": "code",
   "execution_count": 43,
   "metadata": {},
   "outputs": [],
   "source": [
    "# Save the model\n",
    "#predictor.save(\"Resources/NewsBERT\")"
   ]
  },
  {
   "cell_type": "code",
   "execution_count": 18,
   "metadata": {},
   "outputs": [],
   "source": [
    "# To Load model\n",
    "# predictor = ktrain.load_predictor(\"Resources/NewsBERT\")"
   ]
  },
  {
   "cell_type": "code",
   "execution_count": 29,
   "metadata": {},
   "outputs": [
    {
     "data": {
      "text/plain": [
       "Unnamed: 0     int64\n",
       "text          object\n",
       "text_sent      int64\n",
       "dtype: object"
      ]
     },
     "execution_count": 29,
     "metadata": {},
     "output_type": "execute_result"
    }
   ],
   "source": [
    "Sentiments_df.dtypes"
   ]
  },
  {
   "cell_type": "code",
   "execution_count": 31,
   "metadata": {},
   "outputs": [
    {
     "data": {
      "text/plain": [
       "'0      The crypto bull market remains in full throttl...\\n1      Mairs &amp; Power, an investment management fi...\\n2      Nvidia\\xa0 (NVDA) - Get Report\\xa0has been a bit of ...\\n3      You can only hate and love so much. The love f...\\n4      Nvidia Corp.s stock and the broader chip secto...\\n                             ...                        \\n575    Google must allow workers at one of its data c...\\n576    BTIG analyst Mark Palmer initiated coverage of...\\n577    The National Labor Relations Board on Thursday...\\n578    Tesla Inc. is expected to report first-quarter...\\n579    Miami Mayor Francis Suarez wants the federal g...\\nName: text, Length: 580, dtype: object'"
      ]
     },
     "execution_count": 31,
     "metadata": {},
     "output_type": "execute_result"
    }
   ],
   "source": [
    "str(Sentiments_df[\"text\"])"
   ]
  },
  {
   "cell_type": "code",
   "execution_count": 44,
   "metadata": {},
   "outputs": [],
   "source": [
    "# Predict Data\n",
    "# predictor.predict(Sentiments_df[\"text\"].values)"
   ]
  },
  {
   "cell_type": "code",
   "execution_count": null,
   "metadata": {},
   "outputs": [],
   "source": []
  },
  {
   "cell_type": "code",
   "execution_count": null,
   "metadata": {},
   "outputs": [],
   "source": [
    "# Create a DataFrame of Actual and Predicted values\n",
    "#sentiments = pd.DataFrame({\"Text\": X_test, \"Actual\": y_test, \"Predicted\": predictor.ravel()})\n",
    "#sentiments"
   ]
  },
  {
   "cell_type": "code",
   "execution_count": null,
   "metadata": {},
   "outputs": [],
   "source": [
    "# Write to CSV\n",
    "#file_path = Path(\"Resources/Bert_Predicted_Sentiments.csv\")\n",
    "#sentiments.to_csv(file_path)"
   ]
  }
 ],
 "metadata": {
  "kernelspec": {
   "display_name": "Python [conda env:deeplearnenv]",
   "language": "python",
   "name": "conda-env-deeplearnenv-py"
  },
  "language_info": {
   "codemirror_mode": {
    "name": "ipython",
    "version": 3
   },
   "file_extension": ".py",
   "mimetype": "text/x-python",
   "name": "python",
   "nbconvert_exporter": "python",
   "pygments_lexer": "ipython3",
   "version": "3.7.9"
  }
 },
 "nbformat": 4,
 "nbformat_minor": 4
}
